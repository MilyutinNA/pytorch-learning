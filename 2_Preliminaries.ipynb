{
  "nbformat": 4,
  "nbformat_minor": 0,
  "metadata": {
    "colab": {
      "provenance": [],
      "authorship_tag": "ABX9TyMBv57hWK0ygvAx3095Dbtu",
      "include_colab_link": true
    },
    "kernelspec": {
      "name": "python3",
      "display_name": "Python 3"
    },
    "language_info": {
      "name": "python"
    }
  },
  "cells": [
    {
      "cell_type": "markdown",
      "metadata": {
        "id": "view-in-github",
        "colab_type": "text"
      },
      "source": [
        "<a href=\"https://colab.research.google.com/github/MilyutinNA/pytorch-learning/blob/main/2_Preliminaries.ipynb\" target=\"_parent\"><img src=\"https://colab.research.google.com/assets/colab-badge.svg\" alt=\"Open In Colab\"/></a>"
      ]
    },
    {
      "cell_type": "markdown",
      "source": [
        "# 2.1 Data Manipulation"
      ],
      "metadata": {
        "id": "14i-6OUn2okN"
      }
    },
    {
      "cell_type": "markdown",
      "source": [
        "# 2.1.1 Getting Started\n"
      ],
      "metadata": {
        "id": "I3n9TxlNkxt8"
      }
    },
    {
      "cell_type": "code",
      "execution_count": null,
      "metadata": {
        "id": "s8iup41eD9LJ"
      },
      "outputs": [],
      "source": [
        "import torch"
      ]
    },
    {
      "cell_type": "code",
      "source": [
        "x = torch.arange(12, dtype=torch.float32)\n",
        "x"
      ],
      "metadata": {
        "colab": {
          "base_uri": "https://localhost:8080/"
        },
        "id": "ROBu5fPUh41e",
        "outputId": "09f7bcdb-f20c-4694-f925-117337db5f0b"
      },
      "execution_count": null,
      "outputs": [
        {
          "output_type": "execute_result",
          "data": {
            "text/plain": [
              "tensor([ 0.,  1.,  2.,  3.,  4.,  5.,  6.,  7.,  8.,  9., 10., 11.])"
            ]
          },
          "metadata": {},
          "execution_count": 22
        }
      ]
    },
    {
      "cell_type": "code",
      "source": [
        "x.numel()"
      ],
      "metadata": {
        "colab": {
          "base_uri": "https://localhost:8080/"
        },
        "id": "mROzUxagie6z",
        "outputId": "be51e49d-5cc5-4d37-a4c1-9870ad078447"
      },
      "execution_count": null,
      "outputs": [
        {
          "output_type": "execute_result",
          "data": {
            "text/plain": [
              "12"
            ]
          },
          "metadata": {},
          "execution_count": 4
        }
      ]
    },
    {
      "cell_type": "code",
      "source": [
        "x.shape"
      ],
      "metadata": {
        "colab": {
          "base_uri": "https://localhost:8080/"
        },
        "id": "QZCNUc92ijtV",
        "outputId": "3e3a719a-dc80-40ef-c100-f64a8ba91e18"
      },
      "execution_count": null,
      "outputs": [
        {
          "output_type": "execute_result",
          "data": {
            "text/plain": [
              "torch.Size([12])"
            ]
          },
          "metadata": {},
          "execution_count": 6
        }
      ]
    },
    {
      "cell_type": "code",
      "source": [
        "X1 = x.reshape(3,4)\n",
        "X1"
      ],
      "metadata": {
        "colab": {
          "base_uri": "https://localhost:8080/"
        },
        "id": "TJaGACL7imrT",
        "outputId": "42c01037-a3ac-4446-c9af-e47e9a89e2d1"
      },
      "execution_count": null,
      "outputs": [
        {
          "output_type": "execute_result",
          "data": {
            "text/plain": [
              "tensor([[ 0.,  1.,  2.,  3.],\n",
              "        [ 4.,  5.,  6.,  7.],\n",
              "        [ 8.,  9., 10., 11.]])"
            ]
          },
          "metadata": {},
          "execution_count": 15
        }
      ]
    },
    {
      "cell_type": "code",
      "source": [
        "X1.shape"
      ],
      "metadata": {
        "colab": {
          "base_uri": "https://localhost:8080/"
        },
        "id": "0G7BPvf4iuZ_",
        "outputId": "ee97ccc4-17f5-4d8e-c69d-ab1ac4a66b25"
      },
      "execution_count": null,
      "outputs": [
        {
          "output_type": "execute_result",
          "data": {
            "text/plain": [
              "torch.Size([3, 4])"
            ]
          },
          "metadata": {},
          "execution_count": 16
        }
      ]
    },
    {
      "cell_type": "code",
      "source": [
        "X2 = x.reshape(-1,4)\n",
        "X2"
      ],
      "metadata": {
        "colab": {
          "base_uri": "https://localhost:8080/"
        },
        "id": "u-PY7PS6jBim",
        "outputId": "02b9065c-14bb-4e2c-9b86-bd94525ec483"
      },
      "execution_count": null,
      "outputs": [
        {
          "output_type": "execute_result",
          "data": {
            "text/plain": [
              "tensor([[ 0.,  1.,  2.,  3.],\n",
              "        [ 4.,  5.,  6.,  7.],\n",
              "        [ 8.,  9., 10., 11.]])"
            ]
          },
          "metadata": {},
          "execution_count": 9
        }
      ]
    },
    {
      "cell_type": "code",
      "source": [
        "torch.zeros((2, 3, 4))"
      ],
      "metadata": {
        "colab": {
          "base_uri": "https://localhost:8080/"
        },
        "id": "TcmeetdfjJpd",
        "outputId": "435365f7-0809-4aac-b9a4-536456307651"
      },
      "execution_count": null,
      "outputs": [
        {
          "output_type": "execute_result",
          "data": {
            "text/plain": [
              "tensor([[[0., 0., 0., 0.],\n",
              "         [0., 0., 0., 0.],\n",
              "         [0., 0., 0., 0.]],\n",
              "\n",
              "        [[0., 0., 0., 0.],\n",
              "         [0., 0., 0., 0.],\n",
              "         [0., 0., 0., 0.]]])"
            ]
          },
          "metadata": {},
          "execution_count": 10
        }
      ]
    },
    {
      "cell_type": "code",
      "source": [
        "torch.ones((2, 3, 4))"
      ],
      "metadata": {
        "colab": {
          "base_uri": "https://localhost:8080/"
        },
        "id": "z2GBzsC6jbfS",
        "outputId": "b16665c5-0246-48ae-fcd4-43a14849e4be"
      },
      "execution_count": null,
      "outputs": [
        {
          "output_type": "execute_result",
          "data": {
            "text/plain": [
              "tensor([[[1., 1., 1., 1.],\n",
              "         [1., 1., 1., 1.],\n",
              "         [1., 1., 1., 1.]],\n",
              "\n",
              "        [[1., 1., 1., 1.],\n",
              "         [1., 1., 1., 1.],\n",
              "         [1., 1., 1., 1.]]])"
            ]
          },
          "metadata": {},
          "execution_count": 12
        }
      ]
    },
    {
      "cell_type": "code",
      "source": [
        "torch.randn(3, 4)"
      ],
      "metadata": {
        "colab": {
          "base_uri": "https://localhost:8080/"
        },
        "id": "tCSpUpLxjcWG",
        "outputId": "0d6d5939-14f3-4ef5-cadf-66959cf6f400"
      },
      "execution_count": null,
      "outputs": [
        {
          "output_type": "execute_result",
          "data": {
            "text/plain": [
              "tensor([[ 1.6209,  0.0604,  0.5803, -0.8344],\n",
              "        [ 1.9828,  0.2932,  0.7634, -0.2548],\n",
              "        [-1.7657,  0.1356, -1.2654,  2.1025]])"
            ]
          },
          "metadata": {},
          "execution_count": 13
        }
      ]
    },
    {
      "cell_type": "code",
      "source": [
        "torch.tensor([[2, 1, 4, 3], [1, 2, 3, 4], [4, 3, 2, 1]])"
      ],
      "metadata": {
        "colab": {
          "base_uri": "https://localhost:8080/"
        },
        "id": "46yuL9PMjum9",
        "outputId": "8ff5f09d-045a-46d4-a4f5-83593313e7a9"
      },
      "execution_count": null,
      "outputs": [
        {
          "output_type": "execute_result",
          "data": {
            "text/plain": [
              "tensor([[2, 1, 4, 3],\n",
              "        [1, 2, 3, 4],\n",
              "        [4, 3, 2, 1]])"
            ]
          },
          "metadata": {},
          "execution_count": 14
        }
      ]
    },
    {
      "cell_type": "markdown",
      "source": [
        "\n",
        "\n",
        "> # 2.1.2 Indexing and Slicing"
      ],
      "metadata": {
        "id": "ZfiCnBAHk-xm"
      }
    },
    {
      "cell_type": "code",
      "source": [
        "X1[-1], X1[1:3]"
      ],
      "metadata": {
        "colab": {
          "base_uri": "https://localhost:8080/"
        },
        "id": "HI1x-WPUj6af",
        "outputId": "590a1d3b-355e-462c-992d-baf77ed1594c"
      },
      "execution_count": null,
      "outputs": [
        {
          "output_type": "execute_result",
          "data": {
            "text/plain": [
              "(tensor([ 8.,  9., 10., 11.]),\n",
              " tensor([[ 4.,  5.,  6.,  7.],\n",
              "         [ 8.,  9., 10., 11.]]))"
            ]
          },
          "metadata": {},
          "execution_count": 17
        }
      ]
    },
    {
      "cell_type": "code",
      "source": [
        "X1[1,2] = 17\n",
        "X1"
      ],
      "metadata": {
        "colab": {
          "base_uri": "https://localhost:8080/"
        },
        "id": "t78NjzKbkDgx",
        "outputId": "24171389-a6a8-48bb-e9ce-e4339abb2f47"
      },
      "execution_count": null,
      "outputs": [
        {
          "output_type": "execute_result",
          "data": {
            "text/plain": [
              "tensor([[ 0.,  1.,  2.,  3.],\n",
              "        [ 4.,  5., 17.,  7.],\n",
              "        [ 8.,  9., 10., 11.]])"
            ]
          },
          "metadata": {},
          "execution_count": 18
        }
      ]
    },
    {
      "cell_type": "code",
      "source": [
        "X1[:2, :] = 12\n",
        "X1"
      ],
      "metadata": {
        "colab": {
          "base_uri": "https://localhost:8080/"
        },
        "id": "Q4ZqYmX-kK6S",
        "outputId": "bf34f865-41a3-48ab-f254-bf564aaf3ee4"
      },
      "execution_count": null,
      "outputs": [
        {
          "output_type": "execute_result",
          "data": {
            "text/plain": [
              "tensor([[12., 12., 12., 12.],\n",
              "        [12., 12., 12., 12.],\n",
              "        [ 8.,  9., 10., 11.]])"
            ]
          },
          "metadata": {},
          "execution_count": 19
        }
      ]
    },
    {
      "cell_type": "code",
      "source": [
        "X1[:2, 1:3] = 3\n",
        "X1"
      ],
      "metadata": {
        "colab": {
          "base_uri": "https://localhost:8080/"
        },
        "id": "VlcE3B-pkMVl",
        "outputId": "489c63b9-8451-4418-9b0f-402f21a0645e"
      },
      "execution_count": null,
      "outputs": [
        {
          "output_type": "execute_result",
          "data": {
            "text/plain": [
              "tensor([[12.,  3.,  3., 12.],\n",
              "        [12.,  3.,  3., 12.],\n",
              "        [ 8.,  9., 10., 11.]])"
            ]
          },
          "metadata": {},
          "execution_count": 20
        }
      ]
    },
    {
      "cell_type": "markdown",
      "source": [
        "# 2.1.3 Operations"
      ],
      "metadata": {
        "id": "uiMBHj5alCzI"
      }
    },
    {
      "cell_type": "code",
      "source": [
        "x = torch.arange(12, dtype=torch.float32)\n",
        "x"
      ],
      "metadata": {
        "colab": {
          "base_uri": "https://localhost:8080/"
        },
        "id": "9if75Ke5kQGa",
        "outputId": "f0f66e8d-be9c-4928-8bd9-090e008a4c50"
      },
      "execution_count": null,
      "outputs": [
        {
          "output_type": "execute_result",
          "data": {
            "text/plain": [
              "tensor([ 0.,  1.,  2.,  3.,  4.,  5.,  6.,  7.,  8.,  9., 10., 11.])"
            ]
          },
          "metadata": {},
          "execution_count": 24
        }
      ]
    },
    {
      "cell_type": "code",
      "source": [
        "torch.exp(x)"
      ],
      "metadata": {
        "colab": {
          "base_uri": "https://localhost:8080/"
        },
        "id": "0U7NnEF9kPx7",
        "outputId": "14fbd13f-d27e-4ef0-d8a4-668cdecc93c6"
      },
      "execution_count": null,
      "outputs": [
        {
          "output_type": "execute_result",
          "data": {
            "text/plain": [
              "tensor([1.0000e+00, 2.7183e+00, 7.3891e+00, 2.0086e+01, 5.4598e+01, 1.4841e+02,\n",
              "        4.0343e+02, 1.0966e+03, 2.9810e+03, 8.1031e+03, 2.2026e+04, 5.9874e+04])"
            ]
          },
          "metadata": {},
          "execution_count": 25
        }
      ]
    },
    {
      "cell_type": "code",
      "source": [
        "x = torch.tensor([1.0, 2, 4, 8])\n",
        "y = torch.tensor([2, 2, 2, 2])\n",
        "x + y, x - y, x * y, x / y, x ** y"
      ],
      "metadata": {
        "colab": {
          "base_uri": "https://localhost:8080/"
        },
        "id": "JaKS_psQkQnR",
        "outputId": "b48be49a-0758-48f7-a3d2-df971116f4a9"
      },
      "execution_count": null,
      "outputs": [
        {
          "output_type": "execute_result",
          "data": {
            "text/plain": [
              "(tensor([ 3.,  4.,  6., 10.]),\n",
              " tensor([-1.,  0.,  2.,  6.]),\n",
              " tensor([ 2.,  4.,  8., 16.]),\n",
              " tensor([0.5000, 1.0000, 2.0000, 4.0000]),\n",
              " tensor([ 1.,  4., 16., 64.]))"
            ]
          },
          "metadata": {},
          "execution_count": 26
        }
      ]
    },
    {
      "cell_type": "code",
      "source": [
        "X = torch.arange(12, dtype=torch.float32).reshape((3,4))\n",
        "Y = torch.tensor([[2.0, 1, 4, 3], [1, 2, 3, 4], [4, 3, 2, 1]])\n",
        "torch.cat((X, Y), dim=0), torch.cat((X, Y), dim=1)"
      ],
      "metadata": {
        "colab": {
          "base_uri": "https://localhost:8080/"
        },
        "id": "2LHR_Pbwl3jM",
        "outputId": "40fe4911-d761-49e4-dcca-e17e61da2d3b"
      },
      "execution_count": null,
      "outputs": [
        {
          "output_type": "execute_result",
          "data": {
            "text/plain": [
              "(tensor([[ 0.,  1.,  2.,  3.],\n",
              "         [ 4.,  5.,  6.,  7.],\n",
              "         [ 8.,  9., 10., 11.],\n",
              "         [ 2.,  1.,  4.,  3.],\n",
              "         [ 1.,  2.,  3.,  4.],\n",
              "         [ 4.,  3.,  2.,  1.]]),\n",
              " tensor([[ 0.,  1.,  2.,  3.,  2.,  1.,  4.,  3.],\n",
              "         [ 4.,  5.,  6.,  7.,  1.,  2.,  3.,  4.],\n",
              "         [ 8.,  9., 10., 11.,  4.,  3.,  2.,  1.]]))"
            ]
          },
          "metadata": {},
          "execution_count": 28
        }
      ]
    },
    {
      "cell_type": "code",
      "source": [
        "X == Y"
      ],
      "metadata": {
        "colab": {
          "base_uri": "https://localhost:8080/"
        },
        "id": "6aA3Ulh6mpOU",
        "outputId": "e5cb515a-965b-45cb-dd80-a10a13f4a8c0"
      },
      "execution_count": null,
      "outputs": [
        {
          "output_type": "execute_result",
          "data": {
            "text/plain": [
              "tensor([[False,  True,  True,  True],\n",
              "        [ True,  True,  True,  True],\n",
              "        [ True,  True,  True,  True]])"
            ]
          },
          "metadata": {},
          "execution_count": 46
        }
      ]
    },
    {
      "cell_type": "code",
      "source": [
        "X.sum()"
      ],
      "metadata": {
        "colab": {
          "base_uri": "https://localhost:8080/"
        },
        "id": "F_fKkG5Omvsz",
        "outputId": "7cd2e9bb-8ce0-462d-b43d-917d9db62790"
      },
      "execution_count": null,
      "outputs": [
        {
          "output_type": "execute_result",
          "data": {
            "text/plain": [
              "tensor(66.)"
            ]
          },
          "metadata": {},
          "execution_count": 30
        }
      ]
    },
    {
      "cell_type": "markdown",
      "source": [
        "# 2.1.4 Broadcasting"
      ],
      "metadata": {
        "id": "kNDgSos1m0Bu"
      }
    },
    {
      "cell_type": "code",
      "source": [
        "a = torch.arange(1,4).reshape((3, 1))\n",
        "b = torch.arange(1,3).reshape((1, 2))\n",
        "a, b"
      ],
      "metadata": {
        "colab": {
          "base_uri": "https://localhost:8080/"
        },
        "id": "XF59Yr08m2r-",
        "outputId": "686bd484-7a6f-4054-a1a9-039cf462a44f"
      },
      "execution_count": null,
      "outputs": [
        {
          "output_type": "execute_result",
          "data": {
            "text/plain": [
              "(tensor([[1],\n",
              "         [2],\n",
              "         [3]]),\n",
              " tensor([[1, 2]]))"
            ]
          },
          "metadata": {},
          "execution_count": 37
        }
      ]
    },
    {
      "cell_type": "code",
      "source": [
        "a+b"
      ],
      "metadata": {
        "colab": {
          "base_uri": "https://localhost:8080/"
        },
        "id": "fSppNRN5nH39",
        "outputId": "6d41d169-fa1c-4d36-f0e0-e2a6cc29dc27"
      },
      "execution_count": null,
      "outputs": [
        {
          "output_type": "execute_result",
          "data": {
            "text/plain": [
              "tensor([[2, 3],\n",
              "        [3, 4],\n",
              "        [4, 5]])"
            ]
          },
          "metadata": {},
          "execution_count": 38
        }
      ]
    },
    {
      "cell_type": "markdown",
      "source": [
        "# 2.1.5 Saving Memory"
      ],
      "metadata": {
        "id": "9FBpZIojn2b_"
      }
    },
    {
      "cell_type": "code",
      "source": [
        "before = id(Y)\n",
        "Y=Y+X\n",
        "id(Y) == before"
      ],
      "metadata": {
        "colab": {
          "base_uri": "https://localhost:8080/"
        },
        "id": "HTsR-Wadn5Zs",
        "outputId": "6911929b-57af-4535-9c79-36b55ebcada6"
      },
      "execution_count": null,
      "outputs": [
        {
          "output_type": "execute_result",
          "data": {
            "text/plain": [
              "False"
            ]
          },
          "metadata": {},
          "execution_count": 39
        }
      ]
    },
    {
      "cell_type": "code",
      "source": [
        "Z = torch.zeros_like(Y)\n",
        "print('id(Z):', id(Z))\n",
        "Z[:] = X + Y\n",
        "print('id(Z):', id(Z))"
      ],
      "metadata": {
        "colab": {
          "base_uri": "https://localhost:8080/"
        },
        "id": "TfbKXuvUoqAL",
        "outputId": "deddb978-9eb8-417b-9336-75c3a26582eb"
      },
      "execution_count": null,
      "outputs": [
        {
          "output_type": "stream",
          "name": "stdout",
          "text": [
            "id(Z): 136631369981024\n",
            "id(Z): 136631369981024\n"
          ]
        }
      ]
    },
    {
      "cell_type": "code",
      "source": [
        "before = id(X)\n",
        "X += Y\n",
        "id(X) == before"
      ],
      "metadata": {
        "colab": {
          "base_uri": "https://localhost:8080/"
        },
        "id": "KDvPROAqo9q7",
        "outputId": "111837a7-79b0-4574-a68d-8ead0ec46e72"
      },
      "execution_count": null,
      "outputs": [
        {
          "output_type": "execute_result",
          "data": {
            "text/plain": [
              "True"
            ]
          },
          "metadata": {},
          "execution_count": 41
        }
      ]
    },
    {
      "cell_type": "markdown",
      "source": [
        "# 2.1.6 Conversion to Other Python Objects"
      ],
      "metadata": {
        "id": "psmn0GokpBAg"
      }
    },
    {
      "cell_type": "code",
      "source": [
        "A = X.numpy()\n",
        "B = torch.from_numpy(A)\n",
        "type(A), type(B)"
      ],
      "metadata": {
        "colab": {
          "base_uri": "https://localhost:8080/"
        },
        "id": "1O-2oRG1pCGK",
        "outputId": "d107fd45-cec4-453d-c397-4a950d0d8067"
      },
      "execution_count": null,
      "outputs": [
        {
          "output_type": "execute_result",
          "data": {
            "text/plain": [
              "(numpy.ndarray, torch.Tensor)"
            ]
          },
          "metadata": {},
          "execution_count": 43
        }
      ]
    },
    {
      "cell_type": "code",
      "source": [
        "a = torch.tensor([3.5])\n",
        "a, a.item(), float(a), int(a)"
      ],
      "metadata": {
        "colab": {
          "base_uri": "https://localhost:8080/"
        },
        "id": "DK7DGacZpNuB",
        "outputId": "1d2eaac8-4dfd-441a-fe47-05f3c06ebadb"
      },
      "execution_count": null,
      "outputs": [
        {
          "output_type": "execute_result",
          "data": {
            "text/plain": [
              "(tensor([3.5000]), 3.5, 3.5, 3)"
            ]
          },
          "metadata": {},
          "execution_count": 44
        }
      ]
    },
    {
      "cell_type": "markdown",
      "source": [
        "# 2.2 Data Preprocessing"
      ],
      "metadata": {
        "id": "HEDO4BYl2xMJ"
      }
    },
    {
      "cell_type": "markdown",
      "source": [
        "# 2.2.1 Reading the Dataset"
      ],
      "metadata": {
        "id": "1P7jhLPxqQQF"
      }
    },
    {
      "cell_type": "code",
      "source": [
        "import os\n",
        "os.makedirs(os.path.join('..', 'data'), exist_ok=True)\n",
        "data_file = os.path.join('..', 'data', 'house_tiny.csv')\n",
        "with open(data_file, 'w') as f:\n",
        "    f.write('''NumRooms,RoofType,Price\n",
        "NA,NA,127500\n",
        "2,NA,106000\n",
        "4,Slate,178100\n",
        "NA,NA,140000''')"
      ],
      "metadata": {
        "id": "YQyYYKXzqOTa"
      },
      "execution_count": null,
      "outputs": []
    },
    {
      "cell_type": "code",
      "source": [
        "import pandas as pd\n",
        "data = pd.read_csv(data_file)\n",
        "print(data)"
      ],
      "metadata": {
        "colab": {
          "base_uri": "https://localhost:8080/"
        },
        "id": "IAdDn7wQqWKZ",
        "outputId": "7c0c4760-7665-400e-d21f-6455848c24a9"
      },
      "execution_count": null,
      "outputs": [
        {
          "output_type": "stream",
          "name": "stdout",
          "text": [
            "   NumRooms RoofType   Price\n",
            "0       NaN      NaN  127500\n",
            "1       2.0      NaN  106000\n",
            "2       4.0    Slate  178100\n",
            "3       NaN      NaN  140000\n"
          ]
        }
      ]
    },
    {
      "cell_type": "markdown",
      "source": [
        "\n",
        "# 2.2.2 Data Preparation"
      ],
      "metadata": {
        "id": "lov05PV2r0gw"
      }
    },
    {
      "cell_type": "code",
      "source": [
        "inputs, targets = data.iloc[:, 0:2], data.iloc[:, 2]\n",
        "print(inputs, targets, sep='\\n\\n')\n",
        "inputs = pd.get_dummies(inputs, dummy_na=True)\n",
        "print('\\n', inputs)"
      ],
      "metadata": {
        "colab": {
          "base_uri": "https://localhost:8080/"
        },
        "id": "t5JGIGosr3Yw",
        "outputId": "d2fd1e41-3cf8-4672-b8c7-96b365d42165"
      },
      "execution_count": null,
      "outputs": [
        {
          "output_type": "stream",
          "name": "stdout",
          "text": [
            "   NumRooms RoofType\n",
            "0       NaN      NaN\n",
            "1       2.0      NaN\n",
            "2       4.0    Slate\n",
            "3       NaN      NaN\n",
            "\n",
            "0    127500\n",
            "1    106000\n",
            "2    178100\n",
            "3    140000\n",
            "Name: Price, dtype: int64\n",
            "\n",
            "    NumRooms  RoofType_Slate  RoofType_nan\n",
            "0       NaN           False          True\n",
            "1       2.0           False          True\n",
            "2       4.0            True         False\n",
            "3       NaN           False          True\n"
          ]
        }
      ]
    },
    {
      "cell_type": "code",
      "source": [
        "inputs = inputs.fillna(inputs.mean())\n",
        "print(inputs)"
      ],
      "metadata": {
        "colab": {
          "base_uri": "https://localhost:8080/"
        },
        "id": "HeXszMQsyDu5",
        "outputId": "0fa579f4-fd5e-4f9d-e3db-ff25c14a8218"
      },
      "execution_count": null,
      "outputs": [
        {
          "output_type": "stream",
          "name": "stdout",
          "text": [
            "   NumRooms  RoofType_Slate  RoofType_nan\n",
            "0       3.0           False          True\n",
            "1       2.0           False          True\n",
            "2       4.0            True         False\n",
            "3       3.0           False          True\n"
          ]
        }
      ]
    },
    {
      "cell_type": "markdown",
      "source": [
        "# 2.2.3 Conversion to the Tensor Format"
      ],
      "metadata": {
        "id": "ouiK_OkoyWwp"
      }
    },
    {
      "cell_type": "code",
      "source": [
        "import torch\n",
        "X = torch.tensor(inputs.to_numpy(dtype=float))\n",
        "y = torch.tensor(targets.to_numpy(dtype=float))\n",
        "X, y\n"
      ],
      "metadata": {
        "colab": {
          "base_uri": "https://localhost:8080/"
        },
        "id": "GsLRA9tmyV0_",
        "outputId": "9af24090-0f3d-40db-98af-d14361ed59e1"
      },
      "execution_count": null,
      "outputs": [
        {
          "output_type": "execute_result",
          "data": {
            "text/plain": [
              "(tensor([[3., 0., 1.],\n",
              "         [2., 0., 1.],\n",
              "         [4., 1., 0.],\n",
              "         [3., 0., 1.]], dtype=torch.float64),\n",
              " tensor([127500., 106000., 178100., 140000.], dtype=torch.float64))"
            ]
          },
          "metadata": {},
          "execution_count": 74
        }
      ]
    },
    {
      "cell_type": "markdown",
      "source": [
        "#2.3 Linear Algebra"
      ],
      "metadata": {
        "id": "ClCgPYYQ24_m"
      }
    },
    {
      "cell_type": "markdown",
      "source": [
        "#2.3.1 Scalars"
      ],
      "metadata": {
        "id": "MpNQOPev12Rj"
      }
    },
    {
      "cell_type": "code",
      "source": [
        "x = torch.tensor(3.0)\n",
        "y = torch.tensor(2.0)\n",
        "x + y, x * y, x / y, x**y"
      ],
      "metadata": {
        "colab": {
          "base_uri": "https://localhost:8080/"
        },
        "id": "KgdUKd5k12qb",
        "outputId": "d2da6b8a-6c75-44e3-d793-d7f277a446bc"
      },
      "execution_count": null,
      "outputs": [
        {
          "output_type": "execute_result",
          "data": {
            "text/plain": [
              "(tensor(5.), tensor(6.), tensor(1.5000), tensor(9.))"
            ]
          },
          "metadata": {},
          "execution_count": 75
        }
      ]
    },
    {
      "cell_type": "markdown",
      "source": [
        "# 2.3.2 Vectors"
      ],
      "metadata": {
        "id": "krjdUCQz2_6x"
      }
    },
    {
      "cell_type": "code",
      "source": [
        "x = torch.arange(3)\n",
        "x"
      ],
      "metadata": {
        "colab": {
          "base_uri": "https://localhost:8080/"
        },
        "id": "UTSejH-F3A6W",
        "outputId": "8168b36c-668d-4ce8-b5b5-cc8aa2be5b92"
      },
      "execution_count": null,
      "outputs": [
        {
          "output_type": "execute_result",
          "data": {
            "text/plain": [
              "tensor([0, 1, 2])"
            ]
          },
          "metadata": {},
          "execution_count": 76
        }
      ]
    },
    {
      "cell_type": "code",
      "source": [
        "x[2]"
      ],
      "metadata": {
        "colab": {
          "base_uri": "https://localhost:8080/"
        },
        "id": "Yi0XB4Rb4wKx",
        "outputId": "7497289a-e806-43f4-e80f-c87c77e3bcba"
      },
      "execution_count": null,
      "outputs": [
        {
          "output_type": "execute_result",
          "data": {
            "text/plain": [
              "tensor(2)"
            ]
          },
          "metadata": {},
          "execution_count": 77
        }
      ]
    },
    {
      "cell_type": "code",
      "source": [
        "len(x)"
      ],
      "metadata": {
        "colab": {
          "base_uri": "https://localhost:8080/"
        },
        "id": "vpEo3td5422R",
        "outputId": "de01b2ae-64f2-49e3-9a16-b19cf9faf249"
      },
      "execution_count": null,
      "outputs": [
        {
          "output_type": "execute_result",
          "data": {
            "text/plain": [
              "3"
            ]
          },
          "metadata": {},
          "execution_count": 78
        }
      ]
    },
    {
      "cell_type": "code",
      "source": [
        "x.shape"
      ],
      "metadata": {
        "colab": {
          "base_uri": "https://localhost:8080/"
        },
        "id": "1catUUns48y3",
        "outputId": "772394f7-a683-4c48-e669-cba9c8a92c42"
      },
      "execution_count": null,
      "outputs": [
        {
          "output_type": "execute_result",
          "data": {
            "text/plain": [
              "torch.Size([3])"
            ]
          },
          "metadata": {},
          "execution_count": 79
        }
      ]
    },
    {
      "cell_type": "markdown",
      "source": [
        "# 2.3.3 Matrices"
      ],
      "metadata": {
        "id": "-V3B1psj5CMb"
      }
    },
    {
      "cell_type": "code",
      "source": [
        "A = torch.arange(6).reshape(3, 2)\n",
        "A"
      ],
      "metadata": {
        "colab": {
          "base_uri": "https://localhost:8080/"
        },
        "id": "IWBW4Qs05EP1",
        "outputId": "6a23f88d-9883-4191-e274-d2906541386c"
      },
      "execution_count": null,
      "outputs": [
        {
          "output_type": "execute_result",
          "data": {
            "text/plain": [
              "tensor([[0, 1],\n",
              "        [2, 3],\n",
              "        [4, 5]])"
            ]
          },
          "metadata": {},
          "execution_count": 80
        }
      ]
    },
    {
      "cell_type": "code",
      "source": [
        "A.T"
      ],
      "metadata": {
        "colab": {
          "base_uri": "https://localhost:8080/"
        },
        "id": "anYJsRal5gS_",
        "outputId": "ee0990e4-dd2d-490b-aded-041cc34705b5"
      },
      "execution_count": null,
      "outputs": [
        {
          "output_type": "execute_result",
          "data": {
            "text/plain": [
              "tensor([[0, 2, 4],\n",
              "        [1, 3, 5]])"
            ]
          },
          "metadata": {},
          "execution_count": 81
        }
      ]
    },
    {
      "cell_type": "code",
      "source": [
        "A = torch.tensor([[1, 2, 3], [2, 0, 4], [3, 4, 5]])\n",
        "A == A.T"
      ],
      "metadata": {
        "colab": {
          "base_uri": "https://localhost:8080/"
        },
        "id": "_nlw_ZNN5pmy",
        "outputId": "7eb2f540-fdf5-430a-fef7-6d3f9436a093"
      },
      "execution_count": null,
      "outputs": [
        {
          "output_type": "execute_result",
          "data": {
            "text/plain": [
              "tensor([[True, True, True],\n",
              "        [True, True, True],\n",
              "        [True, True, True]])"
            ]
          },
          "metadata": {},
          "execution_count": 82
        }
      ]
    },
    {
      "cell_type": "markdown",
      "source": [
        "# 2.3.4 Tensors"
      ],
      "metadata": {
        "id": "bKR8GItr5v76"
      }
    },
    {
      "cell_type": "code",
      "source": [
        "torch.arange(24).reshape(2, 3, 4)"
      ],
      "metadata": {
        "colab": {
          "base_uri": "https://localhost:8080/"
        },
        "id": "rXDrNzdy5xZM",
        "outputId": "dc748067-0aa7-451f-dfca-857f1cb40e52"
      },
      "execution_count": null,
      "outputs": [
        {
          "output_type": "execute_result",
          "data": {
            "text/plain": [
              "tensor([[[ 0,  1,  2,  3],\n",
              "         [ 4,  5,  6,  7],\n",
              "         [ 8,  9, 10, 11]],\n",
              "\n",
              "        [[12, 13, 14, 15],\n",
              "         [16, 17, 18, 19],\n",
              "         [20, 21, 22, 23]]])"
            ]
          },
          "metadata": {},
          "execution_count": 83
        }
      ]
    },
    {
      "cell_type": "markdown",
      "source": [
        "# 2.3.5 Basic Properties of Tensor Arithmetic"
      ],
      "metadata": {
        "id": "5SmFPceP6Kfv"
      }
    },
    {
      "cell_type": "code",
      "source": [
        "A = torch.arange(6, dtype=torch.float32).reshape(2, 3)\n",
        "B = A.clone()  # Assign a copy of A to B by allocating new memory\n",
        "A, A + B"
      ],
      "metadata": {
        "colab": {
          "base_uri": "https://localhost:8080/"
        },
        "id": "6NfNxPf16Lv5",
        "outputId": "ab6fa20c-57cb-4884-e4ae-e2c0bcf63266"
      },
      "execution_count": null,
      "outputs": [
        {
          "output_type": "execute_result",
          "data": {
            "text/plain": [
              "(tensor([[0., 1., 2.],\n",
              "         [3., 4., 5.]]),\n",
              " tensor([[ 0.,  2.,  4.],\n",
              "         [ 6.,  8., 10.]]))"
            ]
          },
          "metadata": {},
          "execution_count": 84
        }
      ]
    },
    {
      "cell_type": "code",
      "source": [
        "A*B"
      ],
      "metadata": {
        "colab": {
          "base_uri": "https://localhost:8080/"
        },
        "id": "8i_5yqe96cNx",
        "outputId": "fa9a11c4-815f-4dd3-c795-dc6ee3153161"
      },
      "execution_count": null,
      "outputs": [
        {
          "output_type": "execute_result",
          "data": {
            "text/plain": [
              "tensor([[ 0.,  1.,  4.],\n",
              "        [ 9., 16., 25.]])"
            ]
          },
          "metadata": {},
          "execution_count": 85
        }
      ]
    },
    {
      "cell_type": "code",
      "source": [
        "a=2\n",
        "X = torch.arange(24).reshape(2, 3, 4)\n",
        "X, a + X, (a * X).shape"
      ],
      "metadata": {
        "colab": {
          "base_uri": "https://localhost:8080/"
        },
        "id": "Ry5sOdYr6hpp",
        "outputId": "a45c6967-0e6d-44a4-dc89-4f09ecce3075"
      },
      "execution_count": null,
      "outputs": [
        {
          "output_type": "execute_result",
          "data": {
            "text/plain": [
              "(tensor([[[ 0,  1,  2,  3],\n",
              "          [ 4,  5,  6,  7],\n",
              "          [ 8,  9, 10, 11]],\n",
              " \n",
              "         [[12, 13, 14, 15],\n",
              "          [16, 17, 18, 19],\n",
              "          [20, 21, 22, 23]]]),\n",
              " tensor([[[ 2,  3,  4,  5],\n",
              "          [ 6,  7,  8,  9],\n",
              "          [10, 11, 12, 13]],\n",
              " \n",
              "         [[14, 15, 16, 17],\n",
              "          [18, 19, 20, 21],\n",
              "          [22, 23, 24, 25]]]),\n",
              " torch.Size([2, 3, 4]))"
            ]
          },
          "metadata": {},
          "execution_count": 89
        }
      ]
    },
    {
      "cell_type": "markdown",
      "source": [
        "# 2.3.6 Reduction"
      ],
      "metadata": {
        "id": "Gf0GguVz688K"
      }
    },
    {
      "cell_type": "code",
      "source": [
        "x = torch.arange(3, dtype=torch.float32)\n",
        "x, x.sum()"
      ],
      "metadata": {
        "colab": {
          "base_uri": "https://localhost:8080/"
        },
        "id": "fr3LTNPq6-MC",
        "outputId": "8bf65266-fb7f-4685-b398-8f36886fc62c"
      },
      "execution_count": null,
      "outputs": [
        {
          "output_type": "execute_result",
          "data": {
            "text/plain": [
              "(tensor([0., 1., 2.]), tensor(3.))"
            ]
          },
          "metadata": {},
          "execution_count": 90
        }
      ]
    },
    {
      "cell_type": "code",
      "source": [
        "A, A.shape, A.sum()"
      ],
      "metadata": {
        "colab": {
          "base_uri": "https://localhost:8080/"
        },
        "id": "1z2iUY2L7H0g",
        "outputId": "f2ca6e7d-0829-4435-fe74-bfbc1eddf62d"
      },
      "execution_count": null,
      "outputs": [
        {
          "output_type": "execute_result",
          "data": {
            "text/plain": [
              "(tensor([[0., 1., 2.],\n",
              "         [3., 4., 5.]]),\n",
              " torch.Size([2, 3]),\n",
              " tensor(15.))"
            ]
          },
          "metadata": {},
          "execution_count": 92
        }
      ]
    },
    {
      "cell_type": "code",
      "source": [
        "A, A.shape, A.sum(axis=0), A.sum(axis=0).shape"
      ],
      "metadata": {
        "colab": {
          "base_uri": "https://localhost:8080/"
        },
        "id": "B1jZinA97dYL",
        "outputId": "3de6f98c-760b-4d15-9d3f-ac77baba84c5"
      },
      "execution_count": null,
      "outputs": [
        {
          "output_type": "execute_result",
          "data": {
            "text/plain": [
              "(tensor([[0., 1., 2.],\n",
              "         [3., 4., 5.]]),\n",
              " torch.Size([2, 3]),\n",
              " tensor([3., 5., 7.]),\n",
              " torch.Size([3]))"
            ]
          },
          "metadata": {},
          "execution_count": 94
        }
      ]
    },
    {
      "cell_type": "code",
      "source": [
        "A, A.shape, A.sum(axis=1), A.sum(axis=1).shape"
      ],
      "metadata": {
        "colab": {
          "base_uri": "https://localhost:8080/"
        },
        "id": "4OCr9C5S7shr",
        "outputId": "3ae7d3af-f6c1-4b97-a1b2-f189f973c395"
      },
      "execution_count": null,
      "outputs": [
        {
          "output_type": "execute_result",
          "data": {
            "text/plain": [
              "(tensor([[0., 1., 2.],\n",
              "         [3., 4., 5.]]),\n",
              " torch.Size([2, 3]),\n",
              " tensor([ 3., 12.]),\n",
              " torch.Size([2]))"
            ]
          },
          "metadata": {},
          "execution_count": 95
        }
      ]
    },
    {
      "cell_type": "code",
      "source": [
        "A.sum(axis=[0, 1]) == A.sum()"
      ],
      "metadata": {
        "colab": {
          "base_uri": "https://localhost:8080/"
        },
        "id": "BvylLO99759-",
        "outputId": "a26c649d-0aa3-4946-c642-34126cedb90a"
      },
      "execution_count": null,
      "outputs": [
        {
          "output_type": "execute_result",
          "data": {
            "text/plain": [
              "tensor(True)"
            ]
          },
          "metadata": {},
          "execution_count": 96
        }
      ]
    },
    {
      "cell_type": "code",
      "source": [
        "A.sum(), A.numel(), A.sum() / A.numel(), A.mean()"
      ],
      "metadata": {
        "colab": {
          "base_uri": "https://localhost:8080/"
        },
        "id": "-fO31Fqe8NdD",
        "outputId": "a1060432-c725-41e0-df1b-0a2e7f6d6b19"
      },
      "execution_count": null,
      "outputs": [
        {
          "output_type": "execute_result",
          "data": {
            "text/plain": [
              "(tensor(15.), 6, tensor(2.5000), tensor(2.5000))"
            ]
          },
          "metadata": {},
          "execution_count": 99
        }
      ]
    },
    {
      "cell_type": "code",
      "source": [
        "A.mean(axis=0), A.sum(axis=0) / A.shape[0]"
      ],
      "metadata": {
        "colab": {
          "base_uri": "https://localhost:8080/"
        },
        "id": "I0M_XP2P8ZbP",
        "outputId": "e7f4bae4-3ea1-4a29-b6bb-5dec1a9f2518"
      },
      "execution_count": null,
      "outputs": [
        {
          "output_type": "execute_result",
          "data": {
            "text/plain": [
              "(tensor([1.5000, 2.5000, 3.5000]), tensor([1.5000, 2.5000, 3.5000]))"
            ]
          },
          "metadata": {},
          "execution_count": 100
        }
      ]
    },
    {
      "cell_type": "markdown",
      "source": [
        "# 2.3.7 Non-Reduction Sum"
      ],
      "metadata": {
        "id": "1IMkRRmF8kjp"
      }
    },
    {
      "cell_type": "code",
      "source": [
        "sum_A = A.sum(axis=1, keepdims=False) #по умолчанию keepdims=False\n",
        "sum_A, sum_A.shape"
      ],
      "metadata": {
        "colab": {
          "base_uri": "https://localhost:8080/"
        },
        "id": "qn7lM-Lk88am",
        "outputId": "a7c443ee-53f2-4d40-f07e-23ece69cde5f"
      },
      "execution_count": null,
      "outputs": [
        {
          "output_type": "execute_result",
          "data": {
            "text/plain": [
              "(tensor([ 3., 12.]), torch.Size([2]))"
            ]
          },
          "metadata": {},
          "execution_count": 109
        }
      ]
    },
    {
      "cell_type": "code",
      "source": [
        "sum_A = A.sum(axis=1, keepdims=True)\n",
        "sum_A, sum_A.shape"
      ],
      "metadata": {
        "colab": {
          "base_uri": "https://localhost:8080/"
        },
        "id": "B7HETc_f8maR",
        "outputId": "21da0ed2-0f26-494d-e730-9cb24c819daf"
      },
      "execution_count": null,
      "outputs": [
        {
          "output_type": "execute_result",
          "data": {
            "text/plain": [
              "(tensor([[ 3.],\n",
              "         [12.]]),\n",
              " torch.Size([2, 1]))"
            ]
          },
          "metadata": {},
          "execution_count": 110
        }
      ]
    },
    {
      "cell_type": "code",
      "source": [
        "A / sum_A # с keepdims=False мы не можем выполнить такую операцию"
      ],
      "metadata": {
        "colab": {
          "base_uri": "https://localhost:8080/"
        },
        "id": "Z4ckSfFm9Ok1",
        "outputId": "9f487864-eb1a-4d0b-c33a-025fd5236857"
      },
      "execution_count": null,
      "outputs": [
        {
          "output_type": "execute_result",
          "data": {
            "text/plain": [
              "tensor([[0.0000, 0.3333, 0.6667],\n",
              "        [0.2500, 0.3333, 0.4167]])"
            ]
          },
          "metadata": {},
          "execution_count": 111
        }
      ]
    },
    {
      "cell_type": "code",
      "source": [
        "C = torch.arange(27, dtype=torch.float32).reshape(-1, 9)\n",
        "C, C.cumsum(axis=0)"
      ],
      "metadata": {
        "colab": {
          "base_uri": "https://localhost:8080/"
        },
        "id": "K2m3BTk39dh0",
        "outputId": "26d739c8-c12b-4b58-c8ae-6a149615246c"
      },
      "execution_count": null,
      "outputs": [
        {
          "output_type": "execute_result",
          "data": {
            "text/plain": [
              "(tensor([[ 0.,  1.,  2.,  3.,  4.,  5.,  6.,  7.,  8.],\n",
              "         [ 9., 10., 11., 12., 13., 14., 15., 16., 17.],\n",
              "         [18., 19., 20., 21., 22., 23., 24., 25., 26.]]),\n",
              " tensor([[ 0.,  1.,  2.,  3.,  4.,  5.,  6.,  7.,  8.],\n",
              "         [ 9., 11., 13., 15., 17., 19., 21., 23., 25.],\n",
              "         [27., 30., 33., 36., 39., 42., 45., 48., 51.]]))"
            ]
          },
          "metadata": {},
          "execution_count": 114
        }
      ]
    },
    {
      "cell_type": "markdown",
      "source": [
        "# 2.3.8 Dot Products"
      ],
      "metadata": {
        "id": "MNNrp3nS-V77"
      }
    },
    {
      "cell_type": "code",
      "source": [
        "y = torch.ones(3, dtype = torch.float32)\n",
        "x, y, torch.dot(x, y), torch.sum(x * y)"
      ],
      "metadata": {
        "colab": {
          "base_uri": "https://localhost:8080/"
        },
        "id": "N3mtMoYY-XYG",
        "outputId": "7d4bfd44-0ee7-4844-a62a-271ae2094423"
      },
      "execution_count": null,
      "outputs": [
        {
          "output_type": "execute_result",
          "data": {
            "text/plain": [
              "(tensor([0., 1., 2.]), tensor([1., 1., 1.]), tensor(3.), tensor(3.))"
            ]
          },
          "metadata": {},
          "execution_count": 116
        }
      ]
    },
    {
      "cell_type": "markdown",
      "source": [
        "\n",
        "# 2.3.9 Matrix–Vector Products"
      ],
      "metadata": {
        "id": "OlayQNAsA_Wz"
      }
    },
    {
      "cell_type": "code",
      "source": [
        "A, x, A.shape, x.shape, torch.mv(A, x), A@x"
      ],
      "metadata": {
        "colab": {
          "base_uri": "https://localhost:8080/"
        },
        "id": "imQMbc7pAvm5",
        "outputId": "1c811a03-ddd1-4af3-ab9d-73054a26c764"
      },
      "execution_count": null,
      "outputs": [
        {
          "output_type": "execute_result",
          "data": {
            "text/plain": [
              "(tensor([[0., 1., 2.],\n",
              "         [3., 4., 5.]]),\n",
              " tensor([0., 1., 2.]),\n",
              " torch.Size([2, 3]),\n",
              " torch.Size([3]),\n",
              " tensor([ 5., 14.]),\n",
              " tensor([ 5., 14.]))"
            ]
          },
          "metadata": {},
          "execution_count": 118
        }
      ]
    },
    {
      "cell_type": "markdown",
      "source": [
        "# 2.3.10 Matrix–Matrix Multiplication"
      ],
      "metadata": {
        "id": "ZP943F5BB3QK"
      }
    },
    {
      "cell_type": "code",
      "source": [
        "B = torch.ones(3, 4)\n",
        "A, B, torch.mm(A, B), A@B"
      ],
      "metadata": {
        "colab": {
          "base_uri": "https://localhost:8080/"
        },
        "id": "rwGPNWxlB5V1",
        "outputId": "78d9d00c-66ed-46fd-cf4e-12b84130561f"
      },
      "execution_count": null,
      "outputs": [
        {
          "output_type": "execute_result",
          "data": {
            "text/plain": [
              "(tensor([[0., 1., 2.],\n",
              "         [3., 4., 5.]]),\n",
              " tensor([[1., 1., 1., 1.],\n",
              "         [1., 1., 1., 1.],\n",
              "         [1., 1., 1., 1.]]),\n",
              " tensor([[ 3.,  3.,  3.,  3.],\n",
              "         [12., 12., 12., 12.]]),\n",
              " tensor([[ 3.,  3.,  3.,  3.],\n",
              "         [12., 12., 12., 12.]]))"
            ]
          },
          "metadata": {},
          "execution_count": 119
        }
      ]
    },
    {
      "cell_type": "markdown",
      "source": [
        "# 2.3.11 Norms"
      ],
      "metadata": {
        "id": "6aWRn1hlDlnL"
      }
    },
    {
      "cell_type": "code",
      "source": [
        "u = torch.tensor([3.0, -4.0])\n",
        "torch.norm(u)"
      ],
      "metadata": {
        "colab": {
          "base_uri": "https://localhost:8080/"
        },
        "id": "XVI0rPqNDnTO",
        "outputId": "44771114-9be2-4717-b341-8fcb60127b5b"
      },
      "execution_count": null,
      "outputs": [
        {
          "output_type": "execute_result",
          "data": {
            "text/plain": [
              "tensor(5.)"
            ]
          },
          "metadata": {},
          "execution_count": 120
        }
      ]
    },
    {
      "cell_type": "code",
      "source": [
        "torch.abs(u).sum()"
      ],
      "metadata": {
        "colab": {
          "base_uri": "https://localhost:8080/"
        },
        "id": "oCEAwao2EWQk",
        "outputId": "fc631537-74ef-46c0-ff2a-74d65f6a922e"
      },
      "execution_count": null,
      "outputs": [
        {
          "output_type": "execute_result",
          "data": {
            "text/plain": [
              "tensor(7.)"
            ]
          },
          "metadata": {},
          "execution_count": 121
        }
      ]
    },
    {
      "cell_type": "code",
      "source": [
        "torch.ones(4, 9), torch.norm(torch.ones((4, 9)))"
      ],
      "metadata": {
        "colab": {
          "base_uri": "https://localhost:8080/"
        },
        "id": "CjwHk6umEqmH",
        "outputId": "811a8e95-2bf3-4e30-9417-4729be87f64b"
      },
      "execution_count": null,
      "outputs": [
        {
          "output_type": "execute_result",
          "data": {
            "text/plain": [
              "(tensor([[1., 1., 1., 1., 1., 1., 1., 1., 1.],\n",
              "         [1., 1., 1., 1., 1., 1., 1., 1., 1.],\n",
              "         [1., 1., 1., 1., 1., 1., 1., 1., 1.],\n",
              "         [1., 1., 1., 1., 1., 1., 1., 1., 1.]]),\n",
              " tensor(6.))"
            ]
          },
          "metadata": {},
          "execution_count": 123
        }
      ]
    },
    {
      "cell_type": "markdown",
      "source": [
        "# 2.4 Calculus"
      ],
      "metadata": {
        "id": "IBVpzBD1FE-R"
      }
    },
    {
      "cell_type": "code",
      "source": [
        "!pip install d2l==0.17.0"
      ],
      "metadata": {
        "colab": {
          "base_uri": "https://localhost:8080/"
        },
        "id": "05kLflUNYLA8",
        "outputId": "8cff9770-add0-4e9d-ad21-50dcd8cda017"
      },
      "execution_count": 2,
      "outputs": [
        {
          "output_type": "stream",
          "name": "stdout",
          "text": [
            "Collecting d2l==0.17.0\n",
            "  Downloading d2l-0.17.0-py3-none-any.whl (83 kB)\n",
            "\u001b[?25l     \u001b[90m━━━━━━━━━━━━━━━━━━━━━━━━━━━━━━━━━━━━━━━━\u001b[0m \u001b[32m0.0/83.2 kB\u001b[0m \u001b[31m?\u001b[0m eta \u001b[36m-:--:--\u001b[0m\r\u001b[2K     \u001b[91m━━━━━━━━━━━━━━━━━━━━━━━━━━━━━━━━━━━━━━━\u001b[0m\u001b[90m╺\u001b[0m \u001b[32m81.9/83.2 kB\u001b[0m \u001b[31m2.7 MB/s\u001b[0m eta \u001b[36m0:00:01\u001b[0m\r\u001b[2K     \u001b[90m━━━━━━━━━━━━━━━━━━━━━━━━━━━━━━━━━━━━━━━━\u001b[0m \u001b[32m83.2/83.2 kB\u001b[0m \u001b[31m2.0 MB/s\u001b[0m eta \u001b[36m0:00:00\u001b[0m\n",
            "\u001b[?25hCollecting jupyter (from d2l==0.17.0)\n",
            "  Downloading jupyter-1.0.0-py2.py3-none-any.whl (2.7 kB)\n",
            "Requirement already satisfied: numpy in /usr/local/lib/python3.10/dist-packages (from d2l==0.17.0) (1.25.2)\n",
            "Requirement already satisfied: matplotlib in /usr/local/lib/python3.10/dist-packages (from d2l==0.17.0) (3.7.1)\n",
            "Requirement already satisfied: requests in /usr/local/lib/python3.10/dist-packages (from d2l==0.17.0) (2.31.0)\n",
            "Requirement already satisfied: pandas in /usr/local/lib/python3.10/dist-packages (from d2l==0.17.0) (2.0.3)\n",
            "Requirement already satisfied: notebook in /usr/local/lib/python3.10/dist-packages (from jupyter->d2l==0.17.0) (6.5.5)\n",
            "Collecting qtconsole (from jupyter->d2l==0.17.0)\n",
            "  Downloading qtconsole-5.5.1-py3-none-any.whl (123 kB)\n",
            "\u001b[2K     \u001b[90m━━━━━━━━━━━━━━━━━━━━━━━━━━━━━━━━━━━━━━━━\u001b[0m \u001b[32m123.4/123.4 kB\u001b[0m \u001b[31m5.9 MB/s\u001b[0m eta \u001b[36m0:00:00\u001b[0m\n",
            "\u001b[?25hRequirement already satisfied: jupyter-console in /usr/local/lib/python3.10/dist-packages (from jupyter->d2l==0.17.0) (6.1.0)\n",
            "Requirement already satisfied: nbconvert in /usr/local/lib/python3.10/dist-packages (from jupyter->d2l==0.17.0) (6.5.4)\n",
            "Requirement already satisfied: ipykernel in /usr/local/lib/python3.10/dist-packages (from jupyter->d2l==0.17.0) (5.5.6)\n",
            "Requirement already satisfied: ipywidgets in /usr/local/lib/python3.10/dist-packages (from jupyter->d2l==0.17.0) (7.7.1)\n",
            "Requirement already satisfied: contourpy>=1.0.1 in /usr/local/lib/python3.10/dist-packages (from matplotlib->d2l==0.17.0) (1.2.1)\n",
            "Requirement already satisfied: cycler>=0.10 in /usr/local/lib/python3.10/dist-packages (from matplotlib->d2l==0.17.0) (0.12.1)\n",
            "Requirement already satisfied: fonttools>=4.22.0 in /usr/local/lib/python3.10/dist-packages (from matplotlib->d2l==0.17.0) (4.51.0)\n",
            "Requirement already satisfied: kiwisolver>=1.0.1 in /usr/local/lib/python3.10/dist-packages (from matplotlib->d2l==0.17.0) (1.4.5)\n",
            "Requirement already satisfied: packaging>=20.0 in /usr/local/lib/python3.10/dist-packages (from matplotlib->d2l==0.17.0) (24.0)\n",
            "Requirement already satisfied: pillow>=6.2.0 in /usr/local/lib/python3.10/dist-packages (from matplotlib->d2l==0.17.0) (9.4.0)\n",
            "Requirement already satisfied: pyparsing>=2.3.1 in /usr/local/lib/python3.10/dist-packages (from matplotlib->d2l==0.17.0) (3.1.2)\n",
            "Requirement already satisfied: python-dateutil>=2.7 in /usr/local/lib/python3.10/dist-packages (from matplotlib->d2l==0.17.0) (2.8.2)\n",
            "Requirement already satisfied: pytz>=2020.1 in /usr/local/lib/python3.10/dist-packages (from pandas->d2l==0.17.0) (2023.4)\n",
            "Requirement already satisfied: tzdata>=2022.1 in /usr/local/lib/python3.10/dist-packages (from pandas->d2l==0.17.0) (2024.1)\n",
            "Requirement already satisfied: charset-normalizer<4,>=2 in /usr/local/lib/python3.10/dist-packages (from requests->d2l==0.17.0) (3.3.2)\n",
            "Requirement already satisfied: idna<4,>=2.5 in /usr/local/lib/python3.10/dist-packages (from requests->d2l==0.17.0) (3.6)\n",
            "Requirement already satisfied: urllib3<3,>=1.21.1 in /usr/local/lib/python3.10/dist-packages (from requests->d2l==0.17.0) (2.0.7)\n",
            "Requirement already satisfied: certifi>=2017.4.17 in /usr/local/lib/python3.10/dist-packages (from requests->d2l==0.17.0) (2024.2.2)\n",
            "Requirement already satisfied: six>=1.5 in /usr/local/lib/python3.10/dist-packages (from python-dateutil>=2.7->matplotlib->d2l==0.17.0) (1.16.0)\n",
            "Requirement already satisfied: ipython-genutils in /usr/local/lib/python3.10/dist-packages (from ipykernel->jupyter->d2l==0.17.0) (0.2.0)\n",
            "Requirement already satisfied: ipython>=5.0.0 in /usr/local/lib/python3.10/dist-packages (from ipykernel->jupyter->d2l==0.17.0) (7.34.0)\n",
            "Requirement already satisfied: traitlets>=4.1.0 in /usr/local/lib/python3.10/dist-packages (from ipykernel->jupyter->d2l==0.17.0) (5.7.1)\n",
            "Requirement already satisfied: jupyter-client in /usr/local/lib/python3.10/dist-packages (from ipykernel->jupyter->d2l==0.17.0) (6.1.12)\n",
            "Requirement already satisfied: tornado>=4.2 in /usr/local/lib/python3.10/dist-packages (from ipykernel->jupyter->d2l==0.17.0) (6.3.3)\n",
            "Requirement already satisfied: widgetsnbextension~=3.6.0 in /usr/local/lib/python3.10/dist-packages (from ipywidgets->jupyter->d2l==0.17.0) (3.6.6)\n",
            "Requirement already satisfied: jupyterlab-widgets>=1.0.0 in /usr/local/lib/python3.10/dist-packages (from ipywidgets->jupyter->d2l==0.17.0) (3.0.10)\n",
            "Requirement already satisfied: prompt-toolkit!=3.0.0,!=3.0.1,<3.1.0,>=2.0.0 in /usr/local/lib/python3.10/dist-packages (from jupyter-console->jupyter->d2l==0.17.0) (3.0.43)\n",
            "Requirement already satisfied: pygments in /usr/local/lib/python3.10/dist-packages (from jupyter-console->jupyter->d2l==0.17.0) (2.16.1)\n",
            "Requirement already satisfied: lxml in /usr/local/lib/python3.10/dist-packages (from nbconvert->jupyter->d2l==0.17.0) (4.9.4)\n",
            "Requirement already satisfied: beautifulsoup4 in /usr/local/lib/python3.10/dist-packages (from nbconvert->jupyter->d2l==0.17.0) (4.12.3)\n",
            "Requirement already satisfied: bleach in /usr/local/lib/python3.10/dist-packages (from nbconvert->jupyter->d2l==0.17.0) (6.1.0)\n",
            "Requirement already satisfied: defusedxml in /usr/local/lib/python3.10/dist-packages (from nbconvert->jupyter->d2l==0.17.0) (0.7.1)\n",
            "Requirement already satisfied: entrypoints>=0.2.2 in /usr/local/lib/python3.10/dist-packages (from nbconvert->jupyter->d2l==0.17.0) (0.4)\n",
            "Requirement already satisfied: jinja2>=3.0 in /usr/local/lib/python3.10/dist-packages (from nbconvert->jupyter->d2l==0.17.0) (3.1.3)\n",
            "Requirement already satisfied: jupyter-core>=4.7 in /usr/local/lib/python3.10/dist-packages (from nbconvert->jupyter->d2l==0.17.0) (5.7.2)\n",
            "Requirement already satisfied: jupyterlab-pygments in /usr/local/lib/python3.10/dist-packages (from nbconvert->jupyter->d2l==0.17.0) (0.3.0)\n",
            "Requirement already satisfied: MarkupSafe>=2.0 in /usr/local/lib/python3.10/dist-packages (from nbconvert->jupyter->d2l==0.17.0) (2.1.5)\n",
            "Requirement already satisfied: mistune<2,>=0.8.1 in /usr/local/lib/python3.10/dist-packages (from nbconvert->jupyter->d2l==0.17.0) (0.8.4)\n",
            "Requirement already satisfied: nbclient>=0.5.0 in /usr/local/lib/python3.10/dist-packages (from nbconvert->jupyter->d2l==0.17.0) (0.10.0)\n",
            "Requirement already satisfied: nbformat>=5.1 in /usr/local/lib/python3.10/dist-packages (from nbconvert->jupyter->d2l==0.17.0) (5.10.4)\n",
            "Requirement already satisfied: pandocfilters>=1.4.1 in /usr/local/lib/python3.10/dist-packages (from nbconvert->jupyter->d2l==0.17.0) (1.5.1)\n",
            "Requirement already satisfied: tinycss2 in /usr/local/lib/python3.10/dist-packages (from nbconvert->jupyter->d2l==0.17.0) (1.2.1)\n",
            "Requirement already satisfied: pyzmq<25,>=17 in /usr/local/lib/python3.10/dist-packages (from notebook->jupyter->d2l==0.17.0) (23.2.1)\n",
            "Requirement already satisfied: argon2-cffi in /usr/local/lib/python3.10/dist-packages (from notebook->jupyter->d2l==0.17.0) (23.1.0)\n",
            "Requirement already satisfied: nest-asyncio>=1.5 in /usr/local/lib/python3.10/dist-packages (from notebook->jupyter->d2l==0.17.0) (1.6.0)\n",
            "Requirement already satisfied: Send2Trash>=1.8.0 in /usr/local/lib/python3.10/dist-packages (from notebook->jupyter->d2l==0.17.0) (1.8.3)\n",
            "Requirement already satisfied: terminado>=0.8.3 in /usr/local/lib/python3.10/dist-packages (from notebook->jupyter->d2l==0.17.0) (0.18.1)\n",
            "Requirement already satisfied: prometheus-client in /usr/local/lib/python3.10/dist-packages (from notebook->jupyter->d2l==0.17.0) (0.20.0)\n",
            "Requirement already satisfied: nbclassic>=0.4.7 in /usr/local/lib/python3.10/dist-packages (from notebook->jupyter->d2l==0.17.0) (1.0.0)\n",
            "Collecting qtpy>=2.4.0 (from qtconsole->jupyter->d2l==0.17.0)\n",
            "  Downloading QtPy-2.4.1-py3-none-any.whl (93 kB)\n",
            "\u001b[2K     \u001b[90m━━━━━━━━━━━━━━━━━━━━━━━━━━━━━━━━━━━━━━━━\u001b[0m \u001b[32m93.5/93.5 kB\u001b[0m \u001b[31m7.5 MB/s\u001b[0m eta \u001b[36m0:00:00\u001b[0m\n",
            "\u001b[?25hRequirement already satisfied: setuptools>=18.5 in /usr/local/lib/python3.10/dist-packages (from ipython>=5.0.0->ipykernel->jupyter->d2l==0.17.0) (67.7.2)\n",
            "Collecting jedi>=0.16 (from ipython>=5.0.0->ipykernel->jupyter->d2l==0.17.0)\n",
            "  Downloading jedi-0.19.1-py2.py3-none-any.whl (1.6 MB)\n",
            "\u001b[2K     \u001b[90m━━━━━━━━━━━━━━━━━━━━━━━━━━━━━━━━━━━━━━━━\u001b[0m \u001b[32m1.6/1.6 MB\u001b[0m \u001b[31m9.4 MB/s\u001b[0m eta \u001b[36m0:00:00\u001b[0m\n",
            "\u001b[?25hRequirement already satisfied: decorator in /usr/local/lib/python3.10/dist-packages (from ipython>=5.0.0->ipykernel->jupyter->d2l==0.17.0) (4.4.2)\n",
            "Requirement already satisfied: pickleshare in /usr/local/lib/python3.10/dist-packages (from ipython>=5.0.0->ipykernel->jupyter->d2l==0.17.0) (0.7.5)\n",
            "Requirement already satisfied: backcall in /usr/local/lib/python3.10/dist-packages (from ipython>=5.0.0->ipykernel->jupyter->d2l==0.17.0) (0.2.0)\n",
            "Requirement already satisfied: matplotlib-inline in /usr/local/lib/python3.10/dist-packages (from ipython>=5.0.0->ipykernel->jupyter->d2l==0.17.0) (0.1.6)\n",
            "Requirement already satisfied: pexpect>4.3 in /usr/local/lib/python3.10/dist-packages (from ipython>=5.0.0->ipykernel->jupyter->d2l==0.17.0) (4.9.0)\n",
            "Requirement already satisfied: platformdirs>=2.5 in /usr/local/lib/python3.10/dist-packages (from jupyter-core>=4.7->nbconvert->jupyter->d2l==0.17.0) (4.2.0)\n",
            "Requirement already satisfied: jupyter-server>=1.8 in /usr/local/lib/python3.10/dist-packages (from nbclassic>=0.4.7->notebook->jupyter->d2l==0.17.0) (1.24.0)\n",
            "Requirement already satisfied: notebook-shim>=0.2.3 in /usr/local/lib/python3.10/dist-packages (from nbclassic>=0.4.7->notebook->jupyter->d2l==0.17.0) (0.2.4)\n",
            "Requirement already satisfied: fastjsonschema>=2.15 in /usr/local/lib/python3.10/dist-packages (from nbformat>=5.1->nbconvert->jupyter->d2l==0.17.0) (2.19.1)\n",
            "Requirement already satisfied: jsonschema>=2.6 in /usr/local/lib/python3.10/dist-packages (from nbformat>=5.1->nbconvert->jupyter->d2l==0.17.0) (4.19.2)\n",
            "Requirement already satisfied: wcwidth in /usr/local/lib/python3.10/dist-packages (from prompt-toolkit!=3.0.0,!=3.0.1,<3.1.0,>=2.0.0->jupyter-console->jupyter->d2l==0.17.0) (0.2.13)\n",
            "Requirement already satisfied: ptyprocess in /usr/local/lib/python3.10/dist-packages (from terminado>=0.8.3->notebook->jupyter->d2l==0.17.0) (0.7.0)\n",
            "Requirement already satisfied: argon2-cffi-bindings in /usr/local/lib/python3.10/dist-packages (from argon2-cffi->notebook->jupyter->d2l==0.17.0) (21.2.0)\n",
            "Requirement already satisfied: soupsieve>1.2 in /usr/local/lib/python3.10/dist-packages (from beautifulsoup4->nbconvert->jupyter->d2l==0.17.0) (2.5)\n",
            "Requirement already satisfied: webencodings in /usr/local/lib/python3.10/dist-packages (from bleach->nbconvert->jupyter->d2l==0.17.0) (0.5.1)\n",
            "Requirement already satisfied: parso<0.9.0,>=0.8.3 in /usr/local/lib/python3.10/dist-packages (from jedi>=0.16->ipython>=5.0.0->ipykernel->jupyter->d2l==0.17.0) (0.8.4)\n",
            "Requirement already satisfied: attrs>=22.2.0 in /usr/local/lib/python3.10/dist-packages (from jsonschema>=2.6->nbformat>=5.1->nbconvert->jupyter->d2l==0.17.0) (23.2.0)\n",
            "Requirement already satisfied: jsonschema-specifications>=2023.03.6 in /usr/local/lib/python3.10/dist-packages (from jsonschema>=2.6->nbformat>=5.1->nbconvert->jupyter->d2l==0.17.0) (2023.12.1)\n",
            "Requirement already satisfied: referencing>=0.28.4 in /usr/local/lib/python3.10/dist-packages (from jsonschema>=2.6->nbformat>=5.1->nbconvert->jupyter->d2l==0.17.0) (0.34.0)\n",
            "Requirement already satisfied: rpds-py>=0.7.1 in /usr/local/lib/python3.10/dist-packages (from jsonschema>=2.6->nbformat>=5.1->nbconvert->jupyter->d2l==0.17.0) (0.18.0)\n",
            "Requirement already satisfied: anyio<4,>=3.1.0 in /usr/local/lib/python3.10/dist-packages (from jupyter-server>=1.8->nbclassic>=0.4.7->notebook->jupyter->d2l==0.17.0) (3.7.1)\n",
            "Requirement already satisfied: websocket-client in /usr/local/lib/python3.10/dist-packages (from jupyter-server>=1.8->nbclassic>=0.4.7->notebook->jupyter->d2l==0.17.0) (1.7.0)\n",
            "Requirement already satisfied: cffi>=1.0.1 in /usr/local/lib/python3.10/dist-packages (from argon2-cffi-bindings->argon2-cffi->notebook->jupyter->d2l==0.17.0) (1.16.0)\n",
            "Requirement already satisfied: sniffio>=1.1 in /usr/local/lib/python3.10/dist-packages (from anyio<4,>=3.1.0->jupyter-server>=1.8->nbclassic>=0.4.7->notebook->jupyter->d2l==0.17.0) (1.3.1)\n",
            "Requirement already satisfied: exceptiongroup in /usr/local/lib/python3.10/dist-packages (from anyio<4,>=3.1.0->jupyter-server>=1.8->nbclassic>=0.4.7->notebook->jupyter->d2l==0.17.0) (1.2.0)\n",
            "Requirement already satisfied: pycparser in /usr/local/lib/python3.10/dist-packages (from cffi>=1.0.1->argon2-cffi-bindings->argon2-cffi->notebook->jupyter->d2l==0.17.0) (2.22)\n",
            "Installing collected packages: qtpy, jedi, qtconsole, jupyter, d2l\n",
            "Successfully installed d2l-0.17.0 jedi-0.19.1 jupyter-1.0.0 qtconsole-5.5.1 qtpy-2.4.1\n"
          ]
        }
      ]
    },
    {
      "cell_type": "code",
      "source": [
        "%matplotlib inline\n",
        "import numpy as np\n",
        "from matplotlib_inline import backend_inline\n",
        "from d2l import torch as d2l"
      ],
      "metadata": {
        "id": "oZDxiJISFCUu"
      },
      "execution_count": null,
      "outputs": []
    },
    {
      "cell_type": "markdown",
      "source": [
        "# 2.4.1 Derivatives and Differentiation"
      ],
      "metadata": {
        "id": "YfNuG8dtYWq4"
      }
    },
    {
      "cell_type": "code",
      "source": [
        "def f(x):\n",
        "    return 3 * x ** 2 - 4 * x"
      ],
      "metadata": {
        "id": "l_DHuzLKYUKv"
      },
      "execution_count": null,
      "outputs": []
    },
    {
      "cell_type": "code",
      "source": [
        "for h in 10.0**np.arange(-1, -6, -1):\n",
        "    print(f'h={h:.5f}, numerical limit={(f(1+h)-f(1))/h:.5f}')"
      ],
      "metadata": {
        "colab": {
          "base_uri": "https://localhost:8080/"
        },
        "id": "KOMGmAeAZoZX",
        "outputId": "f0ae3645-7558-45b4-c199-99a3e4b647f8"
      },
      "execution_count": null,
      "outputs": [
        {
          "output_type": "stream",
          "name": "stdout",
          "text": [
            "h=0.10000, numerical limit=2.30000\n",
            "h=0.01000, numerical limit=2.03000\n",
            "h=0.00100, numerical limit=2.00300\n",
            "h=0.00010, numerical limit=2.00030\n",
            "h=0.00001, numerical limit=2.00003\n"
          ]
        }
      ]
    },
    {
      "cell_type": "code",
      "source": [
        "def use_svg_display():\n",
        "    \"\"\"Use the svg format to display a plot in Jupyter.\"\"\"\n",
        "    backend_inline.set_matplotlib_formats('svg')\n",
        "\n",
        "def set_figsize(figsize=(3.5, 2.5)):\n",
        "    \"\"\"Set the figure size for matplotlib.\"\"\"\n",
        "    use_svg_display()\n",
        "    d2l.plt.rcParams['figure.figsize'] = figsize\n",
        "\n",
        "def set_axes(axes, xlabel, ylabel, xlim, ylim, xscale, yscale, legend):\n",
        "    \"\"\"Set the axes for matplotlib.\"\"\"\n",
        "    axes.set_xlabel(xlabel), axes.set_ylabel(ylabel)\n",
        "    axes.set_xscale(xscale), axes.set_yscale(yscale)\n",
        "    axes.set_xlim(xlim),     axes.set_ylim(ylim)\n",
        "    if legend:\n",
        "        axes.legend(legend)\n",
        "    axes.grid()\n",
        "\n",
        "def plot(X, Y=None, xlabel=None, ylabel=None, legend=[], xlim=None,\n",
        "         ylim=None, xscale='linear', yscale='linear',\n",
        "         fmts=('-', 'm--', 'g-.', 'r:'), figsize=(3.5, 2.5), axes=None):\n",
        "    \"\"\"Plot data points.\"\"\"\n",
        "    def has_one_axis(X):  # True if X (tensor or list) has 1 axis\n",
        "        return (hasattr(X, \"ndim\") and X.ndim == 1 or isinstance(X, list)\n",
        "                and not hasattr(X[0], \"__len__\"))\n",
        "    if has_one_axis(X): X = [X]\n",
        "    if Y is None:\n",
        "        X, Y = [[]] * len(X), X\n",
        "    elif has_one_axis(Y):\n",
        "        Y = [Y]\n",
        "    if len(X) != len(Y):\n",
        "      X = X * len(Y)\n",
        "\n",
        "    set_figsize(figsize)\n",
        "    if axes is None:\n",
        "        axes = d2l.plt.gca()\n",
        "    axes.cla()\n",
        "    for x, y, fmt in zip(X, Y, fmts):\n",
        "        axes.plot(x,y,fmt) if len(x) else axes.plot(y,fmt)\n",
        "    set_axes(axes, xlabel, ylabel, xlim, ylim, xscale, yscale, legend)"
      ],
      "metadata": {
        "id": "66ADMH6DaNpD"
      },
      "execution_count": null,
      "outputs": []
    },
    {
      "cell_type": "code",
      "source": [
        "x = np.arange(0, 3, 0.1)\n",
        "plot(x, [f(x), 2 * x - 3], 'x', 'f(x)', legend=['f(x)', 'Tangent line (x=1)'])"
      ],
      "metadata": {
        "colab": {
          "base_uri": "https://localhost:8080/",
          "height": 266
        },
        "id": "wKeouIXQbCEL",
        "outputId": "827d2d6e-c634-41b1-c801-a40bf09c6648"
      },
      "execution_count": null,
      "outputs": [
        {
          "output_type": "display_data",
          "data": {
            "text/plain": [
              "<Figure size 350x250 with 1 Axes>"
            ],
            "image/svg+xml": "<?xml version=\"1.0\" encoding=\"utf-8\" standalone=\"no\"?>\n<!DOCTYPE svg PUBLIC \"-//W3C//DTD SVG 1.1//EN\"\n  \"http://www.w3.org/Graphics/SVG/1.1/DTD/svg11.dtd\">\n<svg xmlns:xlink=\"http://www.w3.org/1999/xlink\" width=\"243.529359pt\" height=\"183.35625pt\" viewBox=\"0 0 243.529359 183.35625\" xmlns=\"http://www.w3.org/2000/svg\" version=\"1.1\">\n <metadata>\n  <rdf:RDF xmlns:dc=\"http://purl.org/dc/elements/1.1/\" xmlns:cc=\"http://creativecommons.org/ns#\" xmlns:rdf=\"http://www.w3.org/1999/02/22-rdf-syntax-ns#\">\n   <cc:Work>\n    <dc:type rdf:resource=\"http://purl.org/dc/dcmitype/StillImage\"/>\n    <dc:date>2024-04-13T12:26:22.606931</dc:date>\n    <dc:format>image/svg+xml</dc:format>\n    <dc:creator>\n     <cc:Agent>\n      <dc:title>Matplotlib v3.7.1, https://matplotlib.org/</dc:title>\n     </cc:Agent>\n    </dc:creator>\n   </cc:Work>\n  </rdf:RDF>\n </metadata>\n <defs>\n  <style type=\"text/css\">*{stroke-linejoin: round; stroke-linecap: butt}</style>\n </defs>\n <g id=\"figure_1\">\n  <g id=\"patch_1\">\n   <path d=\"M 0 183.35625 \nL 243.529359 183.35625 \nL 243.529359 0 \nL 0 0 \nz\n\" style=\"fill: #ffffff\"/>\n  </g>\n  <g id=\"axes_1\">\n   <g id=\"patch_2\">\n    <path d=\"M 40.603125 145.8 \nL 235.903125 145.8 \nL 235.903125 7.2 \nL 40.603125 7.2 \nz\n\" style=\"fill: #ffffff\"/>\n   </g>\n   <g id=\"matplotlib.axis_1\">\n    <g id=\"xtick_1\">\n     <g id=\"line2d_1\">\n      <path d=\"M 49.480398 145.8 \nL 49.480398 7.2 \n\" clip-path=\"url(#p8d24e521a7)\" style=\"fill: none; stroke: #b0b0b0; stroke-width: 0.8; stroke-linecap: square\"/>\n     </g>\n     <g id=\"line2d_2\">\n      <defs>\n       <path id=\"m5f69897ea5\" d=\"M 0 0 \nL 0 3.5 \n\" style=\"stroke: #000000; stroke-width: 0.8\"/>\n      </defs>\n      <g>\n       <use xlink:href=\"#m5f69897ea5\" x=\"49.480398\" y=\"145.8\" style=\"stroke: #000000; stroke-width: 0.8\"/>\n      </g>\n     </g>\n     <g id=\"text_1\">\n      <!-- 0 -->\n      <g transform=\"translate(46.299148 160.398438) scale(0.1 -0.1)\">\n       <defs>\n        <path id=\"DejaVuSans-30\" d=\"M 2034 4250 \nQ 1547 4250 1301 3770 \nQ 1056 3291 1056 2328 \nQ 1056 1369 1301 889 \nQ 1547 409 2034 409 \nQ 2525 409 2770 889 \nQ 3016 1369 3016 2328 \nQ 3016 3291 2770 3770 \nQ 2525 4250 2034 4250 \nz\nM 2034 4750 \nQ 2819 4750 3233 4129 \nQ 3647 3509 3647 2328 \nQ 3647 1150 3233 529 \nQ 2819 -91 2034 -91 \nQ 1250 -91 836 529 \nQ 422 1150 422 2328 \nQ 422 3509 836 4129 \nQ 1250 4750 2034 4750 \nz\n\" transform=\"scale(0.015625)\"/>\n       </defs>\n       <use xlink:href=\"#DejaVuSans-30\"/>\n      </g>\n     </g>\n    </g>\n    <g id=\"xtick_2\">\n     <g id=\"line2d_3\">\n      <path d=\"M 110.702968 145.8 \nL 110.702968 7.2 \n\" clip-path=\"url(#p8d24e521a7)\" style=\"fill: none; stroke: #b0b0b0; stroke-width: 0.8; stroke-linecap: square\"/>\n     </g>\n     <g id=\"line2d_4\">\n      <g>\n       <use xlink:href=\"#m5f69897ea5\" x=\"110.702968\" y=\"145.8\" style=\"stroke: #000000; stroke-width: 0.8\"/>\n      </g>\n     </g>\n     <g id=\"text_2\">\n      <!-- 1 -->\n      <g transform=\"translate(107.521718 160.398438) scale(0.1 -0.1)\">\n       <defs>\n        <path id=\"DejaVuSans-31\" d=\"M 794 531 \nL 1825 531 \nL 1825 4091 \nL 703 3866 \nL 703 4441 \nL 1819 4666 \nL 2450 4666 \nL 2450 531 \nL 3481 531 \nL 3481 0 \nL 794 0 \nL 794 531 \nz\n\" transform=\"scale(0.015625)\"/>\n       </defs>\n       <use xlink:href=\"#DejaVuSans-31\"/>\n      </g>\n     </g>\n    </g>\n    <g id=\"xtick_3\">\n     <g id=\"line2d_5\">\n      <path d=\"M 171.925539 145.8 \nL 171.925539 7.2 \n\" clip-path=\"url(#p8d24e521a7)\" style=\"fill: none; stroke: #b0b0b0; stroke-width: 0.8; stroke-linecap: square\"/>\n     </g>\n     <g id=\"line2d_6\">\n      <g>\n       <use xlink:href=\"#m5f69897ea5\" x=\"171.925539\" y=\"145.8\" style=\"stroke: #000000; stroke-width: 0.8\"/>\n      </g>\n     </g>\n     <g id=\"text_3\">\n      <!-- 2 -->\n      <g transform=\"translate(168.744289 160.398438) scale(0.1 -0.1)\">\n       <defs>\n        <path id=\"DejaVuSans-32\" d=\"M 1228 531 \nL 3431 531 \nL 3431 0 \nL 469 0 \nL 469 531 \nQ 828 903 1448 1529 \nQ 2069 2156 2228 2338 \nQ 2531 2678 2651 2914 \nQ 2772 3150 2772 3378 \nQ 2772 3750 2511 3984 \nQ 2250 4219 1831 4219 \nQ 1534 4219 1204 4116 \nQ 875 4013 500 3803 \nL 500 4441 \nQ 881 4594 1212 4672 \nQ 1544 4750 1819 4750 \nQ 2544 4750 2975 4387 \nQ 3406 4025 3406 3419 \nQ 3406 3131 3298 2873 \nQ 3191 2616 2906 2266 \nQ 2828 2175 2409 1742 \nQ 1991 1309 1228 531 \nz\n\" transform=\"scale(0.015625)\"/>\n       </defs>\n       <use xlink:href=\"#DejaVuSans-32\"/>\n      </g>\n     </g>\n    </g>\n    <g id=\"xtick_4\">\n     <g id=\"line2d_7\">\n      <path d=\"M 233.148109 145.8 \nL 233.148109 7.2 \n\" clip-path=\"url(#p8d24e521a7)\" style=\"fill: none; stroke: #b0b0b0; stroke-width: 0.8; stroke-linecap: square\"/>\n     </g>\n     <g id=\"line2d_8\">\n      <g>\n       <use xlink:href=\"#m5f69897ea5\" x=\"233.148109\" y=\"145.8\" style=\"stroke: #000000; stroke-width: 0.8\"/>\n      </g>\n     </g>\n     <g id=\"text_4\">\n      <!-- 3 -->\n      <g transform=\"translate(229.966859 160.398438) scale(0.1 -0.1)\">\n       <defs>\n        <path id=\"DejaVuSans-33\" d=\"M 2597 2516 \nQ 3050 2419 3304 2112 \nQ 3559 1806 3559 1356 \nQ 3559 666 3084 287 \nQ 2609 -91 1734 -91 \nQ 1441 -91 1130 -33 \nQ 819 25 488 141 \nL 488 750 \nQ 750 597 1062 519 \nQ 1375 441 1716 441 \nQ 2309 441 2620 675 \nQ 2931 909 2931 1356 \nQ 2931 1769 2642 2001 \nQ 2353 2234 1838 2234 \nL 1294 2234 \nL 1294 2753 \nL 1863 2753 \nQ 2328 2753 2575 2939 \nQ 2822 3125 2822 3475 \nQ 2822 3834 2567 4026 \nQ 2313 4219 1838 4219 \nQ 1578 4219 1281 4162 \nQ 984 4106 628 3988 \nL 628 4550 \nQ 988 4650 1302 4700 \nQ 1616 4750 1894 4750 \nQ 2613 4750 3031 4423 \nQ 3450 4097 3450 3541 \nQ 3450 3153 3228 2886 \nQ 3006 2619 2597 2516 \nz\n\" transform=\"scale(0.015625)\"/>\n       </defs>\n       <use xlink:href=\"#DejaVuSans-33\"/>\n      </g>\n     </g>\n    </g>\n    <g id=\"text_5\">\n     <!-- x -->\n     <g transform=\"translate(135.29375 174.076563) scale(0.1 -0.1)\">\n      <defs>\n       <path id=\"DejaVuSans-78\" d=\"M 3513 3500 \nL 2247 1797 \nL 3578 0 \nL 2900 0 \nL 1881 1375 \nL 863 0 \nL 184 0 \nL 1544 1831 \nL 300 3500 \nL 978 3500 \nL 1906 2253 \nL 2834 3500 \nL 3513 3500 \nz\n\" transform=\"scale(0.015625)\"/>\n      </defs>\n      <use xlink:href=\"#DejaVuSans-78\"/>\n     </g>\n    </g>\n   </g>\n   <g id=\"matplotlib.axis_2\">\n    <g id=\"ytick_1\">\n     <g id=\"line2d_9\">\n      <path d=\"M 40.603125 116.769994 \nL 235.903125 116.769994 \n\" clip-path=\"url(#p8d24e521a7)\" style=\"fill: none; stroke: #b0b0b0; stroke-width: 0.8; stroke-linecap: square\"/>\n     </g>\n     <g id=\"line2d_10\">\n      <defs>\n       <path id=\"m67e3583879\" d=\"M 0 0 \nL -3.5 0 \n\" style=\"stroke: #000000; stroke-width: 0.8\"/>\n      </defs>\n      <g>\n       <use xlink:href=\"#m67e3583879\" x=\"40.603125\" y=\"116.769994\" style=\"stroke: #000000; stroke-width: 0.8\"/>\n      </g>\n     </g>\n     <g id=\"text_6\">\n      <!-- 0 -->\n      <g transform=\"translate(27.240625 120.569213) scale(0.1 -0.1)\">\n       <use xlink:href=\"#DejaVuSans-30\"/>\n      </g>\n     </g>\n    </g>\n    <g id=\"ytick_2\">\n     <g id=\"line2d_11\">\n      <path d=\"M 40.603125 78.886651 \nL 235.903125 78.886651 \n\" clip-path=\"url(#p8d24e521a7)\" style=\"fill: none; stroke: #b0b0b0; stroke-width: 0.8; stroke-linecap: square\"/>\n     </g>\n     <g id=\"line2d_12\">\n      <g>\n       <use xlink:href=\"#m67e3583879\" x=\"40.603125\" y=\"78.886651\" style=\"stroke: #000000; stroke-width: 0.8\"/>\n      </g>\n     </g>\n     <g id=\"text_7\">\n      <!-- 5 -->\n      <g transform=\"translate(27.240625 82.685869) scale(0.1 -0.1)\">\n       <defs>\n        <path id=\"DejaVuSans-35\" d=\"M 691 4666 \nL 3169 4666 \nL 3169 4134 \nL 1269 4134 \nL 1269 2991 \nQ 1406 3038 1543 3061 \nQ 1681 3084 1819 3084 \nQ 2600 3084 3056 2656 \nQ 3513 2228 3513 1497 \nQ 3513 744 3044 326 \nQ 2575 -91 1722 -91 \nQ 1428 -91 1123 -41 \nQ 819 9 494 109 \nL 494 744 \nQ 775 591 1075 516 \nQ 1375 441 1709 441 \nQ 2250 441 2565 725 \nQ 2881 1009 2881 1497 \nQ 2881 1984 2565 2268 \nQ 2250 2553 1709 2553 \nQ 1456 2553 1204 2497 \nQ 953 2441 691 2322 \nL 691 4666 \nz\n\" transform=\"scale(0.015625)\"/>\n       </defs>\n       <use xlink:href=\"#DejaVuSans-35\"/>\n      </g>\n     </g>\n    </g>\n    <g id=\"ytick_3\">\n     <g id=\"line2d_13\">\n      <path d=\"M 40.603125 41.003307 \nL 235.903125 41.003307 \n\" clip-path=\"url(#p8d24e521a7)\" style=\"fill: none; stroke: #b0b0b0; stroke-width: 0.8; stroke-linecap: square\"/>\n     </g>\n     <g id=\"line2d_14\">\n      <g>\n       <use xlink:href=\"#m67e3583879\" x=\"40.603125\" y=\"41.003307\" style=\"stroke: #000000; stroke-width: 0.8\"/>\n      </g>\n     </g>\n     <g id=\"text_8\">\n      <!-- 10 -->\n      <g transform=\"translate(20.878125 44.802526) scale(0.1 -0.1)\">\n       <use xlink:href=\"#DejaVuSans-31\"/>\n       <use xlink:href=\"#DejaVuSans-30\" x=\"63.623047\"/>\n      </g>\n     </g>\n    </g>\n    <g id=\"text_9\">\n     <!-- f(x) -->\n     <g transform=\"translate(14.798437 85.121094) rotate(-90) scale(0.1 -0.1)\">\n      <defs>\n       <path id=\"DejaVuSans-66\" d=\"M 2375 4863 \nL 2375 4384 \nL 1825 4384 \nQ 1516 4384 1395 4259 \nQ 1275 4134 1275 3809 \nL 1275 3500 \nL 2222 3500 \nL 2222 3053 \nL 1275 3053 \nL 1275 0 \nL 697 0 \nL 697 3053 \nL 147 3053 \nL 147 3500 \nL 697 3500 \nL 697 3744 \nQ 697 4328 969 4595 \nQ 1241 4863 1831 4863 \nL 2375 4863 \nz\n\" transform=\"scale(0.015625)\"/>\n       <path id=\"DejaVuSans-28\" d=\"M 1984 4856 \nQ 1566 4138 1362 3434 \nQ 1159 2731 1159 2009 \nQ 1159 1288 1364 580 \nQ 1569 -128 1984 -844 \nL 1484 -844 \nQ 1016 -109 783 600 \nQ 550 1309 550 2009 \nQ 550 2706 781 3412 \nQ 1013 4119 1484 4856 \nL 1984 4856 \nz\n\" transform=\"scale(0.015625)\"/>\n       <path id=\"DejaVuSans-29\" d=\"M 513 4856 \nL 1013 4856 \nQ 1481 4119 1714 3412 \nQ 1947 2706 1947 2009 \nQ 1947 1309 1714 600 \nQ 1481 -109 1013 -844 \nL 513 -844 \nQ 928 -128 1133 580 \nQ 1338 1288 1338 2009 \nQ 1338 2731 1133 3434 \nQ 928 4138 513 4856 \nz\n\" transform=\"scale(0.015625)\"/>\n      </defs>\n      <use xlink:href=\"#DejaVuSans-66\"/>\n      <use xlink:href=\"#DejaVuSans-28\" x=\"35.205078\"/>\n      <use xlink:href=\"#DejaVuSans-78\" x=\"74.21875\"/>\n      <use xlink:href=\"#DejaVuSans-29\" x=\"133.398438\"/>\n     </g>\n    </g>\n   </g>\n   <g id=\"line2d_15\">\n    <path d=\"M 49.480398 116.769994 \nL 55.602655 119.573361 \nL 61.724912 121.922129 \nL 67.847169 123.816296 \nL 73.969426 125.255863 \nL 80.091683 126.24083 \nL 86.21394 126.771197 \nL 92.336197 126.846963 \nL 98.458454 126.46813 \nL 104.580711 125.634696 \nL 110.702968 124.346663 \nL 116.825225 122.604029 \nL 122.947482 120.406795 \nL 129.069739 117.754961 \nL 135.191996 114.648527 \nL 141.314254 111.087492 \nL 147.436511 107.071858 \nL 153.558768 102.601624 \nL 159.681025 97.676789 \nL 165.803282 92.297354 \nL 171.925539 86.463319 \nL 178.047796 80.174684 \nL 184.170053 73.431449 \nL 190.29231 66.233614 \nL 196.414567 58.581179 \nL 202.536824 50.474143 \nL 208.659081 41.912508 \nL 214.781338 32.896272 \nL 220.903595 23.425436 \nL 227.025852 13.5 \n\" clip-path=\"url(#p8d24e521a7)\" style=\"fill: none; stroke: #1f77b4; stroke-width: 1.5; stroke-linecap: square\"/>\n   </g>\n   <g id=\"line2d_16\">\n    <path d=\"M 49.480398 139.5 \nL 55.602655 137.984666 \nL 61.724912 136.469333 \nL 67.847169 134.953999 \nL 73.969426 133.438665 \nL 80.091683 131.923331 \nL 86.21394 130.407998 \nL 92.336197 128.892664 \nL 98.458454 127.37733 \nL 104.580711 125.861996 \nL 110.702968 124.346663 \nL 116.825225 122.831329 \nL 122.947482 121.315995 \nL 129.069739 119.800661 \nL 135.191996 118.285328 \nL 141.314254 116.769994 \nL 147.436511 115.25466 \nL 153.558768 113.739327 \nL 159.681025 112.223993 \nL 165.803282 110.708659 \nL 171.925539 109.193325 \nL 178.047796 107.677992 \nL 184.170053 106.162658 \nL 190.29231 104.647324 \nL 196.414567 103.13199 \nL 202.536824 101.616657 \nL 208.659081 100.101323 \nL 214.781338 98.585989 \nL 220.903595 97.070655 \nL 227.025852 95.555322 \n\" clip-path=\"url(#p8d24e521a7)\" style=\"fill: none; stroke-dasharray: 5.55,2.4; stroke-dashoffset: 0; stroke: #bf00bf; stroke-width: 1.5\"/>\n   </g>\n   <g id=\"patch_3\">\n    <path d=\"M 40.603125 145.8 \nL 40.603125 7.2 \n\" style=\"fill: none; stroke: #000000; stroke-width: 0.8; stroke-linejoin: miter; stroke-linecap: square\"/>\n   </g>\n   <g id=\"patch_4\">\n    <path d=\"M 235.903125 145.8 \nL 235.903125 7.2 \n\" style=\"fill: none; stroke: #000000; stroke-width: 0.8; stroke-linejoin: miter; stroke-linecap: square\"/>\n   </g>\n   <g id=\"patch_5\">\n    <path d=\"M 40.603125 145.8 \nL 235.903125 145.8 \n\" style=\"fill: none; stroke: #000000; stroke-width: 0.8; stroke-linejoin: miter; stroke-linecap: square\"/>\n   </g>\n   <g id=\"patch_6\">\n    <path d=\"M 40.603125 7.2 \nL 235.903125 7.2 \n\" style=\"fill: none; stroke: #000000; stroke-width: 0.8; stroke-linejoin: miter; stroke-linecap: square\"/>\n   </g>\n   <g id=\"legend_1\">\n    <g id=\"patch_7\">\n     <path d=\"M 47.603125 44.55625 \nL 172.153125 44.55625 \nQ 174.153125 44.55625 174.153125 42.55625 \nL 174.153125 14.2 \nQ 174.153125 12.2 172.153125 12.2 \nL 47.603125 12.2 \nQ 45.603125 12.2 45.603125 14.2 \nL 45.603125 42.55625 \nQ 45.603125 44.55625 47.603125 44.55625 \nz\n\" style=\"fill: #ffffff; opacity: 0.8; stroke: #cccccc; stroke-linejoin: miter\"/>\n    </g>\n    <g id=\"line2d_17\">\n     <path d=\"M 49.603125 20.298438 \nL 59.603125 20.298438 \nL 69.603125 20.298438 \n\" style=\"fill: none; stroke: #1f77b4; stroke-width: 1.5; stroke-linecap: square\"/>\n    </g>\n    <g id=\"text_10\">\n     <!-- f(x) -->\n     <g transform=\"translate(77.603125 23.798438) scale(0.1 -0.1)\">\n      <use xlink:href=\"#DejaVuSans-66\"/>\n      <use xlink:href=\"#DejaVuSans-28\" x=\"35.205078\"/>\n      <use xlink:href=\"#DejaVuSans-78\" x=\"74.21875\"/>\n      <use xlink:href=\"#DejaVuSans-29\" x=\"133.398438\"/>\n     </g>\n    </g>\n    <g id=\"line2d_18\">\n     <path d=\"M 49.603125 34.976562 \nL 59.603125 34.976562 \nL 69.603125 34.976562 \n\" style=\"fill: none; stroke-dasharray: 5.55,2.4; stroke-dashoffset: 0; stroke: #bf00bf; stroke-width: 1.5\"/>\n    </g>\n    <g id=\"text_11\">\n     <!-- Tangent line (x=1) -->\n     <g transform=\"translate(77.603125 38.476562) scale(0.1 -0.1)\">\n      <defs>\n       <path id=\"DejaVuSans-54\" d=\"M -19 4666 \nL 3928 4666 \nL 3928 4134 \nL 2272 4134 \nL 2272 0 \nL 1638 0 \nL 1638 4134 \nL -19 4134 \nL -19 4666 \nz\n\" transform=\"scale(0.015625)\"/>\n       <path id=\"DejaVuSans-61\" d=\"M 2194 1759 \nQ 1497 1759 1228 1600 \nQ 959 1441 959 1056 \nQ 959 750 1161 570 \nQ 1363 391 1709 391 \nQ 2188 391 2477 730 \nQ 2766 1069 2766 1631 \nL 2766 1759 \nL 2194 1759 \nz\nM 3341 1997 \nL 3341 0 \nL 2766 0 \nL 2766 531 \nQ 2569 213 2275 61 \nQ 1981 -91 1556 -91 \nQ 1019 -91 701 211 \nQ 384 513 384 1019 \nQ 384 1609 779 1909 \nQ 1175 2209 1959 2209 \nL 2766 2209 \nL 2766 2266 \nQ 2766 2663 2505 2880 \nQ 2244 3097 1772 3097 \nQ 1472 3097 1187 3025 \nQ 903 2953 641 2809 \nL 641 3341 \nQ 956 3463 1253 3523 \nQ 1550 3584 1831 3584 \nQ 2591 3584 2966 3190 \nQ 3341 2797 3341 1997 \nz\n\" transform=\"scale(0.015625)\"/>\n       <path id=\"DejaVuSans-6e\" d=\"M 3513 2113 \nL 3513 0 \nL 2938 0 \nL 2938 2094 \nQ 2938 2591 2744 2837 \nQ 2550 3084 2163 3084 \nQ 1697 3084 1428 2787 \nQ 1159 2491 1159 1978 \nL 1159 0 \nL 581 0 \nL 581 3500 \nL 1159 3500 \nL 1159 2956 \nQ 1366 3272 1645 3428 \nQ 1925 3584 2291 3584 \nQ 2894 3584 3203 3211 \nQ 3513 2838 3513 2113 \nz\n\" transform=\"scale(0.015625)\"/>\n       <path id=\"DejaVuSans-67\" d=\"M 2906 1791 \nQ 2906 2416 2648 2759 \nQ 2391 3103 1925 3103 \nQ 1463 3103 1205 2759 \nQ 947 2416 947 1791 \nQ 947 1169 1205 825 \nQ 1463 481 1925 481 \nQ 2391 481 2648 825 \nQ 2906 1169 2906 1791 \nz\nM 3481 434 \nQ 3481 -459 3084 -895 \nQ 2688 -1331 1869 -1331 \nQ 1566 -1331 1297 -1286 \nQ 1028 -1241 775 -1147 \nL 775 -588 \nQ 1028 -725 1275 -790 \nQ 1522 -856 1778 -856 \nQ 2344 -856 2625 -561 \nQ 2906 -266 2906 331 \nL 2906 616 \nQ 2728 306 2450 153 \nQ 2172 0 1784 0 \nQ 1141 0 747 490 \nQ 353 981 353 1791 \nQ 353 2603 747 3093 \nQ 1141 3584 1784 3584 \nQ 2172 3584 2450 3431 \nQ 2728 3278 2906 2969 \nL 2906 3500 \nL 3481 3500 \nL 3481 434 \nz\n\" transform=\"scale(0.015625)\"/>\n       <path id=\"DejaVuSans-65\" d=\"M 3597 1894 \nL 3597 1613 \nL 953 1613 \nQ 991 1019 1311 708 \nQ 1631 397 2203 397 \nQ 2534 397 2845 478 \nQ 3156 559 3463 722 \nL 3463 178 \nQ 3153 47 2828 -22 \nQ 2503 -91 2169 -91 \nQ 1331 -91 842 396 \nQ 353 884 353 1716 \nQ 353 2575 817 3079 \nQ 1281 3584 2069 3584 \nQ 2775 3584 3186 3129 \nQ 3597 2675 3597 1894 \nz\nM 3022 2063 \nQ 3016 2534 2758 2815 \nQ 2500 3097 2075 3097 \nQ 1594 3097 1305 2825 \nQ 1016 2553 972 2059 \nL 3022 2063 \nz\n\" transform=\"scale(0.015625)\"/>\n       <path id=\"DejaVuSans-74\" d=\"M 1172 4494 \nL 1172 3500 \nL 2356 3500 \nL 2356 3053 \nL 1172 3053 \nL 1172 1153 \nQ 1172 725 1289 603 \nQ 1406 481 1766 481 \nL 2356 481 \nL 2356 0 \nL 1766 0 \nQ 1100 0 847 248 \nQ 594 497 594 1153 \nL 594 3053 \nL 172 3053 \nL 172 3500 \nL 594 3500 \nL 594 4494 \nL 1172 4494 \nz\n\" transform=\"scale(0.015625)\"/>\n       <path id=\"DejaVuSans-20\" transform=\"scale(0.015625)\"/>\n       <path id=\"DejaVuSans-6c\" d=\"M 603 4863 \nL 1178 4863 \nL 1178 0 \nL 603 0 \nL 603 4863 \nz\n\" transform=\"scale(0.015625)\"/>\n       <path id=\"DejaVuSans-69\" d=\"M 603 3500 \nL 1178 3500 \nL 1178 0 \nL 603 0 \nL 603 3500 \nz\nM 603 4863 \nL 1178 4863 \nL 1178 4134 \nL 603 4134 \nL 603 4863 \nz\n\" transform=\"scale(0.015625)\"/>\n       <path id=\"DejaVuSans-3d\" d=\"M 678 2906 \nL 4684 2906 \nL 4684 2381 \nL 678 2381 \nL 678 2906 \nz\nM 678 1631 \nL 4684 1631 \nL 4684 1100 \nL 678 1100 \nL 678 1631 \nz\n\" transform=\"scale(0.015625)\"/>\n      </defs>\n      <use xlink:href=\"#DejaVuSans-54\"/>\n      <use xlink:href=\"#DejaVuSans-61\" x=\"44.583984\"/>\n      <use xlink:href=\"#DejaVuSans-6e\" x=\"105.863281\"/>\n      <use xlink:href=\"#DejaVuSans-67\" x=\"169.242188\"/>\n      <use xlink:href=\"#DejaVuSans-65\" x=\"232.71875\"/>\n      <use xlink:href=\"#DejaVuSans-6e\" x=\"294.242188\"/>\n      <use xlink:href=\"#DejaVuSans-74\" x=\"357.621094\"/>\n      <use xlink:href=\"#DejaVuSans-20\" x=\"396.830078\"/>\n      <use xlink:href=\"#DejaVuSans-6c\" x=\"428.617188\"/>\n      <use xlink:href=\"#DejaVuSans-69\" x=\"456.400391\"/>\n      <use xlink:href=\"#DejaVuSans-6e\" x=\"484.183594\"/>\n      <use xlink:href=\"#DejaVuSans-65\" x=\"547.5625\"/>\n      <use xlink:href=\"#DejaVuSans-20\" x=\"609.085938\"/>\n      <use xlink:href=\"#DejaVuSans-28\" x=\"640.873047\"/>\n      <use xlink:href=\"#DejaVuSans-78\" x=\"679.886719\"/>\n      <use xlink:href=\"#DejaVuSans-3d\" x=\"739.066406\"/>\n      <use xlink:href=\"#DejaVuSans-31\" x=\"822.855469\"/>\n      <use xlink:href=\"#DejaVuSans-29\" x=\"886.478516\"/>\n     </g>\n    </g>\n   </g>\n  </g>\n </g>\n <defs>\n  <clipPath id=\"p8d24e521a7\">\n   <rect x=\"40.603125\" y=\"7.2\" width=\"195.3\" height=\"138.6\"/>\n  </clipPath>\n </defs>\n</svg>\n"
          },
          "metadata": {}
        }
      ]
    },
    {
      "cell_type": "markdown",
      "source": [
        "# 2.5 Automatic Differentiation"
      ],
      "metadata": {
        "id": "jx9gdt_fc8-l"
      }
    },
    {
      "cell_type": "markdown",
      "source": [
        "# 2.5.1 A Simple Function"
      ],
      "metadata": {
        "id": "9MEzVKeTe5P5"
      }
    },
    {
      "cell_type": "code",
      "source": [
        "x = torch.arange(4.0)\n",
        "x"
      ],
      "metadata": {
        "colab": {
          "base_uri": "https://localhost:8080/"
        },
        "id": "J4nnhmH-bPkm",
        "outputId": "9137ed3a-3eb4-4707-a729-067cbab910cc"
      },
      "execution_count": null,
      "outputs": [
        {
          "output_type": "execute_result",
          "data": {
            "text/plain": [
              "tensor([0., 1., 2., 3.])"
            ]
          },
          "metadata": {},
          "execution_count": 155
        }
      ]
    },
    {
      "cell_type": "code",
      "source": [
        "# Can also create x = torch.arange(4.0, requires_grad=True)\n",
        "x.requires_grad_(True)\n",
        "x.grad  # The gradient is None by default"
      ],
      "metadata": {
        "id": "i62AUwg-e8xJ"
      },
      "execution_count": null,
      "outputs": []
    },
    {
      "cell_type": "code",
      "source": [
        "y = 2 * torch.dot(x, x)\n",
        "y"
      ],
      "metadata": {
        "colab": {
          "base_uri": "https://localhost:8080/"
        },
        "id": "7Zn6ymq6fSX_",
        "outputId": "ef9b86f4-5fc0-43ff-8925-8dc227453e66"
      },
      "execution_count": null,
      "outputs": [
        {
          "output_type": "execute_result",
          "data": {
            "text/plain": [
              "tensor(28., grad_fn=<MulBackward0>)"
            ]
          },
          "metadata": {},
          "execution_count": 158
        }
      ]
    },
    {
      "cell_type": "code",
      "source": [
        "y.backward()\n",
        "x.grad"
      ],
      "metadata": {
        "colab": {
          "base_uri": "https://localhost:8080/"
        },
        "id": "v412URIlfyO4",
        "outputId": "53f9fda7-a9b9-43e7-b940-bf9d76912db9"
      },
      "execution_count": null,
      "outputs": [
        {
          "output_type": "execute_result",
          "data": {
            "text/plain": [
              "tensor([ 0.,  4.,  8., 12.])"
            ]
          },
          "metadata": {},
          "execution_count": 159
        }
      ]
    },
    {
      "cell_type": "code",
      "source": [
        "x.grad == 4 * x"
      ],
      "metadata": {
        "colab": {
          "base_uri": "https://localhost:8080/"
        },
        "id": "SVq5YGa8gG3y",
        "outputId": "e9dcfb1f-51d7-43f4-ac7a-2c0d4fb7b245"
      },
      "execution_count": null,
      "outputs": [
        {
          "output_type": "execute_result",
          "data": {
            "text/plain": [
              "tensor([True, True, True, True])"
            ]
          },
          "metadata": {},
          "execution_count": 160
        }
      ]
    },
    {
      "cell_type": "code",
      "source": [
        "x.grad.zero_()  # Reset the gradient\n",
        "y = x.sum()\n",
        "y.backward()\n",
        "x.grad\n"
      ],
      "metadata": {
        "colab": {
          "base_uri": "https://localhost:8080/"
        },
        "id": "LALENQUSgcGo",
        "outputId": "cdf048b3-47e5-4ba2-a068-74f16ec7a7e9"
      },
      "execution_count": null,
      "outputs": [
        {
          "output_type": "execute_result",
          "data": {
            "text/plain": [
              "tensor([1., 1., 1., 1.])"
            ]
          },
          "metadata": {},
          "execution_count": 162
        }
      ]
    },
    {
      "cell_type": "markdown",
      "source": [
        "#2.5.2 Backward for Non-Scalar Variables"
      ],
      "metadata": {
        "id": "HoegXp7ngruZ"
      }
    },
    {
      "cell_type": "code",
      "source": [
        "x.grad.zero_()\n",
        "y=x*x\n",
        "y.backward(gradient=torch.ones(len(y))) # Faster: y.sum().backward()\n",
        "x.grad"
      ],
      "metadata": {
        "colab": {
          "base_uri": "https://localhost:8080/"
        },
        "id": "dgNiTlgvgtt-",
        "outputId": "c3bb06e7-f23b-4382-b28d-f5cd13d6e5a6"
      },
      "execution_count": null,
      "outputs": [
        {
          "output_type": "execute_result",
          "data": {
            "text/plain": [
              "tensor([0., 2., 4., 6.])"
            ]
          },
          "metadata": {},
          "execution_count": 164
        }
      ]
    },
    {
      "cell_type": "markdown",
      "source": [
        "#2.5.3 Detaching Computation"
      ],
      "metadata": {
        "id": "v5CAvZ43hoaC"
      }
    },
    {
      "cell_type": "code",
      "source": [
        "x.grad.zero_()\n",
        "y=x*x\n",
        "u = y.detach()\n",
        "z=u*x\n",
        "z.sum().backward()\n",
        "x.grad == u"
      ],
      "metadata": {
        "colab": {
          "base_uri": "https://localhost:8080/"
        },
        "id": "ifxVYK_bhqKq",
        "outputId": "35765ca7-61be-44d7-c5b0-327ec4a23a05"
      },
      "execution_count": null,
      "outputs": [
        {
          "output_type": "execute_result",
          "data": {
            "text/plain": [
              "tensor([True, True, True, True])"
            ]
          },
          "metadata": {},
          "execution_count": 167
        }
      ]
    },
    {
      "cell_type": "code",
      "source": [
        "x.grad.zero_()\n",
        "y.sum().backward()\n",
        "x.grad == 2 * x"
      ],
      "metadata": {
        "colab": {
          "base_uri": "https://localhost:8080/"
        },
        "id": "InKNbCTIiWpn",
        "outputId": "b4eaebd7-852f-41ba-95ca-ee6473c55b53"
      },
      "execution_count": null,
      "outputs": [
        {
          "output_type": "execute_result",
          "data": {
            "text/plain": [
              "tensor([True, True, True, True])"
            ]
          },
          "metadata": {},
          "execution_count": 168
        }
      ]
    },
    {
      "cell_type": "markdown",
      "source": [
        "#2.5.4 Gradients and Python Control Flow"
      ],
      "metadata": {
        "id": "UmP4trxeigZL"
      }
    },
    {
      "cell_type": "code",
      "source": [
        "def f(a):\n",
        "  b=a*2\n",
        "  while b.norm() < 1000:\n",
        "    b=b*2\n",
        "  if b.sum() > 0:\n",
        "    c=b\n",
        "  else:\n",
        "    c = 100 * b\n",
        "  return c"
      ],
      "metadata": {
        "id": "-CKIx1pyihcN"
      },
      "execution_count": 172,
      "outputs": []
    },
    {
      "cell_type": "code",
      "source": [
        "a = torch.randn(size=(), requires_grad=True)\n",
        "d = f(a)\n",
        "d.backward()"
      ],
      "metadata": {
        "id": "8AC8VhPPsW6h"
      },
      "execution_count": 175,
      "outputs": []
    },
    {
      "cell_type": "code",
      "source": [
        "a.grad == d / a"
      ],
      "metadata": {
        "colab": {
          "base_uri": "https://localhost:8080/"
        },
        "id": "m8KJkZHpuCd9",
        "outputId": "2a15299b-dc87-4987-d4f2-74a3979ec1c8"
      },
      "execution_count": 176,
      "outputs": [
        {
          "output_type": "execute_result",
          "data": {
            "text/plain": [
              "tensor(True)"
            ]
          },
          "metadata": {},
          "execution_count": 176
        }
      ]
    },
    {
      "cell_type": "markdown",
      "source": [
        "# 2.6 Вероятность и статистика"
      ],
      "metadata": {
        "id": "Qzx9u9UzHU05"
      }
    },
    {
      "cell_type": "code",
      "source": [
        "%matplotlib inline\n",
        "!pip install d2l==0.17.0\n",
        "import random\n",
        "import torch\n",
        "from torch.distributions.multinomial import Multinomial\n",
        "from d2l import torch as d2l"
      ],
      "metadata": {
        "colab": {
          "base_uri": "https://localhost:8080/"
        },
        "id": "NtwHOi9GHUEV",
        "outputId": "c6a38a7c-927d-4b15-f30a-0e793f0b39f0"
      },
      "execution_count": 3,
      "outputs": [
        {
          "output_type": "stream",
          "name": "stdout",
          "text": [
            "Collecting d2l==0.17.0\n",
            "  Downloading d2l-0.17.0-py3-none-any.whl (83 kB)\n",
            "\u001b[2K     \u001b[90m━━━━━━━━━━━━━━━━━━━━━━━━━━━━━━━━━━━━━━━━\u001b[0m \u001b[32m83.2/83.2 kB\u001b[0m \u001b[31m2.0 MB/s\u001b[0m eta \u001b[36m0:00:00\u001b[0m\n",
            "\u001b[?25hCollecting jupyter (from d2l==0.17.0)\n",
            "  Downloading jupyter-1.0.0-py2.py3-none-any.whl (2.7 kB)\n",
            "Requirement already satisfied: numpy in /usr/local/lib/python3.10/dist-packages (from d2l==0.17.0) (1.25.2)\n",
            "Requirement already satisfied: matplotlib in /usr/local/lib/python3.10/dist-packages (from d2l==0.17.0) (3.7.1)\n",
            "Requirement already satisfied: requests in /usr/local/lib/python3.10/dist-packages (from d2l==0.17.0) (2.31.0)\n",
            "Requirement already satisfied: pandas in /usr/local/lib/python3.10/dist-packages (from d2l==0.17.0) (2.0.3)\n",
            "Requirement already satisfied: notebook in /usr/local/lib/python3.10/dist-packages (from jupyter->d2l==0.17.0) (6.5.5)\n",
            "Collecting qtconsole (from jupyter->d2l==0.17.0)\n",
            "  Downloading qtconsole-5.5.1-py3-none-any.whl (123 kB)\n",
            "\u001b[2K     \u001b[90m━━━━━━━━━━━━━━━━━━━━━━━━━━━━━━━━━━━━━━━━\u001b[0m \u001b[32m123.4/123.4 kB\u001b[0m \u001b[31m6.1 MB/s\u001b[0m eta \u001b[36m0:00:00\u001b[0m\n",
            "\u001b[?25hRequirement already satisfied: jupyter-console in /usr/local/lib/python3.10/dist-packages (from jupyter->d2l==0.17.0) (6.1.0)\n",
            "Requirement already satisfied: nbconvert in /usr/local/lib/python3.10/dist-packages (from jupyter->d2l==0.17.0) (6.5.4)\n",
            "Requirement already satisfied: ipykernel in /usr/local/lib/python3.10/dist-packages (from jupyter->d2l==0.17.0) (5.5.6)\n",
            "Requirement already satisfied: ipywidgets in /usr/local/lib/python3.10/dist-packages (from jupyter->d2l==0.17.0) (7.7.1)\n",
            "Requirement already satisfied: contourpy>=1.0.1 in /usr/local/lib/python3.10/dist-packages (from matplotlib->d2l==0.17.0) (1.2.1)\n",
            "Requirement already satisfied: cycler>=0.10 in /usr/local/lib/python3.10/dist-packages (from matplotlib->d2l==0.17.0) (0.12.1)\n",
            "Requirement already satisfied: fonttools>=4.22.0 in /usr/local/lib/python3.10/dist-packages (from matplotlib->d2l==0.17.0) (4.51.0)\n",
            "Requirement already satisfied: kiwisolver>=1.0.1 in /usr/local/lib/python3.10/dist-packages (from matplotlib->d2l==0.17.0) (1.4.5)\n",
            "Requirement already satisfied: packaging>=20.0 in /usr/local/lib/python3.10/dist-packages (from matplotlib->d2l==0.17.0) (24.0)\n",
            "Requirement already satisfied: pillow>=6.2.0 in /usr/local/lib/python3.10/dist-packages (from matplotlib->d2l==0.17.0) (9.4.0)\n",
            "Requirement already satisfied: pyparsing>=2.3.1 in /usr/local/lib/python3.10/dist-packages (from matplotlib->d2l==0.17.0) (3.1.2)\n",
            "Requirement already satisfied: python-dateutil>=2.7 in /usr/local/lib/python3.10/dist-packages (from matplotlib->d2l==0.17.0) (2.8.2)\n",
            "Requirement already satisfied: pytz>=2020.1 in /usr/local/lib/python3.10/dist-packages (from pandas->d2l==0.17.0) (2023.4)\n",
            "Requirement already satisfied: tzdata>=2022.1 in /usr/local/lib/python3.10/dist-packages (from pandas->d2l==0.17.0) (2024.1)\n",
            "Requirement already satisfied: charset-normalizer<4,>=2 in /usr/local/lib/python3.10/dist-packages (from requests->d2l==0.17.0) (3.3.2)\n",
            "Requirement already satisfied: idna<4,>=2.5 in /usr/local/lib/python3.10/dist-packages (from requests->d2l==0.17.0) (3.6)\n",
            "Requirement already satisfied: urllib3<3,>=1.21.1 in /usr/local/lib/python3.10/dist-packages (from requests->d2l==0.17.0) (2.0.7)\n",
            "Requirement already satisfied: certifi>=2017.4.17 in /usr/local/lib/python3.10/dist-packages (from requests->d2l==0.17.0) (2024.2.2)\n",
            "Requirement already satisfied: six>=1.5 in /usr/local/lib/python3.10/dist-packages (from python-dateutil>=2.7->matplotlib->d2l==0.17.0) (1.16.0)\n",
            "Requirement already satisfied: ipython-genutils in /usr/local/lib/python3.10/dist-packages (from ipykernel->jupyter->d2l==0.17.0) (0.2.0)\n",
            "Requirement already satisfied: ipython>=5.0.0 in /usr/local/lib/python3.10/dist-packages (from ipykernel->jupyter->d2l==0.17.0) (7.34.0)\n",
            "Requirement already satisfied: traitlets>=4.1.0 in /usr/local/lib/python3.10/dist-packages (from ipykernel->jupyter->d2l==0.17.0) (5.7.1)\n",
            "Requirement already satisfied: jupyter-client in /usr/local/lib/python3.10/dist-packages (from ipykernel->jupyter->d2l==0.17.0) (6.1.12)\n",
            "Requirement already satisfied: tornado>=4.2 in /usr/local/lib/python3.10/dist-packages (from ipykernel->jupyter->d2l==0.17.0) (6.3.3)\n",
            "Requirement already satisfied: widgetsnbextension~=3.6.0 in /usr/local/lib/python3.10/dist-packages (from ipywidgets->jupyter->d2l==0.17.0) (3.6.6)\n",
            "Requirement already satisfied: jupyterlab-widgets>=1.0.0 in /usr/local/lib/python3.10/dist-packages (from ipywidgets->jupyter->d2l==0.17.0) (3.0.10)\n",
            "Requirement already satisfied: prompt-toolkit!=3.0.0,!=3.0.1,<3.1.0,>=2.0.0 in /usr/local/lib/python3.10/dist-packages (from jupyter-console->jupyter->d2l==0.17.0) (3.0.43)\n",
            "Requirement already satisfied: pygments in /usr/local/lib/python3.10/dist-packages (from jupyter-console->jupyter->d2l==0.17.0) (2.16.1)\n",
            "Requirement already satisfied: lxml in /usr/local/lib/python3.10/dist-packages (from nbconvert->jupyter->d2l==0.17.0) (4.9.4)\n",
            "Requirement already satisfied: beautifulsoup4 in /usr/local/lib/python3.10/dist-packages (from nbconvert->jupyter->d2l==0.17.0) (4.12.3)\n",
            "Requirement already satisfied: bleach in /usr/local/lib/python3.10/dist-packages (from nbconvert->jupyter->d2l==0.17.0) (6.1.0)\n",
            "Requirement already satisfied: defusedxml in /usr/local/lib/python3.10/dist-packages (from nbconvert->jupyter->d2l==0.17.0) (0.7.1)\n",
            "Requirement already satisfied: entrypoints>=0.2.2 in /usr/local/lib/python3.10/dist-packages (from nbconvert->jupyter->d2l==0.17.0) (0.4)\n",
            "Requirement already satisfied: jinja2>=3.0 in /usr/local/lib/python3.10/dist-packages (from nbconvert->jupyter->d2l==0.17.0) (3.1.3)\n",
            "Requirement already satisfied: jupyter-core>=4.7 in /usr/local/lib/python3.10/dist-packages (from nbconvert->jupyter->d2l==0.17.0) (5.7.2)\n",
            "Requirement already satisfied: jupyterlab-pygments in /usr/local/lib/python3.10/dist-packages (from nbconvert->jupyter->d2l==0.17.0) (0.3.0)\n",
            "Requirement already satisfied: MarkupSafe>=2.0 in /usr/local/lib/python3.10/dist-packages (from nbconvert->jupyter->d2l==0.17.0) (2.1.5)\n",
            "Requirement already satisfied: mistune<2,>=0.8.1 in /usr/local/lib/python3.10/dist-packages (from nbconvert->jupyter->d2l==0.17.0) (0.8.4)\n",
            "Requirement already satisfied: nbclient>=0.5.0 in /usr/local/lib/python3.10/dist-packages (from nbconvert->jupyter->d2l==0.17.0) (0.10.0)\n",
            "Requirement already satisfied: nbformat>=5.1 in /usr/local/lib/python3.10/dist-packages (from nbconvert->jupyter->d2l==0.17.0) (5.10.4)\n",
            "Requirement already satisfied: pandocfilters>=1.4.1 in /usr/local/lib/python3.10/dist-packages (from nbconvert->jupyter->d2l==0.17.0) (1.5.1)\n",
            "Requirement already satisfied: tinycss2 in /usr/local/lib/python3.10/dist-packages (from nbconvert->jupyter->d2l==0.17.0) (1.2.1)\n",
            "Requirement already satisfied: pyzmq<25,>=17 in /usr/local/lib/python3.10/dist-packages (from notebook->jupyter->d2l==0.17.0) (23.2.1)\n",
            "Requirement already satisfied: argon2-cffi in /usr/local/lib/python3.10/dist-packages (from notebook->jupyter->d2l==0.17.0) (23.1.0)\n",
            "Requirement already satisfied: nest-asyncio>=1.5 in /usr/local/lib/python3.10/dist-packages (from notebook->jupyter->d2l==0.17.0) (1.6.0)\n",
            "Requirement already satisfied: Send2Trash>=1.8.0 in /usr/local/lib/python3.10/dist-packages (from notebook->jupyter->d2l==0.17.0) (1.8.3)\n",
            "Requirement already satisfied: terminado>=0.8.3 in /usr/local/lib/python3.10/dist-packages (from notebook->jupyter->d2l==0.17.0) (0.18.1)\n",
            "Requirement already satisfied: prometheus-client in /usr/local/lib/python3.10/dist-packages (from notebook->jupyter->d2l==0.17.0) (0.20.0)\n",
            "Requirement already satisfied: nbclassic>=0.4.7 in /usr/local/lib/python3.10/dist-packages (from notebook->jupyter->d2l==0.17.0) (1.0.0)\n",
            "Collecting qtpy>=2.4.0 (from qtconsole->jupyter->d2l==0.17.0)\n",
            "  Downloading QtPy-2.4.1-py3-none-any.whl (93 kB)\n",
            "\u001b[2K     \u001b[90m━━━━━━━━━━━━━━━━━━━━━━━━━━━━━━━━━━━━━━━━\u001b[0m \u001b[32m93.5/93.5 kB\u001b[0m \u001b[31m11.9 MB/s\u001b[0m eta \u001b[36m0:00:00\u001b[0m\n",
            "\u001b[?25hRequirement already satisfied: setuptools>=18.5 in /usr/local/lib/python3.10/dist-packages (from ipython>=5.0.0->ipykernel->jupyter->d2l==0.17.0) (67.7.2)\n",
            "Collecting jedi>=0.16 (from ipython>=5.0.0->ipykernel->jupyter->d2l==0.17.0)\n",
            "  Downloading jedi-0.19.1-py2.py3-none-any.whl (1.6 MB)\n",
            "\u001b[2K     \u001b[90m━━━━━━━━━━━━━━━━━━━━━━━━━━━━━━━━━━━━━━━━\u001b[0m \u001b[32m1.6/1.6 MB\u001b[0m \u001b[31m28.0 MB/s\u001b[0m eta \u001b[36m0:00:00\u001b[0m\n",
            "\u001b[?25hRequirement already satisfied: decorator in /usr/local/lib/python3.10/dist-packages (from ipython>=5.0.0->ipykernel->jupyter->d2l==0.17.0) (4.4.2)\n",
            "Requirement already satisfied: pickleshare in /usr/local/lib/python3.10/dist-packages (from ipython>=5.0.0->ipykernel->jupyter->d2l==0.17.0) (0.7.5)\n",
            "Requirement already satisfied: backcall in /usr/local/lib/python3.10/dist-packages (from ipython>=5.0.0->ipykernel->jupyter->d2l==0.17.0) (0.2.0)\n",
            "Requirement already satisfied: matplotlib-inline in /usr/local/lib/python3.10/dist-packages (from ipython>=5.0.0->ipykernel->jupyter->d2l==0.17.0) (0.1.6)\n",
            "Requirement already satisfied: pexpect>4.3 in /usr/local/lib/python3.10/dist-packages (from ipython>=5.0.0->ipykernel->jupyter->d2l==0.17.0) (4.9.0)\n",
            "Requirement already satisfied: platformdirs>=2.5 in /usr/local/lib/python3.10/dist-packages (from jupyter-core>=4.7->nbconvert->jupyter->d2l==0.17.0) (4.2.0)\n",
            "Requirement already satisfied: jupyter-server>=1.8 in /usr/local/lib/python3.10/dist-packages (from nbclassic>=0.4.7->notebook->jupyter->d2l==0.17.0) (1.24.0)\n",
            "Requirement already satisfied: notebook-shim>=0.2.3 in /usr/local/lib/python3.10/dist-packages (from nbclassic>=0.4.7->notebook->jupyter->d2l==0.17.0) (0.2.4)\n",
            "Requirement already satisfied: fastjsonschema>=2.15 in /usr/local/lib/python3.10/dist-packages (from nbformat>=5.1->nbconvert->jupyter->d2l==0.17.0) (2.19.1)\n",
            "Requirement already satisfied: jsonschema>=2.6 in /usr/local/lib/python3.10/dist-packages (from nbformat>=5.1->nbconvert->jupyter->d2l==0.17.0) (4.19.2)\n",
            "Requirement already satisfied: wcwidth in /usr/local/lib/python3.10/dist-packages (from prompt-toolkit!=3.0.0,!=3.0.1,<3.1.0,>=2.0.0->jupyter-console->jupyter->d2l==0.17.0) (0.2.13)\n",
            "Requirement already satisfied: ptyprocess in /usr/local/lib/python3.10/dist-packages (from terminado>=0.8.3->notebook->jupyter->d2l==0.17.0) (0.7.0)\n",
            "Requirement already satisfied: argon2-cffi-bindings in /usr/local/lib/python3.10/dist-packages (from argon2-cffi->notebook->jupyter->d2l==0.17.0) (21.2.0)\n",
            "Requirement already satisfied: soupsieve>1.2 in /usr/local/lib/python3.10/dist-packages (from beautifulsoup4->nbconvert->jupyter->d2l==0.17.0) (2.5)\n",
            "Requirement already satisfied: webencodings in /usr/local/lib/python3.10/dist-packages (from bleach->nbconvert->jupyter->d2l==0.17.0) (0.5.1)\n",
            "Requirement already satisfied: parso<0.9.0,>=0.8.3 in /usr/local/lib/python3.10/dist-packages (from jedi>=0.16->ipython>=5.0.0->ipykernel->jupyter->d2l==0.17.0) (0.8.4)\n",
            "Requirement already satisfied: attrs>=22.2.0 in /usr/local/lib/python3.10/dist-packages (from jsonschema>=2.6->nbformat>=5.1->nbconvert->jupyter->d2l==0.17.0) (23.2.0)\n",
            "Requirement already satisfied: jsonschema-specifications>=2023.03.6 in /usr/local/lib/python3.10/dist-packages (from jsonschema>=2.6->nbformat>=5.1->nbconvert->jupyter->d2l==0.17.0) (2023.12.1)\n",
            "Requirement already satisfied: referencing>=0.28.4 in /usr/local/lib/python3.10/dist-packages (from jsonschema>=2.6->nbformat>=5.1->nbconvert->jupyter->d2l==0.17.0) (0.34.0)\n",
            "Requirement already satisfied: rpds-py>=0.7.1 in /usr/local/lib/python3.10/dist-packages (from jsonschema>=2.6->nbformat>=5.1->nbconvert->jupyter->d2l==0.17.0) (0.18.0)\n",
            "Requirement already satisfied: anyio<4,>=3.1.0 in /usr/local/lib/python3.10/dist-packages (from jupyter-server>=1.8->nbclassic>=0.4.7->notebook->jupyter->d2l==0.17.0) (3.7.1)\n",
            "Requirement already satisfied: websocket-client in /usr/local/lib/python3.10/dist-packages (from jupyter-server>=1.8->nbclassic>=0.4.7->notebook->jupyter->d2l==0.17.0) (1.7.0)\n",
            "Requirement already satisfied: cffi>=1.0.1 in /usr/local/lib/python3.10/dist-packages (from argon2-cffi-bindings->argon2-cffi->notebook->jupyter->d2l==0.17.0) (1.16.0)\n",
            "Requirement already satisfied: sniffio>=1.1 in /usr/local/lib/python3.10/dist-packages (from anyio<4,>=3.1.0->jupyter-server>=1.8->nbclassic>=0.4.7->notebook->jupyter->d2l==0.17.0) (1.3.1)\n",
            "Requirement already satisfied: exceptiongroup in /usr/local/lib/python3.10/dist-packages (from anyio<4,>=3.1.0->jupyter-server>=1.8->nbclassic>=0.4.7->notebook->jupyter->d2l==0.17.0) (1.2.0)\n",
            "Requirement already satisfied: pycparser in /usr/local/lib/python3.10/dist-packages (from cffi>=1.0.1->argon2-cffi-bindings->argon2-cffi->notebook->jupyter->d2l==0.17.0) (2.22)\n",
            "Installing collected packages: qtpy, jedi, qtconsole, jupyter, d2l\n",
            "Successfully installed d2l-0.17.0 jedi-0.19.1 jupyter-1.0.0 qtconsole-5.5.1 qtpy-2.4.1\n"
          ]
        }
      ]
    },
    {
      "cell_type": "markdown",
      "source": [
        "# 2.6.1 A Simple Example: Tossing Coins"
      ],
      "metadata": {
        "id": "l6C9VuCcIJ7b"
      }
    },
    {
      "cell_type": "code",
      "source": [
        "num_tosses = 100\n",
        "heads = sum([random.random() > 0.5 for _ in range(num_tosses)])\n",
        "tails = num_tosses - heads\n",
        "print(\"heads, tails: \", [heads, tails])"
      ],
      "metadata": {
        "colab": {
          "base_uri": "https://localhost:8080/"
        },
        "id": "EzB8tFZrH9EC",
        "outputId": "1e69a087-ac86-4f4c-aecb-f6d57113fe5e"
      },
      "execution_count": 4,
      "outputs": [
        {
          "output_type": "stream",
          "name": "stdout",
          "text": [
            "heads, tails:  [49, 51]\n"
          ]
        }
      ]
    },
    {
      "cell_type": "code",
      "source": [
        "fair_probs = torch.tensor([0.5, 0.5])\n",
        "Multinomial(100, fair_probs).sample()"
      ],
      "metadata": {
        "colab": {
          "base_uri": "https://localhost:8080/"
        },
        "id": "hPE6z2O4b6dc",
        "outputId": "f4cb2965-b215-4d9e-a83f-11cbea5adcf8"
      },
      "execution_count": 8,
      "outputs": [
        {
          "output_type": "execute_result",
          "data": {
            "text/plain": [
              "tensor([50., 50.])"
            ]
          },
          "metadata": {},
          "execution_count": 8
        }
      ]
    },
    {
      "cell_type": "code",
      "source": [
        "Multinomial(100, fair_probs).sample() / 100"
      ],
      "metadata": {
        "colab": {
          "base_uri": "https://localhost:8080/"
        },
        "id": "btm3R-ItcBof",
        "outputId": "807982cf-b21c-4d8c-bdfd-9ef44b914402"
      },
      "execution_count": 9,
      "outputs": [
        {
          "output_type": "execute_result",
          "data": {
            "text/plain": [
              "tensor([0.5600, 0.4400])"
            ]
          },
          "metadata": {},
          "execution_count": 9
        }
      ]
    },
    {
      "cell_type": "code",
      "source": [
        "counts = Multinomial(10000, fair_probs).sample()\n",
        "counts / 10000"
      ],
      "metadata": {
        "colab": {
          "base_uri": "https://localhost:8080/"
        },
        "id": "v77HULdlcSMp",
        "outputId": "99ee6987-13c1-4b60-f5c5-b6ef2a2272d0"
      },
      "execution_count": 10,
      "outputs": [
        {
          "output_type": "execute_result",
          "data": {
            "text/plain": [
              "tensor([0.5034, 0.4966])"
            ]
          },
          "metadata": {},
          "execution_count": 10
        }
      ]
    },
    {
      "cell_type": "code",
      "source": [
        "counts = Multinomial(1, fair_probs).sample((10000,))\n",
        "cum_counts = counts.cumsum(dim=0)\n",
        "estimates = cum_counts / cum_counts.sum(dim=1, keepdims=True)\n",
        "estimates = estimates.numpy()\n",
        "d2l.set_figsize((4.5, 3.5))\n",
        "d2l.plt.plot(estimates[:, 0], label=(\"P(coin=heads)\"))\n",
        "d2l.plt.plot(estimates[:, 1], label=(\"P(coin=tails)\"))\n",
        "d2l.plt.axhline(y=0.5, color='black', linestyle='dashed')\n",
        "d2l.plt.gca().set_xlabel('Samples')\n",
        "d2l.plt.gca().set_ylabel('Estimated probability')\n",
        "d2l.plt.legend();"
      ],
      "metadata": {
        "colab": {
          "base_uri": "https://localhost:8080/",
          "height": 340
        },
        "id": "JCGNdnpJceQA",
        "outputId": "43b7a956-d63a-46ac-b00a-ed7d45c9bb11"
      },
      "execution_count": 11,
      "outputs": [
        {
          "output_type": "display_data",
          "data": {
            "text/plain": [
              "<Figure size 450x350 with 1 Axes>"
            ],
            "image/svg+xml": "<?xml version=\"1.0\" encoding=\"utf-8\" standalone=\"no\"?>\n<!DOCTYPE svg PUBLIC \"-//W3C//DTD SVG 1.1//EN\"\n  \"http://www.w3.org/Graphics/SVG/1.1/DTD/svg11.dtd\">\n<svg xmlns:xlink=\"http://www.w3.org/1999/xlink\" width=\"306.596693pt\" height=\"238.79625pt\" viewBox=\"0 0 306.596693 238.79625\" xmlns=\"http://www.w3.org/2000/svg\" version=\"1.1\">\n <metadata>\n  <rdf:RDF xmlns:dc=\"http://purl.org/dc/elements/1.1/\" xmlns:cc=\"http://creativecommons.org/ns#\" xmlns:rdf=\"http://www.w3.org/1999/02/22-rdf-syntax-ns#\">\n   <cc:Work>\n    <dc:type rdf:resource=\"http://purl.org/dc/dcmitype/StillImage\"/>\n    <dc:date>2024-04-14T07:11:00.790905</dc:date>\n    <dc:format>image/svg+xml</dc:format>\n    <dc:creator>\n     <cc:Agent>\n      <dc:title>Matplotlib v3.7.1, https://matplotlib.org/</dc:title>\n     </cc:Agent>\n    </dc:creator>\n   </cc:Work>\n  </rdf:RDF>\n </metadata>\n <defs>\n  <style type=\"text/css\">*{stroke-linejoin: round; stroke-linecap: butt}</style>\n </defs>\n <g id=\"figure_1\">\n  <g id=\"patch_1\">\n   <path d=\"M 0 238.79625 \nL 306.596693 238.79625 \nL 306.596693 0 \nL 0 0 \nz\n\" style=\"fill: #ffffff\"/>\n  </g>\n  <g id=\"axes_1\">\n   <g id=\"patch_2\">\n    <path d=\"M 43.78125 201.24 \nL 294.88125 201.24 \nL 294.88125 7.2 \nL 43.78125 7.2 \nz\n\" style=\"fill: #ffffff\"/>\n   </g>\n   <g id=\"matplotlib.axis_1\">\n    <g id=\"xtick_1\">\n     <g id=\"line2d_1\">\n      <defs>\n       <path id=\"m6b86ea6148\" d=\"M 0 0 \nL 0 3.5 \n\" style=\"stroke: #000000; stroke-width: 0.8\"/>\n      </defs>\n      <g>\n       <use xlink:href=\"#m6b86ea6148\" x=\"55.194886\" y=\"201.24\" style=\"stroke: #000000; stroke-width: 0.8\"/>\n      </g>\n     </g>\n     <g id=\"text_1\">\n      <!-- 0 -->\n      <g transform=\"translate(52.013636 215.838437) scale(0.1 -0.1)\">\n       <defs>\n        <path id=\"DejaVuSans-30\" d=\"M 2034 4250 \nQ 1547 4250 1301 3770 \nQ 1056 3291 1056 2328 \nQ 1056 1369 1301 889 \nQ 1547 409 2034 409 \nQ 2525 409 2770 889 \nQ 3016 1369 3016 2328 \nQ 3016 3291 2770 3770 \nQ 2525 4250 2034 4250 \nz\nM 2034 4750 \nQ 2819 4750 3233 4129 \nQ 3647 3509 3647 2328 \nQ 3647 1150 3233 529 \nQ 2819 -91 2034 -91 \nQ 1250 -91 836 529 \nQ 422 1150 422 2328 \nQ 422 3509 836 4129 \nQ 1250 4750 2034 4750 \nz\n\" transform=\"scale(0.015625)\"/>\n       </defs>\n       <use xlink:href=\"#DejaVuSans-30\"/>\n      </g>\n     </g>\n    </g>\n    <g id=\"xtick_2\">\n     <g id=\"line2d_2\">\n      <g>\n       <use xlink:href=\"#m6b86ea6148\" x=\"100.853998\" y=\"201.24\" style=\"stroke: #000000; stroke-width: 0.8\"/>\n      </g>\n     </g>\n     <g id=\"text_2\">\n      <!-- 2000 -->\n      <g transform=\"translate(88.128998 215.838437) scale(0.1 -0.1)\">\n       <defs>\n        <path id=\"DejaVuSans-32\" d=\"M 1228 531 \nL 3431 531 \nL 3431 0 \nL 469 0 \nL 469 531 \nQ 828 903 1448 1529 \nQ 2069 2156 2228 2338 \nQ 2531 2678 2651 2914 \nQ 2772 3150 2772 3378 \nQ 2772 3750 2511 3984 \nQ 2250 4219 1831 4219 \nQ 1534 4219 1204 4116 \nQ 875 4013 500 3803 \nL 500 4441 \nQ 881 4594 1212 4672 \nQ 1544 4750 1819 4750 \nQ 2544 4750 2975 4387 \nQ 3406 4025 3406 3419 \nQ 3406 3131 3298 2873 \nQ 3191 2616 2906 2266 \nQ 2828 2175 2409 1742 \nQ 1991 1309 1228 531 \nz\n\" transform=\"scale(0.015625)\"/>\n       </defs>\n       <use xlink:href=\"#DejaVuSans-32\"/>\n       <use xlink:href=\"#DejaVuSans-30\" x=\"63.623047\"/>\n       <use xlink:href=\"#DejaVuSans-30\" x=\"127.246094\"/>\n       <use xlink:href=\"#DejaVuSans-30\" x=\"190.869141\"/>\n      </g>\n     </g>\n    </g>\n    <g id=\"xtick_3\">\n     <g id=\"line2d_3\">\n      <g>\n       <use xlink:href=\"#m6b86ea6148\" x=\"146.513109\" y=\"201.24\" style=\"stroke: #000000; stroke-width: 0.8\"/>\n      </g>\n     </g>\n     <g id=\"text_3\">\n      <!-- 4000 -->\n      <g transform=\"translate(133.788109 215.838437) scale(0.1 -0.1)\">\n       <defs>\n        <path id=\"DejaVuSans-34\" d=\"M 2419 4116 \nL 825 1625 \nL 2419 1625 \nL 2419 4116 \nz\nM 2253 4666 \nL 3047 4666 \nL 3047 1625 \nL 3713 1625 \nL 3713 1100 \nL 3047 1100 \nL 3047 0 \nL 2419 0 \nL 2419 1100 \nL 313 1100 \nL 313 1709 \nL 2253 4666 \nz\n\" transform=\"scale(0.015625)\"/>\n       </defs>\n       <use xlink:href=\"#DejaVuSans-34\"/>\n       <use xlink:href=\"#DejaVuSans-30\" x=\"63.623047\"/>\n       <use xlink:href=\"#DejaVuSans-30\" x=\"127.246094\"/>\n       <use xlink:href=\"#DejaVuSans-30\" x=\"190.869141\"/>\n      </g>\n     </g>\n    </g>\n    <g id=\"xtick_4\">\n     <g id=\"line2d_4\">\n      <g>\n       <use xlink:href=\"#m6b86ea6148\" x=\"192.17222\" y=\"201.24\" style=\"stroke: #000000; stroke-width: 0.8\"/>\n      </g>\n     </g>\n     <g id=\"text_4\">\n      <!-- 6000 -->\n      <g transform=\"translate(179.44722 215.838437) scale(0.1 -0.1)\">\n       <defs>\n        <path id=\"DejaVuSans-36\" d=\"M 2113 2584 \nQ 1688 2584 1439 2293 \nQ 1191 2003 1191 1497 \nQ 1191 994 1439 701 \nQ 1688 409 2113 409 \nQ 2538 409 2786 701 \nQ 3034 994 3034 1497 \nQ 3034 2003 2786 2293 \nQ 2538 2584 2113 2584 \nz\nM 3366 4563 \nL 3366 3988 \nQ 3128 4100 2886 4159 \nQ 2644 4219 2406 4219 \nQ 1781 4219 1451 3797 \nQ 1122 3375 1075 2522 \nQ 1259 2794 1537 2939 \nQ 1816 3084 2150 3084 \nQ 2853 3084 3261 2657 \nQ 3669 2231 3669 1497 \nQ 3669 778 3244 343 \nQ 2819 -91 2113 -91 \nQ 1303 -91 875 529 \nQ 447 1150 447 2328 \nQ 447 3434 972 4092 \nQ 1497 4750 2381 4750 \nQ 2619 4750 2861 4703 \nQ 3103 4656 3366 4563 \nz\n\" transform=\"scale(0.015625)\"/>\n       </defs>\n       <use xlink:href=\"#DejaVuSans-36\"/>\n       <use xlink:href=\"#DejaVuSans-30\" x=\"63.623047\"/>\n       <use xlink:href=\"#DejaVuSans-30\" x=\"127.246094\"/>\n       <use xlink:href=\"#DejaVuSans-30\" x=\"190.869141\"/>\n      </g>\n     </g>\n    </g>\n    <g id=\"xtick_5\">\n     <g id=\"line2d_5\">\n      <g>\n       <use xlink:href=\"#m6b86ea6148\" x=\"237.831332\" y=\"201.24\" style=\"stroke: #000000; stroke-width: 0.8\"/>\n      </g>\n     </g>\n     <g id=\"text_5\">\n      <!-- 8000 -->\n      <g transform=\"translate(225.106332 215.838437) scale(0.1 -0.1)\">\n       <defs>\n        <path id=\"DejaVuSans-38\" d=\"M 2034 2216 \nQ 1584 2216 1326 1975 \nQ 1069 1734 1069 1313 \nQ 1069 891 1326 650 \nQ 1584 409 2034 409 \nQ 2484 409 2743 651 \nQ 3003 894 3003 1313 \nQ 3003 1734 2745 1975 \nQ 2488 2216 2034 2216 \nz\nM 1403 2484 \nQ 997 2584 770 2862 \nQ 544 3141 544 3541 \nQ 544 4100 942 4425 \nQ 1341 4750 2034 4750 \nQ 2731 4750 3128 4425 \nQ 3525 4100 3525 3541 \nQ 3525 3141 3298 2862 \nQ 3072 2584 2669 2484 \nQ 3125 2378 3379 2068 \nQ 3634 1759 3634 1313 \nQ 3634 634 3220 271 \nQ 2806 -91 2034 -91 \nQ 1263 -91 848 271 \nQ 434 634 434 1313 \nQ 434 1759 690 2068 \nQ 947 2378 1403 2484 \nz\nM 1172 3481 \nQ 1172 3119 1398 2916 \nQ 1625 2713 2034 2713 \nQ 2441 2713 2670 2916 \nQ 2900 3119 2900 3481 \nQ 2900 3844 2670 4047 \nQ 2441 4250 2034 4250 \nQ 1625 4250 1398 4047 \nQ 1172 3844 1172 3481 \nz\n\" transform=\"scale(0.015625)\"/>\n       </defs>\n       <use xlink:href=\"#DejaVuSans-38\"/>\n       <use xlink:href=\"#DejaVuSans-30\" x=\"63.623047\"/>\n       <use xlink:href=\"#DejaVuSans-30\" x=\"127.246094\"/>\n       <use xlink:href=\"#DejaVuSans-30\" x=\"190.869141\"/>\n      </g>\n     </g>\n    </g>\n    <g id=\"xtick_6\">\n     <g id=\"line2d_6\">\n      <g>\n       <use xlink:href=\"#m6b86ea6148\" x=\"283.490443\" y=\"201.24\" style=\"stroke: #000000; stroke-width: 0.8\"/>\n      </g>\n     </g>\n     <g id=\"text_6\">\n      <!-- 10000 -->\n      <g transform=\"translate(267.584193 215.838437) scale(0.1 -0.1)\">\n       <defs>\n        <path id=\"DejaVuSans-31\" d=\"M 794 531 \nL 1825 531 \nL 1825 4091 \nL 703 3866 \nL 703 4441 \nL 1819 4666 \nL 2450 4666 \nL 2450 531 \nL 3481 531 \nL 3481 0 \nL 794 0 \nL 794 531 \nz\n\" transform=\"scale(0.015625)\"/>\n       </defs>\n       <use xlink:href=\"#DejaVuSans-31\"/>\n       <use xlink:href=\"#DejaVuSans-30\" x=\"63.623047\"/>\n       <use xlink:href=\"#DejaVuSans-30\" x=\"127.246094\"/>\n       <use xlink:href=\"#DejaVuSans-30\" x=\"190.869141\"/>\n       <use xlink:href=\"#DejaVuSans-30\" x=\"254.492188\"/>\n      </g>\n     </g>\n    </g>\n    <g id=\"text_7\">\n     <!-- Samples -->\n     <g transform=\"translate(147.978125 229.516562) scale(0.1 -0.1)\">\n      <defs>\n       <path id=\"DejaVuSans-53\" d=\"M 3425 4513 \nL 3425 3897 \nQ 3066 4069 2747 4153 \nQ 2428 4238 2131 4238 \nQ 1616 4238 1336 4038 \nQ 1056 3838 1056 3469 \nQ 1056 3159 1242 3001 \nQ 1428 2844 1947 2747 \nL 2328 2669 \nQ 3034 2534 3370 2195 \nQ 3706 1856 3706 1288 \nQ 3706 609 3251 259 \nQ 2797 -91 1919 -91 \nQ 1588 -91 1214 -16 \nQ 841 59 441 206 \nL 441 856 \nQ 825 641 1194 531 \nQ 1563 422 1919 422 \nQ 2459 422 2753 634 \nQ 3047 847 3047 1241 \nQ 3047 1584 2836 1778 \nQ 2625 1972 2144 2069 \nL 1759 2144 \nQ 1053 2284 737 2584 \nQ 422 2884 422 3419 \nQ 422 4038 858 4394 \nQ 1294 4750 2059 4750 \nQ 2388 4750 2728 4690 \nQ 3069 4631 3425 4513 \nz\n\" transform=\"scale(0.015625)\"/>\n       <path id=\"DejaVuSans-61\" d=\"M 2194 1759 \nQ 1497 1759 1228 1600 \nQ 959 1441 959 1056 \nQ 959 750 1161 570 \nQ 1363 391 1709 391 \nQ 2188 391 2477 730 \nQ 2766 1069 2766 1631 \nL 2766 1759 \nL 2194 1759 \nz\nM 3341 1997 \nL 3341 0 \nL 2766 0 \nL 2766 531 \nQ 2569 213 2275 61 \nQ 1981 -91 1556 -91 \nQ 1019 -91 701 211 \nQ 384 513 384 1019 \nQ 384 1609 779 1909 \nQ 1175 2209 1959 2209 \nL 2766 2209 \nL 2766 2266 \nQ 2766 2663 2505 2880 \nQ 2244 3097 1772 3097 \nQ 1472 3097 1187 3025 \nQ 903 2953 641 2809 \nL 641 3341 \nQ 956 3463 1253 3523 \nQ 1550 3584 1831 3584 \nQ 2591 3584 2966 3190 \nQ 3341 2797 3341 1997 \nz\n\" transform=\"scale(0.015625)\"/>\n       <path id=\"DejaVuSans-6d\" d=\"M 3328 2828 \nQ 3544 3216 3844 3400 \nQ 4144 3584 4550 3584 \nQ 5097 3584 5394 3201 \nQ 5691 2819 5691 2113 \nL 5691 0 \nL 5113 0 \nL 5113 2094 \nQ 5113 2597 4934 2840 \nQ 4756 3084 4391 3084 \nQ 3944 3084 3684 2787 \nQ 3425 2491 3425 1978 \nL 3425 0 \nL 2847 0 \nL 2847 2094 \nQ 2847 2600 2669 2842 \nQ 2491 3084 2119 3084 \nQ 1678 3084 1418 2786 \nQ 1159 2488 1159 1978 \nL 1159 0 \nL 581 0 \nL 581 3500 \nL 1159 3500 \nL 1159 2956 \nQ 1356 3278 1631 3431 \nQ 1906 3584 2284 3584 \nQ 2666 3584 2933 3390 \nQ 3200 3197 3328 2828 \nz\n\" transform=\"scale(0.015625)\"/>\n       <path id=\"DejaVuSans-70\" d=\"M 1159 525 \nL 1159 -1331 \nL 581 -1331 \nL 581 3500 \nL 1159 3500 \nL 1159 2969 \nQ 1341 3281 1617 3432 \nQ 1894 3584 2278 3584 \nQ 2916 3584 3314 3078 \nQ 3713 2572 3713 1747 \nQ 3713 922 3314 415 \nQ 2916 -91 2278 -91 \nQ 1894 -91 1617 61 \nQ 1341 213 1159 525 \nz\nM 3116 1747 \nQ 3116 2381 2855 2742 \nQ 2594 3103 2138 3103 \nQ 1681 3103 1420 2742 \nQ 1159 2381 1159 1747 \nQ 1159 1113 1420 752 \nQ 1681 391 2138 391 \nQ 2594 391 2855 752 \nQ 3116 1113 3116 1747 \nz\n\" transform=\"scale(0.015625)\"/>\n       <path id=\"DejaVuSans-6c\" d=\"M 603 4863 \nL 1178 4863 \nL 1178 0 \nL 603 0 \nL 603 4863 \nz\n\" transform=\"scale(0.015625)\"/>\n       <path id=\"DejaVuSans-65\" d=\"M 3597 1894 \nL 3597 1613 \nL 953 1613 \nQ 991 1019 1311 708 \nQ 1631 397 2203 397 \nQ 2534 397 2845 478 \nQ 3156 559 3463 722 \nL 3463 178 \nQ 3153 47 2828 -22 \nQ 2503 -91 2169 -91 \nQ 1331 -91 842 396 \nQ 353 884 353 1716 \nQ 353 2575 817 3079 \nQ 1281 3584 2069 3584 \nQ 2775 3584 3186 3129 \nQ 3597 2675 3597 1894 \nz\nM 3022 2063 \nQ 3016 2534 2758 2815 \nQ 2500 3097 2075 3097 \nQ 1594 3097 1305 2825 \nQ 1016 2553 972 2059 \nL 3022 2063 \nz\n\" transform=\"scale(0.015625)\"/>\n       <path id=\"DejaVuSans-73\" d=\"M 2834 3397 \nL 2834 2853 \nQ 2591 2978 2328 3040 \nQ 2066 3103 1784 3103 \nQ 1356 3103 1142 2972 \nQ 928 2841 928 2578 \nQ 928 2378 1081 2264 \nQ 1234 2150 1697 2047 \nL 1894 2003 \nQ 2506 1872 2764 1633 \nQ 3022 1394 3022 966 \nQ 3022 478 2636 193 \nQ 2250 -91 1575 -91 \nQ 1294 -91 989 -36 \nQ 684 19 347 128 \nL 347 722 \nQ 666 556 975 473 \nQ 1284 391 1588 391 \nQ 1994 391 2212 530 \nQ 2431 669 2431 922 \nQ 2431 1156 2273 1281 \nQ 2116 1406 1581 1522 \nL 1381 1569 \nQ 847 1681 609 1914 \nQ 372 2147 372 2553 \nQ 372 3047 722 3315 \nQ 1072 3584 1716 3584 \nQ 2034 3584 2315 3537 \nQ 2597 3491 2834 3397 \nz\n\" transform=\"scale(0.015625)\"/>\n      </defs>\n      <use xlink:href=\"#DejaVuSans-53\"/>\n      <use xlink:href=\"#DejaVuSans-61\" x=\"63.476562\"/>\n      <use xlink:href=\"#DejaVuSans-6d\" x=\"124.755859\"/>\n      <use xlink:href=\"#DejaVuSans-70\" x=\"222.167969\"/>\n      <use xlink:href=\"#DejaVuSans-6c\" x=\"285.644531\"/>\n      <use xlink:href=\"#DejaVuSans-65\" x=\"313.427734\"/>\n      <use xlink:href=\"#DejaVuSans-73\" x=\"374.951172\"/>\n     </g>\n    </g>\n   </g>\n   <g id=\"matplotlib.axis_2\">\n    <g id=\"ytick_1\">\n     <g id=\"line2d_7\">\n      <defs>\n       <path id=\"m8958205ded\" d=\"M 0 0 \nL -3.5 0 \n\" style=\"stroke: #000000; stroke-width: 0.8\"/>\n      </defs>\n      <g>\n       <use xlink:href=\"#m8958205ded\" x=\"43.78125\" y=\"192.42\" style=\"stroke: #000000; stroke-width: 0.8\"/>\n      </g>\n     </g>\n     <g id=\"text_8\">\n      <!-- 0.0 -->\n      <g transform=\"translate(20.878125 196.219219) scale(0.1 -0.1)\">\n       <defs>\n        <path id=\"DejaVuSans-2e\" d=\"M 684 794 \nL 1344 794 \nL 1344 0 \nL 684 0 \nL 684 794 \nz\n\" transform=\"scale(0.015625)\"/>\n       </defs>\n       <use xlink:href=\"#DejaVuSans-30\"/>\n       <use xlink:href=\"#DejaVuSans-2e\" x=\"63.623047\"/>\n       <use xlink:href=\"#DejaVuSans-30\" x=\"95.410156\"/>\n      </g>\n     </g>\n    </g>\n    <g id=\"ytick_2\">\n     <g id=\"line2d_8\">\n      <g>\n       <use xlink:href=\"#m8958205ded\" x=\"43.78125\" y=\"157.14\" style=\"stroke: #000000; stroke-width: 0.8\"/>\n      </g>\n     </g>\n     <g id=\"text_9\">\n      <!-- 0.2 -->\n      <g transform=\"translate(20.878125 160.939219) scale(0.1 -0.1)\">\n       <use xlink:href=\"#DejaVuSans-30\"/>\n       <use xlink:href=\"#DejaVuSans-2e\" x=\"63.623047\"/>\n       <use xlink:href=\"#DejaVuSans-32\" x=\"95.410156\"/>\n      </g>\n     </g>\n    </g>\n    <g id=\"ytick_3\">\n     <g id=\"line2d_9\">\n      <g>\n       <use xlink:href=\"#m8958205ded\" x=\"43.78125\" y=\"121.86\" style=\"stroke: #000000; stroke-width: 0.8\"/>\n      </g>\n     </g>\n     <g id=\"text_10\">\n      <!-- 0.4 -->\n      <g transform=\"translate(20.878125 125.659219) scale(0.1 -0.1)\">\n       <use xlink:href=\"#DejaVuSans-30\"/>\n       <use xlink:href=\"#DejaVuSans-2e\" x=\"63.623047\"/>\n       <use xlink:href=\"#DejaVuSans-34\" x=\"95.410156\"/>\n      </g>\n     </g>\n    </g>\n    <g id=\"ytick_4\">\n     <g id=\"line2d_10\">\n      <g>\n       <use xlink:href=\"#m8958205ded\" x=\"43.78125\" y=\"86.58\" style=\"stroke: #000000; stroke-width: 0.8\"/>\n      </g>\n     </g>\n     <g id=\"text_11\">\n      <!-- 0.6 -->\n      <g transform=\"translate(20.878125 90.379219) scale(0.1 -0.1)\">\n       <use xlink:href=\"#DejaVuSans-30\"/>\n       <use xlink:href=\"#DejaVuSans-2e\" x=\"63.623047\"/>\n       <use xlink:href=\"#DejaVuSans-36\" x=\"95.410156\"/>\n      </g>\n     </g>\n    </g>\n    <g id=\"ytick_5\">\n     <g id=\"line2d_11\">\n      <g>\n       <use xlink:href=\"#m8958205ded\" x=\"43.78125\" y=\"51.3\" style=\"stroke: #000000; stroke-width: 0.8\"/>\n      </g>\n     </g>\n     <g id=\"text_12\">\n      <!-- 0.8 -->\n      <g transform=\"translate(20.878125 55.099219) scale(0.1 -0.1)\">\n       <use xlink:href=\"#DejaVuSans-30\"/>\n       <use xlink:href=\"#DejaVuSans-2e\" x=\"63.623047\"/>\n       <use xlink:href=\"#DejaVuSans-38\" x=\"95.410156\"/>\n      </g>\n     </g>\n    </g>\n    <g id=\"ytick_6\">\n     <g id=\"line2d_12\">\n      <g>\n       <use xlink:href=\"#m8958205ded\" x=\"43.78125\" y=\"16.02\" style=\"stroke: #000000; stroke-width: 0.8\"/>\n      </g>\n     </g>\n     <g id=\"text_13\">\n      <!-- 1.0 -->\n      <g transform=\"translate(20.878125 19.819219) scale(0.1 -0.1)\">\n       <use xlink:href=\"#DejaVuSans-31\"/>\n       <use xlink:href=\"#DejaVuSans-2e\" x=\"63.623047\"/>\n       <use xlink:href=\"#DejaVuSans-30\" x=\"95.410156\"/>\n      </g>\n     </g>\n    </g>\n    <g id=\"text_14\">\n     <!-- Estimated probability -->\n     <g transform=\"translate(14.798438 157.743437) rotate(-90) scale(0.1 -0.1)\">\n      <defs>\n       <path id=\"DejaVuSans-45\" d=\"M 628 4666 \nL 3578 4666 \nL 3578 4134 \nL 1259 4134 \nL 1259 2753 \nL 3481 2753 \nL 3481 2222 \nL 1259 2222 \nL 1259 531 \nL 3634 531 \nL 3634 0 \nL 628 0 \nL 628 4666 \nz\n\" transform=\"scale(0.015625)\"/>\n       <path id=\"DejaVuSans-74\" d=\"M 1172 4494 \nL 1172 3500 \nL 2356 3500 \nL 2356 3053 \nL 1172 3053 \nL 1172 1153 \nQ 1172 725 1289 603 \nQ 1406 481 1766 481 \nL 2356 481 \nL 2356 0 \nL 1766 0 \nQ 1100 0 847 248 \nQ 594 497 594 1153 \nL 594 3053 \nL 172 3053 \nL 172 3500 \nL 594 3500 \nL 594 4494 \nL 1172 4494 \nz\n\" transform=\"scale(0.015625)\"/>\n       <path id=\"DejaVuSans-69\" d=\"M 603 3500 \nL 1178 3500 \nL 1178 0 \nL 603 0 \nL 603 3500 \nz\nM 603 4863 \nL 1178 4863 \nL 1178 4134 \nL 603 4134 \nL 603 4863 \nz\n\" transform=\"scale(0.015625)\"/>\n       <path id=\"DejaVuSans-64\" d=\"M 2906 2969 \nL 2906 4863 \nL 3481 4863 \nL 3481 0 \nL 2906 0 \nL 2906 525 \nQ 2725 213 2448 61 \nQ 2172 -91 1784 -91 \nQ 1150 -91 751 415 \nQ 353 922 353 1747 \nQ 353 2572 751 3078 \nQ 1150 3584 1784 3584 \nQ 2172 3584 2448 3432 \nQ 2725 3281 2906 2969 \nz\nM 947 1747 \nQ 947 1113 1208 752 \nQ 1469 391 1925 391 \nQ 2381 391 2643 752 \nQ 2906 1113 2906 1747 \nQ 2906 2381 2643 2742 \nQ 2381 3103 1925 3103 \nQ 1469 3103 1208 2742 \nQ 947 2381 947 1747 \nz\n\" transform=\"scale(0.015625)\"/>\n       <path id=\"DejaVuSans-20\" transform=\"scale(0.015625)\"/>\n       <path id=\"DejaVuSans-72\" d=\"M 2631 2963 \nQ 2534 3019 2420 3045 \nQ 2306 3072 2169 3072 \nQ 1681 3072 1420 2755 \nQ 1159 2438 1159 1844 \nL 1159 0 \nL 581 0 \nL 581 3500 \nL 1159 3500 \nL 1159 2956 \nQ 1341 3275 1631 3429 \nQ 1922 3584 2338 3584 \nQ 2397 3584 2469 3576 \nQ 2541 3569 2628 3553 \nL 2631 2963 \nz\n\" transform=\"scale(0.015625)\"/>\n       <path id=\"DejaVuSans-6f\" d=\"M 1959 3097 \nQ 1497 3097 1228 2736 \nQ 959 2375 959 1747 \nQ 959 1119 1226 758 \nQ 1494 397 1959 397 \nQ 2419 397 2687 759 \nQ 2956 1122 2956 1747 \nQ 2956 2369 2687 2733 \nQ 2419 3097 1959 3097 \nz\nM 1959 3584 \nQ 2709 3584 3137 3096 \nQ 3566 2609 3566 1747 \nQ 3566 888 3137 398 \nQ 2709 -91 1959 -91 \nQ 1206 -91 779 398 \nQ 353 888 353 1747 \nQ 353 2609 779 3096 \nQ 1206 3584 1959 3584 \nz\n\" transform=\"scale(0.015625)\"/>\n       <path id=\"DejaVuSans-62\" d=\"M 3116 1747 \nQ 3116 2381 2855 2742 \nQ 2594 3103 2138 3103 \nQ 1681 3103 1420 2742 \nQ 1159 2381 1159 1747 \nQ 1159 1113 1420 752 \nQ 1681 391 2138 391 \nQ 2594 391 2855 752 \nQ 3116 1113 3116 1747 \nz\nM 1159 2969 \nQ 1341 3281 1617 3432 \nQ 1894 3584 2278 3584 \nQ 2916 3584 3314 3078 \nQ 3713 2572 3713 1747 \nQ 3713 922 3314 415 \nQ 2916 -91 2278 -91 \nQ 1894 -91 1617 61 \nQ 1341 213 1159 525 \nL 1159 0 \nL 581 0 \nL 581 4863 \nL 1159 4863 \nL 1159 2969 \nz\n\" transform=\"scale(0.015625)\"/>\n       <path id=\"DejaVuSans-79\" d=\"M 2059 -325 \nQ 1816 -950 1584 -1140 \nQ 1353 -1331 966 -1331 \nL 506 -1331 \nL 506 -850 \nL 844 -850 \nQ 1081 -850 1212 -737 \nQ 1344 -625 1503 -206 \nL 1606 56 \nL 191 3500 \nL 800 3500 \nL 1894 763 \nL 2988 3500 \nL 3597 3500 \nL 2059 -325 \nz\n\" transform=\"scale(0.015625)\"/>\n      </defs>\n      <use xlink:href=\"#DejaVuSans-45\"/>\n      <use xlink:href=\"#DejaVuSans-73\" x=\"63.183594\"/>\n      <use xlink:href=\"#DejaVuSans-74\" x=\"115.283203\"/>\n      <use xlink:href=\"#DejaVuSans-69\" x=\"154.492188\"/>\n      <use xlink:href=\"#DejaVuSans-6d\" x=\"182.275391\"/>\n      <use xlink:href=\"#DejaVuSans-61\" x=\"279.6875\"/>\n      <use xlink:href=\"#DejaVuSans-74\" x=\"340.966797\"/>\n      <use xlink:href=\"#DejaVuSans-65\" x=\"380.175781\"/>\n      <use xlink:href=\"#DejaVuSans-64\" x=\"441.699219\"/>\n      <use xlink:href=\"#DejaVuSans-20\" x=\"505.175781\"/>\n      <use xlink:href=\"#DejaVuSans-70\" x=\"536.962891\"/>\n      <use xlink:href=\"#DejaVuSans-72\" x=\"600.439453\"/>\n      <use xlink:href=\"#DejaVuSans-6f\" x=\"639.302734\"/>\n      <use xlink:href=\"#DejaVuSans-62\" x=\"700.484375\"/>\n      <use xlink:href=\"#DejaVuSans-61\" x=\"763.960938\"/>\n      <use xlink:href=\"#DejaVuSans-62\" x=\"825.240234\"/>\n      <use xlink:href=\"#DejaVuSans-69\" x=\"888.716797\"/>\n      <use xlink:href=\"#DejaVuSans-6c\" x=\"916.5\"/>\n      <use xlink:href=\"#DejaVuSans-69\" x=\"944.283203\"/>\n      <use xlink:href=\"#DejaVuSans-74\" x=\"972.066406\"/>\n      <use xlink:href=\"#DejaVuSans-79\" x=\"1011.275391\"/>\n     </g>\n    </g>\n   </g>\n   <g id=\"line2d_13\">\n    <path d=\"M 55.194886 16.02 \nL 55.263375 16.02 \nL 55.286205 51.299998 \nL 55.377523 35.619999 \nL 55.53733 82.17 \nL 55.560159 78.27882 \nL 55.582989 84.620001 \nL 55.674307 96.201815 \nL 55.697137 92.715655 \nL 55.788455 81.353336 \nL 55.834114 89.013101 \nL 55.879773 84.303869 \nL 55.925432 90.856366 \nL 55.948262 88.65529 \nL 56.108069 102.068783 \nL 56.130898 100.019995 \nL 56.245046 91.083831 \nL 56.313535 93.636 \nL 56.404853 97.686671 \nL 56.427682 96.201815 \nL 56.450512 94.770005 \nL 56.519001 96.745424 \nL 56.54183 98.339995 \nL 56.587489 95.684514 \nL 56.610319 97.219995 \nL 56.747296 92.715655 \nL 56.792955 93.039715 \nL 57.021251 100.953335 \nL 57.089739 97.920003 \nL 57.135399 100.117672 \nL 57.272376 102.302609 \nL 57.318035 100.466809 \nL 57.363694 102.382496 \nL 57.386524 101.49217 \nL 57.523501 103.363687 \nL 57.56916 101.699995 \nL 57.614819 103.395703 \nL 57.637649 102.586662 \nL 57.660478 103.410823 \nL 57.706137 101.836218 \nL 57.728967 102.644995 \nL 57.774626 101.125264 \nL 57.865944 101.230165 \nL 57.934433 100.575369 \nL 57.980092 102.068783 \nL 58.09424 100.085625 \nL 58.139899 100.149226 \nL 58.208388 102.230523 \nL 58.254047 100.953335 \nL 58.413854 98.008733 \nL 58.299706 101.001017 \nL 58.436683 98.668955 \nL 58.573661 101.260268 \nL 58.59649 100.692003 \nL 58.642149 99.577891 \nL 58.687808 100.783635 \nL 58.710638 101.374841 \nL 58.756297 100.28752 \nL 58.779127 100.87063 \nL 58.961763 96.781445 \nL 59.007422 97.920003 \nL 59.053081 99.03176 \nL 59.12157 98.611904 \nL 59.190059 99.208641 \nL 59.372695 95.591736 \nL 59.555331 97.788754 \nL 59.64665 96.120004 \nL 59.715138 96.685324 \nL 59.783627 98.107125 \nL 59.829286 97.302353 \nL 59.852116 96.90585 \nL 59.897775 97.828697 \nL 59.920604 98.28346 \nL 59.966264 97.5 \nL 60.011923 96.731324 \nL 60.057582 97.625604 \nL 60.080411 97.246049 \nL 60.240218 98.657841 \nL 60.263048 98.287266 \nL 60.308707 99.124001 \nL 60.331536 99.536812 \nL 60.377196 98.80421 \nL 60.445684 97.729096 \nL 60.514173 98.189231 \nL 60.537002 98.590213 \nL 60.582662 97.893423 \nL 60.605491 98.290589 \nL 60.628321 97.946362 \nL 60.67398 98.730369 \nL 60.810957 100.292062 \nL 60.833787 99.952262 \nL 61.062082 98.066509 \nL 61.1534 98.833745 \nL 61.17623 98.518864 \nL 61.221889 98.561888 \nL 61.404526 96.789226 \nL 61.564332 97.920003 \nL 61.587162 97.628537 \nL 61.632821 98.298443 \nL 61.70131 98.668955 \nL 61.724139 98.38098 \nL 61.769798 97.811002 \nL 61.815458 98.461235 \nL 61.838287 98.178906 \nL 61.975264 99.48443 \nL 61.998094 99.205287 \nL 62.089412 99.271485 \nL 62.18073 98.186771 \nL 62.22639 98.796703 \nL 62.272049 98.264377 \nL 62.386196 97.521271 \nL 62.317708 98.302428 \nL 62.431856 97.563401 \nL 62.454685 97.860755 \nL 62.500344 97.350845 \nL 62.568833 96.597782 \nL 62.637322 96.937435 \nL 62.819958 98.691045 \nL 62.842788 98.445001 \nL 62.865617 98.200418 \nL 62.911276 98.756286 \nL 62.956935 98.271022 \nL 63.025424 98.5793 \nL 63.048254 98.339995 \nL 63.093913 97.865529 \nL 63.139572 98.407391 \nL 63.162401 98.171998 \nL 63.413526 100.066542 \nL 63.459186 99.603473 \nL 63.527674 99.8823 \nL 63.573333 100.385218 \nL 63.641822 100.178487 \nL 63.687481 99.727236 \nL 63.73314 100.221595 \nL 63.75597 99.997663 \nL 63.801629 100.48667 \nL 63.847288 100.042106 \nL 64.052754 98.551616 \nL 64.075584 98.792308 \nL 64.28105 100.462109 \nL 64.303879 100.251004 \nL 64.577834 98.653982 \nL 64.76047 99.600003 \nL 64.7833 99.401473 \nL 64.851788 99.643585 \nL 65.011595 100.331837 \nL 65.034425 100.136672 \nL 65.080084 100.561931 \nL 65.171402 101.400822 \nL 65.217061 101.01273 \nL 65.26272 100.62814 \nL 65.30838 101.041624 \nL 65.399698 101.857498 \nL 65.445357 101.475999 \nL 65.513846 100.910069 \nL 65.559505 101.312303 \nL 65.742141 102.12454 \nL 65.856289 101.581541 \nL 65.901948 101.59277 \nL 65.947607 101.977624 \nL 66.016096 101.806105 \nL 66.061755 101.446412 \nL 66.130244 101.647497 \nL 66.244391 102.219589 \nL 66.267221 102.042224 \nL 66.31288 101.68967 \nL 66.358539 102.060003 \nL 66.541176 102.80313 \nL 66.609664 102.283473 \nL 66.655323 102.641873 \nL 66.723812 102.825536 \nL 66.746642 102.654322 \nL 66.769471 102.48378 \nL 66.81513 102.836471 \nL 66.83796 102.666571 \nL 66.997767 103.198382 \nL 67.180403 102.543196 \nL 67.248892 102.719436 \nL 67.271721 102.555845 \nL 67.431528 102.084806 \nL 67.614165 102.763491 \nL 67.751142 102.13906 \nL 67.796801 102.146578 \nL 67.84246 102.471889 \nL 67.910949 102.323228 \nL 68.162074 101.27483 \nL 68.299051 101.612348 \nL 68.34471 101.315667 \nL 68.39037 101.630359 \nL 68.413199 101.786895 \nL 68.458858 101.49217 \nL 68.550176 101.51078 \nL 68.618665 101.075353 \nL 68.687154 101.240269 \nL 68.709983 101.096561 \nL 68.755642 101.107054 \nL 68.915449 100.410694 \nL 69.052427 100.738424 \nL 69.098086 100.749832 \nL 69.235063 100.210913 \nL 69.257893 100.360352 \nL 69.303552 100.087854 \nL 69.39487 99.831232 \nL 69.349211 100.101155 \nL 69.4177 99.97962 \nL 69.440529 100.127524 \nL 69.486188 99.859232 \nL 69.509018 99.725732 \nL 69.577506 99.886874 \nL 69.623166 100.179244 \nL 69.668825 99.914169 \nL 69.91995 99.03176 \nL 70.056927 99.350058 \nL 70.079757 99.222446 \nL 70.125416 99.507025 \nL 70.148245 99.379761 \nL 70.216734 99.267952 \nL 70.285223 99.690089 \nL 70.308052 99.563886 \nL 70.353711 99.843156 \nL 70.376541 99.7173 \nL 70.513518 100.019995 \nL 70.536348 99.895191 \nL 70.582007 100.169329 \nL 70.604836 100.044851 \nL 70.627666 100.181305 \nL 70.673325 99.9334 \nL 70.696155 100.069412 \nL 70.741814 99.822937 \nL 70.787473 100.093689 \nL 70.92445 100.385218 \nL 71.015768 99.898965 \nL 71.061428 100.164829 \nL 71.107087 100.429168 \nL 71.175575 100.319567 \nL 71.198405 100.199484 \nL 71.244064 100.461478 \nL 71.266894 100.3417 \nL 71.403871 100.622536 \nL 71.44953 100.385218 \nL 71.540848 100.406615 \nL 71.563678 100.534763 \nL 71.609337 100.3 \nL 71.700655 99.834366 \nL 71.769144 99.973785 \nL 71.837632 100.353697 \nL 71.883292 100.123277 \nL 71.95178 99.779997 \nL 71.997439 100.031392 \nL 72.225735 100.795905 \nL 72.49969 99.920393 \nL 72.613837 100.294869 \nL 72.636667 100.184701 \nL 72.659496 100.074827 \nL 72.705156 100.315309 \nL 72.750815 100.09636 \nL 72.773644 100.216107 \nL 72.819303 99.998262 \nL 73.116088 99.058172 \nL 73.207406 99.307591 \nL 73.230235 99.202301 \nL 73.253065 99.097274 \nL 73.298724 99.332341 \nL 73.435701 99.589499 \nL 73.52702 99.393135 \nL 73.48136 99.601044 \nL 73.549849 99.508697 \nL 73.618338 99.635341 \nL 73.641167 99.531986 \nL 73.755315 99.019016 \nL 73.823804 99.146071 \nL 73.892292 99.2722 \nL 73.915122 99.17079 \nL 74.074929 98.680867 \nL 73.960781 99.18306 \nL 74.097758 98.793948 \nL 74.303224 99.378467 \nL 74.326054 99.279118 \nL 74.371713 99.500622 \nL 74.394543 99.401473 \nL 74.622838 100.286195 \nL 74.645668 100.187414 \nL 74.714156 100.098505 \nL 74.736986 100.206234 \nL 74.919622 100.651219 \nL 74.988111 100.765162 \nL 75.03377 100.570343 \nL 75.193577 100.901185 \nL 75.239236 100.708059 \nL 75.284895 100.916251 \nL 75.399043 101.034442 \nL 75.490361 100.652365 \nL 75.53602 100.858118 \nL 75.650168 101.171843 \nL 75.672998 101.077015 \nL 75.741486 101.185374 \nL 75.787146 100.996749 \nL 75.809975 101.097875 \nL 75.855634 100.910069 \nL 75.878464 101.010964 \nL 76.0611 100.653448 \nL 76.243737 101.44882 \nL 76.312225 101.36255 \nL 76.380714 101.276838 \nL 76.403544 101.374841 \nL 76.449203 101.570217 \nL 76.494862 101.387027 \nL 76.700328 100.946406 \nL 76.723157 101.043306 \nL 76.768816 100.863554 \nL 76.928623 100.61056 \nL 76.951453 100.706797 \nL 76.997112 100.529621 \nL 77.019942 100.625648 \nL 77.042771 100.537328 \nL 77.08843 100.728751 \nL 77.11126 100.640599 \nL 77.134089 100.736006 \nL 77.179748 100.560249 \nL 77.202578 100.472644 \nL 77.248237 100.662816 \nL 77.293896 100.852199 \nL 77.362385 100.771849 \nL 77.63634 100.096833 \nL 77.773317 100.3 \nL 77.841806 100.223025 \nL 77.864635 100.315772 \nL 78.024442 100.607416 \nL 78.184249 100.370004 \nL 78.207078 100.461226 \nL 78.252738 100.294186 \nL 78.275567 100.210913 \nL 78.321226 100.392778 \nL 78.344056 100.309652 \nL 78.526692 100.685106 \nL 78.686499 100.452236 \nL 78.846306 100.90293 \nL 78.869136 100.821161 \nL 78.937624 100.746225 \nL 78.960454 100.834198 \nL 79.028942 100.928322 \nL 79.051772 100.847152 \nL 79.211579 100.618288 \nL 79.417045 101.064071 \nL 79.439874 100.984068 \nL 79.485534 101.155777 \nL 79.64534 101.422608 \nL 79.736659 101.10513 \nL 79.805147 101.195531 \nL 79.873636 101.448462 \nL 79.942125 101.374841 \nL 80.010613 101.30162 \nL 80.033443 101.385293 \nL 80.17042 101.561922 \nL 80.375886 101.184134 \nL 80.581352 101.604904 \nL 80.627011 101.451385 \nL 80.672671 101.614272 \nL 80.763989 101.780923 \nL 80.786818 101.704495 \nL 80.923796 101.561491 \nL 80.946625 101.641967 \nL 80.992284 101.490561 \nL 81.015114 101.57088 \nL 81.152091 101.27483 \nL 81.174921 101.354854 \nL 81.243409 101.43962 \nL 81.266239 101.364884 \nL 81.380387 101.146829 \nL 81.403216 101.226264 \nL 81.448875 101.384725 \nL 81.494535 101.236653 \nL 81.585853 101.0945 \nL 81.608682 101.173367 \nL 81.654341 101.330692 \nL 81.700001 101.18386 \nL 81.859807 100.673887 \nL 81.905467 100.830592 \nL 81.928296 100.908734 \nL 81.973955 100.764121 \nL 81.996785 100.842126 \nL 82.065273 100.775855 \nL 82.088103 100.853587 \nL 82.156592 101.085994 \nL 82.202251 100.942295 \nL 82.316399 100.881901 \nL 82.430546 100.969748 \nL 82.567524 100.692003 \nL 82.590353 100.768379 \nL 82.704501 101.00209 \nL 82.727331 100.931686 \nL 82.909967 100.517782 \nL 82.932797 100.593359 \nL 82.978456 100.744133 \nL 83.046944 100.680438 \nL 83.161092 100.622935 \nL 83.229581 100.847015 \nL 83.27524 100.709194 \nL 83.320899 100.571825 \nL 83.366558 100.720571 \nL 83.435047 100.942779 \nL 83.480706 100.80581 \nL 83.80032 99.999902 \nL 83.823149 100.073544 \nL 84.028615 100.451963 \nL 84.165593 100.191966 \nL 84.188422 100.264536 \nL 84.30257 100.487396 \nL 84.325399 100.421251 \nL 84.393888 100.361246 \nL 84.416718 100.433111 \nL 84.553695 100.587828 \nL 84.576525 100.522177 \nL 84.622184 100.664656 \nL 84.736331 100.8827 \nL 84.759161 100.817218 \nL 84.781991 100.75184 \nL 84.82765 100.892983 \nL 84.850479 100.82769 \nL 84.896138 100.968392 \nL 84.941797 100.838099 \nL 84.964627 100.7731 \nL 85.010286 100.913339 \nL 85.101604 101.057984 \nL 85.124434 100.993174 \nL 85.170093 100.863838 \nL 85.215752 101.002984 \nL 85.375559 101.219998 \nL 85.444048 101.293303 \nL 85.512536 101.100808 \nL 85.535366 101.169477 \nL 85.581025 101.041624 \nL 85.672343 100.919101 \nL 85.695173 100.987538 \nL 85.786491 101.260268 \nL 85.85498 101.201251 \nL 86.014787 101.021037 \nL 86.151764 101.295164 \nL 86.174593 101.232373 \nL 86.288741 101.049204 \nL 86.311571 101.116191 \nL 86.608355 101.721959 \nL 86.790991 101.481656 \nL 86.85948 101.678209 \nL 86.927969 101.620286 \nL 87.156264 101.261109 \nL 87.293242 101.399108 \nL 87.38456 101.15707 \nL 87.430219 101.286238 \nL 87.453049 101.35069 \nL 87.498708 101.230165 \nL 87.681344 100.875341 \nL 87.704174 100.939583 \nL 87.727003 101.00373 \nL 87.772662 100.884709 \nL 87.841151 100.830066 \nL 87.863981 100.894024 \nL 88.069447 101.220829 \nL 88.229253 101.0526 \nL 88.41189 101.312303 \nL 88.503208 101.078634 \nL 88.548867 101.203585 \nL 88.685845 101.336075 \nL 88.708674 101.277995 \nL 88.754333 101.401916 \nL 88.777163 101.343908 \nL 88.891311 101.532797 \nL 88.91414 101.474937 \nL 88.982629 101.301841 \nL 89.028288 101.424721 \nL 89.165265 101.554457 \nL 89.233754 101.61893 \nL 89.279413 101.504335 \nL 89.43922 101.810805 \nL 89.462049 101.753691 \nL 89.484879 101.696651 \nL 89.530538 101.817208 \nL 89.553368 101.760242 \nL 89.713175 101.946502 \nL 89.781663 101.892826 \nL 89.804493 101.952495 \nL 89.895811 102.074439 \nL 89.918641 102.017894 \nL 90.032788 101.967351 \nL 90.238254 102.382496 \nL 90.261084 102.326308 \nL 90.398061 102.219347 \nL 90.46655 102.166187 \nL 90.512209 102.28279 \nL 90.763334 101.900439 \nL 90.786164 101.958456 \nL 90.831823 101.848425 \nL 90.854652 101.906369 \nL 90.923141 101.967131 \nL 90.99163 101.802793 \nL 91.151437 101.98142 \nL 91.197096 101.872471 \nL 91.242755 101.987087 \nL 91.288414 102.101419 \nL 91.334073 101.992722 \nL 91.379732 101.88431 \nL 91.425391 101.998337 \nL 91.49388 102.168836 \nL 91.539539 102.060676 \nL 91.562369 102.006696 \nL 91.608028 102.119997 \nL 91.767835 102.29424 \nL 92.087448 101.765457 \nL 92.110278 101.821487 \nL 92.155937 101.715556 \nL 92.224426 101.557148 \nL 92.270085 101.668988 \nL 92.429892 101.842064 \nL 92.52121 101.740044 \nL 92.544039 101.795443 \nL 92.658187 101.963966 \nL 92.681017 101.911657 \nL 92.863653 101.709163 \nL 93.000631 101.824705 \nL 93.02346 101.772953 \nL 93.069119 101.882165 \nL 93.091949 101.936681 \nL 93.137608 101.833347 \nL 93.160437 101.88779 \nL 93.297415 101.684907 \nL 93.320244 101.739213 \nL 93.52571 102.015002 \nL 93.54854 101.96384 \nL 93.594199 102.071338 \nL 93.617029 102.124992 \nL 93.662688 102.022846 \nL 93.685517 102.076426 \nL 93.754006 102.02805 \nL 93.776835 102.081505 \nL 93.799665 102.134896 \nL 93.845324 102.033223 \nL 93.868154 101.982481 \nL 93.913813 102.089065 \nL 93.959472 102.195395 \nL 94.005131 102.094069 \nL 94.119279 102.048606 \nL 94.142108 102.101545 \nL 94.187767 102.000808 \nL 94.210597 102.053684 \nL 94.233427 102.003405 \nL 94.279086 102.108968 \nL 94.301915 102.161655 \nL 94.347574 102.061254 \nL 94.55304 101.816871 \nL 94.690018 102.029007 \nL 94.712847 101.979348 \nL 94.735677 101.929752 \nL 94.781336 102.034064 \nL 94.804165 101.984521 \nL 94.826995 102.036577 \nL 94.872654 101.937649 \nL 94.895484 101.989652 \nL 94.918313 101.940277 \nL 94.963972 102.044095 \nL 95.146609 102.255526 \nL 95.260757 102.11043 \nL 95.283586 102.161834 \nL 95.420563 102.469008 \nL 95.489052 102.422041 \nL 95.534711 102.3243 \nL 95.58037 102.426099 \nL 95.671689 102.52958 \nL 95.694518 102.480847 \nL 95.717348 102.432166 \nL 95.763007 102.533387 \nL 95.785836 102.484758 \nL 95.922814 102.589407 \nL 96.12828 102.351774 \nL 96.310916 102.653743 \nL 96.333746 102.605693 \nL 96.379405 102.509751 \nL 96.425064 102.609268 \nL 96.584871 102.761346 \nL 96.653359 102.71521 \nL 96.676189 102.764553 \nL 96.835996 102.915128 \nL 96.995803 102.775677 \nL 97.13278 102.876362 \nL 97.201269 102.926462 \nL 97.246928 102.832149 \nL 97.406735 102.980432 \nL 97.475223 102.934842 \nL 97.498053 102.983103 \nL 97.703519 103.225793 \nL 97.817667 103.181244 \nL 97.863326 103.276682 \nL 97.908985 103.183462 \nL 98.023133 103.045252 \nL 98.045962 103.09284 \nL 98.068792 103.140385 \nL 98.114451 103.047755 \nL 98.274258 102.911953 \nL 98.297087 102.95933 \nL 98.342747 102.867383 \nL 98.502553 102.732958 \nL 98.68519 102.924307 \nL 98.890656 102.700101 \nL 99.050463 102.935084 \nL 99.073292 102.889894 \nL 99.164611 102.801111 \nL 99.18744 102.847595 \nL 99.21027 102.894026 \nL 99.255929 102.804045 \nL 99.278758 102.850434 \nL 99.301588 102.805517 \nL 99.347247 102.898137 \nL 99.370077 102.853262 \nL 99.552713 103.040374 \nL 99.68969 102.863072 \nL 99.71252 102.908977 \nL 99.803838 103.001892 \nL 99.826668 102.957427 \nL 99.849497 102.913004 \nL 99.895156 103.004383 \nL 100.054963 103.233026 \nL 100.077793 103.188688 \nL 100.191941 103.057123 \nL 100.21477 103.102408 \nL 100.260429 103.192862 \nL 100.306088 103.104679 \nL 100.374577 103.061823 \nL 100.397407 103.106929 \nL 100.671361 103.556172 \nL 100.694191 103.512275 \nL 100.76268 103.557507 \nL 100.831168 103.426205 \nL 101.059464 103.693435 \nL 101.082293 103.649833 \nL 101.127952 103.738037 \nL 101.196441 103.695002 \nL 101.26493 103.82684 \nL 101.447566 103.654333 \nL 101.607373 103.786371 \nL 101.675862 103.83031 \nL 101.74435 103.701174 \nL 101.812839 103.65877 \nL 101.858498 103.745576 \nL 101.995476 103.660957 \nL 102.041135 103.747426 \nL 102.109623 103.705211 \nL 102.178112 103.577453 \nL 102.223771 103.66367 \nL 102.29226 103.707209 \nL 102.315089 103.664742 \nL 102.452067 103.581175 \nL 102.520555 103.70968 \nL 102.589044 103.667949 \nL 102.726021 103.500173 \nL 102.748851 103.54284 \nL 102.999976 103.841098 \nL 103.136953 103.758224 \nL 103.182612 103.842538 \nL 103.251101 103.801196 \nL 103.365249 103.760411 \nL 103.502226 103.84504 \nL 103.730522 103.597997 \nL 103.913158 103.765574 \nL 103.958817 103.683457 \nL 104.027306 103.72542 \nL 104.164283 103.808998 \nL 104.232772 103.686454 \nL 104.301261 103.728174 \nL 104.369749 103.687936 \nL 104.415408 103.77021 \nL 104.438238 103.729541 \nL 104.483897 103.811668 \nL 104.575215 103.893942 \nL 104.598045 103.853347 \nL 104.643704 103.772282 \nL 104.689363 103.85402 \nL 104.894829 104.139009 \nL 104.917659 104.098571 \nL 105.077466 103.977909 \nL 105.145954 103.937955 \nL 105.191613 104.018726 \nL 105.305761 103.898684 \nL 105.328591 103.938985 \nL 105.35142 103.979234 \nL 105.397079 103.899273 \nL 105.442738 103.819459 \nL 105.488398 103.899851 \nL 105.602545 104.020366 \nL 105.625375 103.980538 \nL 105.762352 103.901586 \nL 105.85367 104.061077 \nL 105.89933 103.981831 \nL 106.036307 103.824128 \nL 106.059136 103.863872 \nL 106.127625 103.903868 \nL 106.150455 103.864513 \nL 106.173284 103.82519 \nL 106.218943 103.904436 \nL 106.264602 103.983534 \nL 106.310262 103.905003 \nL 106.37875 103.866101 \nL 106.40158 103.905561 \nL 106.652705 104.180887 \nL 106.789682 104.02495 \nL 106.812512 104.064031 \nL 106.949489 104.142226 \nL 107.063637 104.103586 \nL 107.177785 104.142562 \nL 107.269103 104.065398 \nL 107.291932 104.104101 \nL 107.497398 104.296964 \nL 107.588717 104.296828 \nL 107.794183 104.487851 \nL 107.90833 104.296365 \nL 107.95399 104.372593 \nL 107.999649 104.448696 \nL 108.045308 104.372331 \nL 108.159456 104.334001 \nL 108.273603 104.371679 \nL 108.319262 104.295771 \nL 108.364922 104.371416 \nL 108.479069 104.484413 \nL 108.501899 104.44654 \nL 108.753024 104.182422 \nL 108.775854 104.22 \nL 108.821513 104.144939 \nL 108.95849 104.070256 \nL 108.98132 104.107739 \nL 109.026979 104.033056 \nL 109.049808 103.995762 \nL 109.095467 104.070634 \nL 109.232445 104.145506 \nL 109.369422 103.922783 \nL 109.415081 103.997276 \nL 109.48357 104.10878 \nL 109.529229 104.034781 \nL 109.666206 103.887444 \nL 109.689036 103.924518 \nL 109.803184 104.035717 \nL 109.826013 103.998948 \nL 109.940161 103.889116 \nL 109.96299 103.926 \nL 110.122797 104.036789 \nL 110.282604 103.927704 \nL 110.48807 104.110799 \nL 110.670707 103.966028 \nL 110.716366 104.038745 \nL 110.762025 103.966449 \nL 110.876173 103.85852 \nL 110.899002 103.894804 \nL 111.058809 104.003827 \nL 111.150127 103.932235 \nL 111.172957 103.96831 \nL 111.309934 104.040658 \nL 111.332764 104.004878 \nL 111.378423 104.076701 \nL 111.469741 104.22 \nL 111.5154 104.148524 \nL 111.743696 103.935253 \nL 111.789355 104.006613 \nL 111.835014 103.935715 \nL 111.926332 103.936168 \nL 112.131798 104.184651 \nL 112.154628 104.149323 \nL 112.245946 104.149439 \nL 112.382923 104.22 \nL 112.56556 104.079666 \nL 112.656878 104.079887 \nL 112.748196 104.010167 \nL 112.771026 104.045211 \nL 112.862344 104.045484 \nL 112.976492 103.94133 \nL 112.999321 103.976258 \nL 113.227617 104.185313 \nL 113.387424 104.01247 \nL 113.410253 104.047125 \nL 113.455912 104.116361 \nL 113.501572 104.047398 \nL 113.752697 103.807526 \nL 113.980992 104.014562 \nL 114.049481 103.980601 \nL 114.07231 104.014888 \nL 114.209288 104.083577 \nL 114.254947 104.015519 \nL 114.300606 104.083788 \nL 114.391924 104.083998 \nL 114.483242 104.016307 \nL 114.506072 104.050321 \nL 114.734368 104.253809 \nL 114.757197 104.22 \nL 114.802856 104.287533 \nL 114.894174 104.354861 \nL 114.917004 104.32111 \nL 114.939834 104.287381 \nL 114.985493 104.354656 \nL 115.008322 104.388254 \nL 115.053981 104.320879 \nL 115.213788 104.22 \nL 115.396425 104.353736 \nL 115.556232 104.253346 \nL 115.716038 104.353032 \nL 115.784527 104.319659 \nL 115.807357 104.352832 \nL 115.921504 104.452018 \nL 115.944334 104.418798 \nL 116.035652 104.418499 \nL 116.218289 104.549843 \nL 116.469414 104.318545 \nL 116.560732 104.318403 \nL 116.583562 104.285577 \nL 116.629221 104.351055 \nL 116.743368 104.383513 \nL 116.971664 104.187416 \nL 117.222789 104.414703 \nL 117.314107 104.349609 \nL 117.336937 104.381951 \nL 117.428255 104.446404 \nL 117.451085 104.413988 \nL 117.565232 104.381362 \nL 117.70221 104.574215 \nL 117.747869 104.509605 \nL 117.770698 104.477331 \nL 117.816358 104.541426 \nL 117.953335 104.604874 \nL 118.22729 104.347732 \nL 118.387096 104.442971 \nL 118.524074 104.378918 \nL 118.70671 104.505231 \nL 118.843688 104.441367 \nL 118.866517 104.472905 \nL 119.026324 104.566871 \nL 119.186131 104.53455 \nL 119.574233 104.939107 \nL 119.73404 104.90614 \nL 119.893847 104.997777 \nL 119.962336 104.965876 \nL 120.007995 105.027464 \nL 120.213461 105.179705 \nL 120.464586 105.021817 \nL 120.601563 105.081691 \nL 120.624393 105.050626 \nL 120.647223 105.019583 \nL 120.715711 105.11091 \nL 121.058155 105.442451 \nL 121.195132 105.439917 \nL 121.28645 105.438235 \nL 121.30928 105.407365 \nL 121.560405 105.251223 \nL 121.720212 105.339522 \nL 121.743041 105.308888 \nL 121.880019 105.185913 \nL 121.925678 105.245582 \nL 122.039825 105.213718 \nL 122.131144 105.152221 \nL 122.176803 105.211689 \nL 122.382269 105.298532 \nL 122.496417 105.266794 \nL 122.519246 105.296339 \nL 122.656223 105.294153 \nL 122.793201 105.291976 \nL 123.044326 105.436347 \nL 123.295451 105.284075 \nL 123.478087 105.340189 \nL 123.729213 105.189231 \nL 123.911849 105.24524 \nL 124.003167 105.243879 \nL 124.025997 105.272788 \nL 124.094485 105.300955 \nL 124.140145 105.241849 \nL 124.322781 105.122675 \nL 124.345611 105.151485 \nL 124.528247 105.207094 \nL 124.596736 105.177118 \nL 124.642395 105.234458 \nL 124.802202 105.318887 \nL 124.825031 105.289616 \nL 124.89352 105.201927 \nL 124.962009 105.287518 \nL 125.076156 105.256969 \nL 125.190304 105.284038 \nL 125.372941 105.395999 \nL 125.39577 105.366943 \nL 125.509918 105.336457 \nL 125.532747 105.364714 \nL 125.555577 105.39295 \nL 125.624066 105.306065 \nL 125.806702 105.246244 \nL 126.057827 105.384638 \nL 126.103486 105.327115 \nL 126.171975 105.411124 \nL 126.354611 105.464646 \nL 126.628566 105.290798 \nL 126.834032 105.372021 \nL 127.153646 105.14312 \nL 127.176475 105.170794 \nL 127.244964 105.086075 \nL 127.336282 105.029172 \nL 127.381941 105.084435 \nL 127.587407 105.165395 \nL 127.701555 105.080624 \nL 127.747214 105.135571 \nL 127.998339 105.270658 \nL 128.135317 105.213492 \nL 128.158146 105.240772 \nL 128.272294 105.266721 \nL 128.295124 105.238858 \nL 128.363612 105.15537 \nL 128.432101 105.236955 \nL 128.47776 105.291256 \nL 128.546249 105.20793 \nL 128.751715 105.12307 \nL 128.774544 105.150149 \nL 128.843033 105.067286 \nL 128.934351 105.011645 \nL 128.98001 105.065714 \nL 129.208306 105.171898 \nL 129.52792 104.951162 \nL 129.733386 105.084177 \nL 129.756215 105.056914 \nL 129.779045 105.029672 \nL 129.847533 105.109822 \nL 129.938852 105.108734 \nL 129.961681 105.081538 \nL 130.121488 104.999107 \nL 130.144318 105.025723 \nL 130.326954 105.077354 \nL 130.55525 104.967911 \nL 130.852034 105.257647 \nL 130.897693 105.20384 \nL 131.080329 105.09537 \nL 131.103159 105.121624 \nL 131.285795 105.172371 \nL 131.468432 105.117308 \nL 131.58258 105.142316 \nL 131.605409 105.115699 \nL 131.810875 105.034477 \nL 132.039171 105.136838 \nL 132.267466 105.029656 \nL 132.472932 105.157746 \nL 132.495762 105.131429 \nL 132.655569 105.103561 \nL 132.838205 105.257037 \nL 132.883864 105.204608 \nL 132.975183 105.15169 \nL 133.020842 105.202873 \nL 133.203478 105.252185 \nL 133.408944 105.172261 \nL 133.523092 105.299373 \nL 133.591581 105.221399 \nL 133.774217 105.116603 \nL 133.797047 105.141953 \nL 133.979683 105.293117 \nL 134.025342 105.241423 \nL 134.207979 105.188111 \nL 134.618911 105.487242 \nL 134.710229 105.435154 \nL 134.755888 105.48506 \nL 134.961354 105.557508 \nL 135.121161 105.529651 \nL 135.417945 105.700455 \nL 135.577752 105.622387 \nL 135.600581 105.647022 \nL 135.806047 105.718303 \nL 136.034343 105.614464 \nL 136.125661 105.66264 \nL 136.17132 105.612109 \nL 136.262639 105.610542 \nL 136.285468 105.634972 \nL 136.376786 105.633385 \nL 136.399616 105.608198 \nL 136.582252 105.506146 \nL 136.605082 105.530513 \nL 136.787718 105.626266 \nL 136.810548 105.601206 \nL 136.856207 105.551137 \nL 136.924696 105.623911 \nL 137.084503 105.694914 \nL 137.107332 105.669932 \nL 137.22148 105.594293 \nL 137.267139 105.642579 \nL 137.426946 105.664296 \nL 137.72373 105.488361 \nL 138.066173 105.701743 \nL 138.24881 105.650008 \nL 138.522765 105.790257 \nL 138.842378 105.591732 \nL 139.139163 105.754745 \nL 139.25331 105.728717 \nL 139.27614 105.752248 \nL 139.527265 105.867038 \nL 139.709902 105.768204 \nL 139.732731 105.791598 \nL 139.915368 105.835731 \nL 140.120834 105.760712 \nL 140.349129 105.851145 \nL 140.486106 105.848527 \nL 140.645913 105.869041 \nL 140.82855 105.818509 \nL 140.965527 105.862895 \nL 140.988357 105.838996 \nL 141.170993 105.741902 \nL 141.193823 105.764902 \nL 141.399289 105.831279 \nL 141.604755 105.757558 \nL 141.764562 105.824481 \nL 141.787391 105.800814 \nL 141.970028 105.751086 \nL 142.129834 105.771432 \nL 142.3353 105.652268 \nL 142.35813 105.674989 \nL 142.563596 105.740688 \nL 142.769062 105.66816 \nL 142.928869 105.688469 \nL 143.157164 105.547346 \nL 143.179994 105.569884 \nL 143.36263 105.61275 \nL 143.476778 105.633753 \nL 143.590926 105.609154 \nL 143.750733 105.583915 \nL 143.956199 105.648798 \nL 144.047517 105.692643 \nL 144.207324 105.712615 \nL 144.41279 105.641491 \nL 144.732404 105.81628 \nL 144.91504 105.768156 \nL 145.074847 105.787802 \nL 145.257484 105.73992 \nL 145.394461 105.737612 \nL 145.577097 105.689999 \nL 145.736904 105.709639 \nL 145.828222 105.752558 \nL 145.94237 105.728449 \nL 146.239154 105.568759 \nL 146.353302 105.544986 \nL 146.513109 105.520624 \nL 146.695746 105.56203 \nL 146.855552 105.537731 \nL 147.061018 105.600522 \nL 147.334973 105.46533 \nL 147.51761 105.506477 \nL 147.837223 105.328203 \nL 148.111178 105.454931 \nL 148.248155 105.453112 \nL 148.362303 105.429997 \nL 148.453621 105.47198 \nL 148.613428 105.491389 \nL 148.887383 105.358757 \nL 149.070019 105.399432 \nL 149.343974 105.267709 \nL 149.458122 105.245082 \nL 149.663588 105.178927 \nL 149.891883 105.261648 \nL 150.07452 105.217209 \nL 150.211497 105.215774 \nL 150.371304 105.192948 \nL 150.57677 105.254172 \nL 150.690918 105.274018 \nL 150.896384 105.334858 \nL 151.010532 105.354541 \nL 151.147509 105.352922 \nL 151.398634 105.24534 \nL 151.535611 105.243879 \nL 151.741077 105.179148 \nL 151.900884 105.198383 \nL 152.037862 105.196995 \nL 152.220498 105.236655 \nL 152.334646 105.256186 \nL 152.585771 105.356865 \nL 152.859726 105.23 \nL 153.065192 105.289589 \nL 153.202169 105.288096 \nL 153.407635 105.347355 \nL 153.567442 105.325059 \nL 153.68159 105.303337 \nL 153.864226 105.260528 \nL 154.024033 105.279217 \nL 154.252328 105.195481 \nL 154.480624 105.274344 \nL 154.68609 105.211468 \nL 154.777408 105.170126 \nL 155.005704 105.087274 \nL 155.119852 105.06614 \nL 155.256829 105.064984 \nL 155.439465 105.103608 \nL 155.553613 105.12266 \nL 155.781909 105.200665 \nL 155.896056 105.219549 \nL 156.010204 105.198446 \nL 156.147182 105.197122 \nL 156.261329 105.176098 \nL 156.489625 105.09445 \nL 156.672261 105.132548 \nL 156.809239 105.131318 \nL 157.037534 105.208346 \nL 157.311489 105.087411 \nL 157.516955 105.144692 \nL 157.631103 105.163313 \nL 157.76808 105.162057 \nL 158.042035 105.042105 \nL 158.224671 105.079725 \nL 158.315989 105.118007 \nL 158.498626 105.155396 \nL 158.79541 105.016697 \nL 158.978046 105.054091 \nL 159.115024 105.052987 \nL 159.274831 105.07105 \nL 159.503126 104.991994 \nL 159.685763 105.029172 \nL 159.982547 104.892403 \nL 160.142354 104.910561 \nL 160.370649 104.832498 \nL 160.507627 104.831704 \nL 160.667434 104.81169 \nL 160.941388 104.924382 \nL 161.078366 104.923472 \nL 161.215343 104.922563 \nL 161.329491 104.940774 \nL 161.671934 105.108618 \nL 161.945889 104.993187 \nL 162.128525 105.029519 \nL 162.311162 104.990553 \nL 162.425309 104.97096 \nL 162.516628 105.007833 \nL 162.630775 104.988261 \nL 162.790582 104.96841 \nL 162.996048 105.023006 \nL 163.201514 104.965561 \nL 163.361321 104.983072 \nL 163.498299 104.982105 \nL 163.680935 105.017938 \nL 163.863571 104.979545 \nL 164.023378 104.99693 \nL 164.137526 105.014594 \nL 164.342992 105.068432 \nL 164.548458 105.011608 \nL 164.753924 105.065252 \nL 164.95939 105.008648 \nL 165.164856 105.062092 \nL 165.415981 104.968852 \nL 165.598618 105.00408 \nL 165.758425 104.984739 \nL 165.963891 105.037846 \nL 166.192186 104.963616 \nL 166.397652 105.01655 \nL 166.5118 105.033819 \nL 166.717266 105.086475 \nL 166.854243 105.085413 \nL 167.082539 105.155617 \nL 167.265175 105.118165 \nL 167.493471 105.188048 \nL 167.607619 105.204976 \nL 167.721766 105.186087 \nL 167.904403 105.148798 \nL 168.018551 105.130014 \nL 168.269676 105.038977 \nL 168.406653 105.037983 \nL 168.612119 104.983251 \nL 168.749096 104.982331 \nL 168.954562 104.927867 \nL 169.045881 104.891935 \nL 169.365494 104.748988 \nL 169.548131 104.783354 \nL 169.707938 104.764986 \nL 169.822085 104.74688 \nL 170.073211 104.658108 \nL 170.278677 104.709807 \nL 170.575461 104.621308 \nL 170.780927 104.63801 \nL 171.009222 104.602419 \nL 171.169029 104.584535 \nL 171.328836 104.601368 \nL 171.511473 104.600769 \nL 171.739768 104.565478 \nL 171.899575 104.54775 \nL 172.105041 104.529955 \nL 172.333337 104.563727 \nL 172.561632 104.528751 \nL 172.858416 104.613522 \nL 173.063882 104.595753 \nL 173.20086 104.561198 \nL 173.406326 104.543576 \nL 173.566133 104.526133 \nL 173.725939 104.542704 \nL 173.840087 104.491489 \nL 174.251019 104.321457 \nL 174.410826 104.304435 \nL 174.570633 104.321184 \nL 174.890247 104.421832 \nL 175.118542 104.387871 \nL 175.25552 104.354146 \nL 175.438156 104.353941 \nL 175.712111 104.420454 \nL 176.008895 104.336645 \nL 176.351338 104.452628 \nL 176.556804 104.435647 \nL 176.716611 104.418798 \nL 176.922077 104.401923 \nL 177.333009 104.56614 \nL 177.492816 104.582148 \nL 177.7896 104.663381 \nL 177.903748 104.712188 \nL 178.132044 104.744025 \nL 178.360339 104.710364 \nL 178.588635 104.742086 \nL 178.862589 104.675814 \nL 179.090885 104.707473 \nL 179.36484 104.641543 \nL 179.707283 104.753567 \nL 179.981238 104.687864 \nL 180.118215 104.655117 \nL 180.39217 104.589844 \nL 180.597636 104.605295 \nL 180.734613 104.636943 \nL 180.940079 104.652273 \nL 181.145545 104.635587 \nL 181.328182 104.634982 \nL 181.487988 104.650401 \nL 181.624966 104.618086 \nL 182.013068 104.473998 \nL 182.172875 104.457822 \nL 182.309852 104.489239 \nL 182.492489 104.488855 \nL 182.766444 104.425154 \nL 182.97191 104.440579 \nL 183.245864 104.37722 \nL 183.382842 104.34564 \nL 183.656796 104.282686 \nL 183.770944 104.235656 \nL 183.95358 104.235635 \nL 184.227535 104.298011 \nL 184.524319 104.22 \nL 184.729785 104.23554 \nL 184.935251 104.22 \nL 185.277695 104.328334 \nL 185.483161 104.312709 \nL 185.665797 104.312583 \nL 185.916922 104.2662 \nL 186.236536 104.358268 \nL 186.373513 104.388817 \nL 186.510491 104.357979 \nL 186.693127 104.357789 \nL 186.852934 104.342328 \nL 187.012741 104.357453 \nL 187.400843 104.494101 \nL 187.606309 104.478472 \nL 187.788946 104.478115 \nL 187.948753 104.492971 \nL 188.177048 104.522779 \nL 188.405344 104.492035 \nL 188.861935 104.671845 \nL 189.067401 104.65611 \nL 189.204378 104.625619 \nL 189.660969 104.444579 \nL 189.934924 104.50389 \nL 190.16322 104.473578 \nL 190.391515 104.502933 \nL 190.574152 104.50255 \nL 190.779618 104.51697 \nL 190.939424 104.531453 \nL 191.281868 104.634225 \nL 191.418845 104.663365 \nL 191.66997 104.706805 \nL 191.784118 104.750613 \nL 191.966754 104.749908 \nL 192.103732 104.778786 \nL 192.400516 104.850945 \nL 192.811448 104.702767 \nL 192.971255 104.687595 \nL 193.336528 104.569767 \nL 193.564823 104.598293 \nL 193.838778 104.53946 \nL 194.112733 104.5968 \nL 194.318199 104.581769 \nL 194.637812 104.667571 \nL 194.797619 104.681476 \nL 194.957426 104.666546 \nL 195.117233 104.680425 \nL 195.29987 104.679825 \nL 195.528165 104.650385 \nL 195.733631 104.66408 \nL 196.098904 104.548623 \nL 196.30437 104.562413 \nL 196.623984 104.476227 \nL 196.852279 104.504242 \nL 197.149064 104.432735 \nL 197.3317 104.432462 \nL 197.537166 104.41801 \nL 197.719802 104.417757 \nL 197.925268 104.403369 \nL 198.267712 104.50143 \nL 198.518837 104.458795 \nL 198.747132 104.486463 \nL 198.929769 104.486126 \nL 199.158064 104.513674 \nL 199.40919 104.47128 \nL 199.637485 104.498759 \nL 199.865781 104.470492 \nL 200.048417 104.470171 \nL 200.253883 104.45594 \nL 200.41369 104.441819 \nL 200.596327 104.441541 \nL 200.733304 104.413662 \nL 200.870281 104.44112 \nL 201.052918 104.440847 \nL 201.326872 104.385321 \nL 201.509509 104.385116 \nL 201.646486 104.412458 \nL 201.897611 104.453296 \nL 202.148736 104.411801 \nL 202.536839 104.534266 \nL 202.742305 104.520187 \nL 202.902112 104.50623 \nL 203.176066 104.451282 \nL 203.427191 104.491636 \nL 203.746805 104.409735 \nL 203.99793 104.450005 \nL 204.203396 104.436178 \nL 204.454521 104.47628 \nL 204.751306 104.408463 \nL 204.933942 104.408232 \nL 205.139408 104.394547 \nL 205.367704 104.421096 \nL 205.618829 104.380605 \nL 205.892783 104.433755 \nL 206.006931 104.473641 \nL 206.235227 104.499916 \nL 206.440693 104.486226 \nL 206.668988 104.512407 \nL 206.828795 104.525376 \nL 207.125579 104.591032 \nL 207.376705 104.550731 \nL 207.696318 104.629252 \nL 207.970273 104.575803 \nL 208.244228 104.627785 \nL 208.426864 104.627301 \nL 208.65516 104.65293 \nL 208.883455 104.626087 \nL 209.13458 104.664664 \nL 209.317217 104.664133 \nL 209.477024 104.650627 \nL 209.614001 104.676319 \nL 209.819467 104.688731 \nL 210.116251 104.622859 \nL 210.344547 104.648219 \nL 210.504354 104.660742 \nL 210.70982 104.673107 \nL 210.869627 104.685571 \nL 211.234899 104.787702 \nL 211.371877 104.812983 \nL 211.577343 104.82508 \nL 211.73715 104.837324 \nL 211.965445 104.862106 \nL 212.125252 104.874281 \nL 212.330718 104.886241 \nL 212.467695 104.911265 \nL 212.695991 104.935827 \nL 212.969946 104.883539 \nL 213.152582 104.882777 \nL 213.426537 104.830731 \nL 213.586344 104.817404 \nL 213.79181 104.829328 \nL 213.997276 104.815859 \nL 214.29406 104.776788 \nL 214.590844 104.81364 \nL 214.79631 104.82549 \nL 215.047435 104.837134 \nL 215.252901 104.848921 \nL 215.572515 104.897881 \nL 215.777981 104.909551 \nL 215.983447 104.896151 \nL 216.303061 104.84482 \nL 216.531356 104.843937 \nL 216.736822 104.855608 \nL 217.056436 104.904105 \nL 217.261902 104.91566 \nL 217.513027 104.926989 \nL 217.695664 104.950972 \nL 217.992448 104.986742 \nL 218.312062 104.935869 \nL 218.631675 104.983745 \nL 218.791482 105.019914 \nL 219.019778 105.0188 \nL 219.270903 105.00531 \nL 219.522028 105.016361 \nL 219.750324 105.015257 \nL 220.024278 105.038362 \nL 220.321063 105.000316 \nL 220.549358 104.999238 \nL 220.777654 104.998166 \nL 221.074438 105.033183 \nL 221.348393 105.007607 \nL 221.713666 105.078426 \nL 222.147427 104.967664 \nL 222.467041 105.014379 \nL 222.740996 104.989044 \nL 222.992121 104.999895 \nL 223.151928 105.035113 \nL 223.494371 105.093267 \nL 223.745496 105.080019 \nL 224.179258 105.185041 \nL 224.407553 105.183737 \nL 224.704337 105.217682 \nL 225.138099 105.108518 \nL 225.389224 105.119032 \nL 225.708838 105.07012 \nL 225.937133 105.068984 \nL 226.142599 105.07974 \nL 226.393724 105.090239 \nL 226.713338 105.041668 \nL 226.918804 105.028957 \nL 227.12427 105.039702 \nL 227.489543 105.108076 \nL 227.831986 105.048003 \nL 228.083112 105.058449 \nL 228.288578 105.069084 \nL 228.539703 105.079467 \nL 228.859316 105.031517 \nL 229.064782 105.018979 \nL 229.338737 104.994596 \nL 229.612692 105.016466 \nL 229.795328 105.038693 \nL 230.137772 105.094634 \nL 230.457385 105.047088 \nL 230.640022 105.023279 \nL 230.936806 104.987557 \nL 231.210761 105.009237 \nL 231.416227 105.019741 \nL 231.644522 105.018705 \nL 231.986966 104.96022 \nL 232.238091 104.970539 \nL 232.580534 104.912343 \nL 232.991466 105.00133 \nL 233.333909 104.943323 \nL 233.562205 104.942398 \nL 233.858989 104.907391 \nL 234.110114 104.917679 \nL 234.384069 104.894138 \nL 234.612364 104.893281 \nL 235.046126 104.790909 \nL 235.228762 104.767966 \nL 235.525547 104.733569 \nL 235.776672 104.744004 \nL 236.004967 104.743342 \nL 236.164774 104.709507 \nL 236.438729 104.686549 \nL 236.644195 104.674926 \nL 236.87249 104.674353 \nL 237.077956 104.662771 \nL 237.4204 104.606699 \nL 237.671525 104.617197 \nL 237.876991 104.627775 \nL 238.128116 104.63822 \nL 238.356412 104.637695 \nL 238.607537 104.648104 \nL 238.835832 104.647568 \nL 239.201105 104.712372 \nL 239.338083 104.755738 \nL 239.726185 104.830984 \nL 240.022969 104.797327 \nL 240.319753 104.829028 \nL 240.593708 104.806407 \nL 240.822004 104.805686 \nL 241.118788 104.772267 \nL 241.461231 104.825295 \nL 241.712356 104.813682 \nL 241.940652 104.812957 \nL 242.146118 104.823077 \nL 242.328754 104.800971 \nL 242.55705 104.800261 \nL 242.808175 104.810218 \nL 243.104959 104.777145 \nL 243.356084 104.787097 \nL 243.812675 104.678984 \nL 244.200778 104.75261 \nL 244.451903 104.741265 \nL 244.634539 104.719506 \nL 244.885665 104.70823 \nL 245.13679 104.718187 \nL 245.410744 104.696301 \nL 245.63904 104.695728 \nL 246.027142 104.620909 \nL 246.278267 104.630918 \nL 246.575052 104.598724 \nL 246.963154 104.671445 \nL 247.16862 104.68145 \nL 247.374086 104.670483 \nL 247.807848 104.575392 \nL 248.241609 104.668459 \nL 248.515564 104.646995 \nL 248.835178 104.687879 \nL 249.017814 104.708209 \nL 249.291769 104.72827 \nL 249.634212 104.675599 \nL 249.930996 104.705922 \nL 250.113633 104.726125 \nL 250.319099 104.715274 \nL 250.478906 104.745797 \nL 250.75286 104.765653 \nL 251.118133 104.702978 \nL 251.414917 104.733028 \nL 251.711702 104.701522 \nL 252.099804 104.772146 \nL 252.350929 104.761232 \nL 252.716202 104.821389 \nL 252.990157 104.800198 \nL 253.3326 104.849999 \nL 253.515237 104.869723 \nL 253.652214 104.828697 \nL 253.926169 104.807595 \nL 254.154464 104.806922 \nL 254.474078 104.785772 \nL 254.793692 104.80504 \nL 255.295942 104.702957 \nL 255.569897 104.702294 \nL 255.752533 104.742012 \nL 256.117806 104.781146 \nL 256.43742 104.760244 \nL 256.894011 104.83888 \nL 257.190795 104.828003 \nL 257.761534 104.955499 \nL 258.172466 104.894495 \nL 258.560568 104.942708 \nL 258.925841 104.901881 \nL 259.450921 105.008554 \nL 259.793364 104.977715 \nL 260.112978 104.996184 \nL 260.455422 104.965461 \nL 260.889183 105.032405 \nL 261.07182 105.070803 \nL 261.368604 105.079346 \nL 261.665388 105.068359 \nL 261.939343 105.067234 \nL 262.327445 105.017044 \nL 262.669888 105.044844 \nL 262.921014 105.053539 \nL 263.217798 105.062029 \nL 263.423264 105.090202 \nL 263.720048 105.098619 \nL 264.016832 105.087731 \nL 264.290787 105.086596 \nL 264.564742 105.08546 \nL 264.930014 105.12235 \nL 265.340946 105.063102 \nL 265.706219 105.099896 \nL 266.025833 105.079462 \nL 266.345447 105.097231 \nL 266.573742 105.115336 \nL 266.847697 105.114175 \nL 267.19014 105.084241 \nL 267.418436 105.064337 \nL 267.760879 105.034561 \nL 268.21747 105.108429 \nL 268.537084 105.08822 \nL 268.879528 105.115095 \nL 269.107823 105.132964 \nL 269.404607 105.141102 \nL 269.747051 105.111478 \nL 270.043835 105.119616 \nL 270.386278 105.090118 \nL 270.842869 105.162966 \nL 271.208142 105.12409 \nL 271.482097 105.122944 \nL 271.756052 105.121803 \nL 272.007177 105.111473 \nL 272.395279 105.063533 \nL 272.783382 105.108292 \nL 272.988848 105.135187 \nL 273.285632 105.143173 \nL 273.513927 105.160653 \nL 273.856371 105.186802 \nL 274.061837 105.213492 \nL 274.312962 105.203167 \nL 274.632576 105.183385 \nL 275.134826 105.272724 \nL 275.43161 105.262163 \nL 275.682735 105.251848 \nL 276.207815 105.149187 \nL 276.550258 105.175036 \nL 276.847042 105.164675 \nL 277.098168 105.154534 \nL 277.303634 105.180861 \nL 277.737395 105.242322 \nL 278.079838 105.21365 \nL 278.422282 105.239184 \nL 278.696236 105.237933 \nL 279.03868 105.263361 \nL 279.381123 105.234826 \nL 279.746396 105.269039 \nL 280.294305 105.159155 \nL 280.59109 105.166851 \nL 280.819385 105.183737 \nL 281.116169 105.191386 \nL 281.367295 105.199209 \nL 281.778227 105.25075 \nL 282.211988 105.186697 \nL 282.440284 105.168008 \nL 282.988193 105.059663 \nL 283.421955 105.119821 \nL 283.467614 105.101999 \nL 283.467614 105.101999 \n\" clip-path=\"url(#p55f7a1a11d)\" style=\"fill: none; stroke: #1f77b4; stroke-width: 1.5; stroke-linecap: square\"/>\n   </g>\n   <g id=\"line2d_14\">\n    <path d=\"M 55.194886 192.42 \nL 55.263375 192.42 \nL 55.286205 157.139999 \nL 55.377523 172.82 \nL 55.53733 126.27 \nL 55.560159 130.161175 \nL 55.582989 123.819999 \nL 55.674307 112.238179 \nL 55.697137 115.72435 \nL 55.788455 127.086669 \nL 55.834114 119.426894 \nL 55.879773 124.136131 \nL 55.925432 117.583634 \nL 55.948262 119.784705 \nL 56.108069 106.371217 \nL 56.130898 108.42 \nL 56.245046 117.356169 \nL 56.313535 114.804 \nL 56.404853 110.753335 \nL 56.427682 112.238179 \nL 56.450512 113.670001 \nL 56.519001 111.694576 \nL 56.54183 110.1 \nL 56.587489 112.755486 \nL 56.610319 111.22 \nL 56.747296 115.72435 \nL 56.792955 115.40028 \nL 57.021251 107.486665 \nL 57.089739 110.520002 \nL 57.135399 108.322328 \nL 57.272376 106.137391 \nL 57.318035 107.973191 \nL 57.363694 106.057498 \nL 57.386524 106.947835 \nL 57.523501 105.076313 \nL 57.56916 106.74 \nL 57.614819 105.044297 \nL 57.637649 105.853332 \nL 57.660478 105.029172 \nL 57.706137 106.603782 \nL 57.728967 105.794999 \nL 57.774626 107.314736 \nL 57.865944 107.20983 \nL 57.934433 107.864626 \nL 57.980092 106.371217 \nL 58.09424 108.354375 \nL 58.139899 108.290769 \nL 58.208388 106.209471 \nL 58.254047 107.486665 \nL 58.413854 110.431267 \nL 58.299706 107.438977 \nL 58.436683 109.771051 \nL 58.573661 107.179732 \nL 58.59649 107.748002 \nL 58.642149 108.862103 \nL 58.687808 107.656365 \nL 58.710638 107.065164 \nL 58.756297 108.152485 \nL 58.779127 107.569365 \nL 58.961763 111.658555 \nL 59.007422 110.520002 \nL 59.053081 109.408235 \nL 59.12157 109.82809 \nL 59.190059 109.231364 \nL 59.372695 112.848259 \nL 59.555331 110.651252 \nL 59.64665 112.320001 \nL 59.715138 111.754676 \nL 59.783627 110.332869 \nL 59.829286 111.137647 \nL 59.852116 111.534145 \nL 59.897775 110.611303 \nL 59.920604 110.15654 \nL 59.966264 110.94 \nL 60.011923 111.708681 \nL 60.057582 110.814391 \nL 60.080411 111.193956 \nL 60.240218 109.782164 \nL 60.263048 110.152734 \nL 60.308707 109.315999 \nL 60.331536 108.903188 \nL 60.377196 109.63579 \nL 60.445684 110.71091 \nL 60.514173 110.250769 \nL 60.537002 109.849787 \nL 60.582662 110.546582 \nL 60.605491 110.149411 \nL 60.628321 110.493638 \nL 60.67398 109.709626 \nL 60.810957 108.147933 \nL 60.833787 108.487743 \nL 61.062082 110.373486 \nL 61.1534 109.606261 \nL 61.17623 109.921142 \nL 61.221889 109.878112 \nL 61.404526 111.650769 \nL 61.564332 110.520002 \nL 61.587162 110.811458 \nL 61.632821 110.141557 \nL 61.70131 109.771051 \nL 61.724139 110.059026 \nL 61.769798 110.628998 \nL 61.815458 109.978765 \nL 61.838287 110.261094 \nL 61.975264 108.95557 \nL 61.998094 109.234718 \nL 62.089412 109.168515 \nL 62.18073 110.253224 \nL 62.22639 109.643302 \nL 62.272049 110.175629 \nL 62.386196 110.918735 \nL 62.317708 110.137572 \nL 62.431856 110.876604 \nL 62.454685 110.57925 \nL 62.500344 111.08916 \nL 62.568833 111.842223 \nL 62.637322 111.50257 \nL 62.819958 109.748955 \nL 62.842788 109.994999 \nL 62.865617 110.239587 \nL 62.911276 109.683719 \nL 62.956935 110.168973 \nL 63.025424 109.860695 \nL 63.048254 110.1 \nL 63.093913 110.574466 \nL 63.139572 110.032609 \nL 63.162401 110.268002 \nL 63.413526 108.373464 \nL 63.459186 108.836527 \nL 63.527674 108.557705 \nL 63.573333 108.054782 \nL 63.641822 108.261508 \nL 63.687481 108.712759 \nL 63.73314 108.218399 \nL 63.75597 108.442343 \nL 63.801629 107.953335 \nL 63.847288 108.397894 \nL 64.052754 109.888379 \nL 64.075584 109.647692 \nL 64.28105 107.977896 \nL 64.303879 108.189001 \nL 64.577834 109.786018 \nL 64.76047 108.840002 \nL 64.7833 109.038527 \nL 64.851788 108.796415 \nL 65.011595 108.108168 \nL 65.034425 108.303334 \nL 65.080084 107.878063 \nL 65.171402 107.039178 \nL 65.217061 107.427275 \nL 65.26272 107.811855 \nL 65.30838 107.398376 \nL 65.399698 106.582502 \nL 65.445357 106.964001 \nL 65.513846 107.529936 \nL 65.559505 107.127692 \nL 65.742141 106.315466 \nL 65.856289 106.858464 \nL 65.901948 106.847235 \nL 65.947607 106.462371 \nL 66.016096 106.633895 \nL 66.061755 106.993583 \nL 66.130244 106.792498 \nL 66.244391 106.220411 \nL 66.267221 106.397776 \nL 66.31288 106.75033 \nL 66.358539 106.380002 \nL 66.541176 105.63687 \nL 66.609664 106.156527 \nL 66.655323 105.798132 \nL 66.723812 105.614464 \nL 66.746642 105.785678 \nL 66.769471 105.95622 \nL 66.81513 105.603529 \nL 66.83796 105.773424 \nL 66.997767 105.241623 \nL 67.180403 105.896804 \nL 67.248892 105.720569 \nL 67.271721 105.88415 \nL 67.431528 106.355194 \nL 67.614165 105.676514 \nL 67.751142 106.300945 \nL 67.796801 106.293417 \nL 67.84246 105.968106 \nL 67.910949 106.116772 \nL 68.162074 107.165165 \nL 68.299051 106.827652 \nL 68.34471 107.124333 \nL 68.39037 106.809636 \nL 68.413199 106.653105 \nL 68.458858 106.947835 \nL 68.550176 106.929214 \nL 68.618665 107.364652 \nL 68.687154 107.199731 \nL 68.709983 107.343439 \nL 68.755642 107.332941 \nL 68.915449 108.0293 \nL 69.052427 107.701581 \nL 69.098086 107.690163 \nL 69.235063 108.229092 \nL 69.257893 108.079643 \nL 69.303552 108.352151 \nL 69.39487 108.608762 \nL 69.349211 108.33884 \nL 69.4177 108.460385 \nL 69.440529 108.312481 \nL 69.486188 108.580768 \nL 69.509018 108.714268 \nL 69.577506 108.553121 \nL 69.623166 108.260756 \nL 69.668825 108.525826 \nL 69.91995 109.408235 \nL 70.056927 109.089937 \nL 70.079757 109.217548 \nL 70.125416 108.932975 \nL 70.148245 109.060245 \nL 70.216734 109.172048 \nL 70.285223 108.749911 \nL 70.308052 108.876108 \nL 70.353711 108.596844 \nL 70.376541 108.722705 \nL 70.513518 108.42 \nL 70.536348 108.544815 \nL 70.582007 108.270666 \nL 70.604836 108.395149 \nL 70.627666 108.2587 \nL 70.673325 108.5066 \nL 70.696155 108.370588 \nL 70.741814 108.617069 \nL 70.787473 108.346316 \nL 70.92445 108.054782 \nL 71.015768 108.54104 \nL 71.061428 108.275171 \nL 71.107087 108.010832 \nL 71.175575 108.120427 \nL 71.198405 108.240511 \nL 71.244064 107.978522 \nL 71.266894 108.0983 \nL 71.403871 107.81747 \nL 71.44953 108.054782 \nL 71.540848 108.03339 \nL 71.563678 107.905237 \nL 71.609337 108.14 \nL 71.700655 108.605634 \nL 71.769144 108.466215 \nL 71.837632 108.086303 \nL 71.883292 108.316723 \nL 71.95178 108.659998 \nL 71.997439 108.408602 \nL 72.225735 107.644095 \nL 72.49969 108.519607 \nL 72.613837 108.145131 \nL 72.636667 108.255294 \nL 72.659496 108.365168 \nL 72.705156 108.124686 \nL 72.750815 108.343635 \nL 72.773644 108.223893 \nL 72.819303 108.441733 \nL 73.116088 109.381834 \nL 73.207406 109.132404 \nL 73.230235 109.237699 \nL 73.253065 109.342726 \nL 73.298724 109.107659 \nL 73.435701 108.850501 \nL 73.52702 109.046865 \nL 73.48136 108.838951 \nL 73.549849 108.931303 \nL 73.618338 108.804653 \nL 73.641167 108.908009 \nL 73.755315 109.420984 \nL 73.823804 109.293929 \nL 73.892292 109.167805 \nL 73.915122 109.26921 \nL 74.074929 109.759133 \nL 73.960781 109.25694 \nL 74.097758 109.646057 \nL 74.303224 109.061527 \nL 74.326054 109.160882 \nL 74.371713 108.939383 \nL 74.394543 109.038527 \nL 74.622838 108.153805 \nL 74.645668 108.252592 \nL 74.714156 108.341495 \nL 74.736986 108.233771 \nL 74.919622 107.788787 \nL 74.988111 107.674838 \nL 75.03377 107.869657 \nL 75.193577 107.538815 \nL 75.239236 107.731947 \nL 75.284895 107.523743 \nL 75.399043 107.405552 \nL 75.490361 107.787641 \nL 75.53602 107.581882 \nL 75.650168 107.268163 \nL 75.672998 107.362985 \nL 75.741486 107.254631 \nL 75.787146 107.443257 \nL 75.809975 107.342125 \nL 75.855634 107.529936 \nL 75.878464 107.429041 \nL 76.0611 107.786558 \nL 76.243737 106.99118 \nL 76.312225 107.07745 \nL 76.380714 107.163167 \nL 76.403544 107.065164 \nL 76.449203 106.869788 \nL 76.494862 107.052978 \nL 76.700328 107.493594 \nL 76.723157 107.396694 \nL 76.768816 107.576446 \nL 76.928623 107.829445 \nL 76.951453 107.733208 \nL 76.997112 107.910379 \nL 77.019942 107.814357 \nL 77.042771 107.902672 \nL 77.08843 107.711249 \nL 77.11126 107.799396 \nL 77.134089 107.703989 \nL 77.179748 107.879751 \nL 77.202578 107.967356 \nL 77.248237 107.777189 \nL 77.293896 107.587801 \nL 77.362385 107.668146 \nL 77.63634 108.343172 \nL 77.773317 108.14 \nL 77.841806 108.21698 \nL 77.864635 108.124223 \nL 78.024442 107.832589 \nL 78.184249 108.070001 \nL 78.207078 107.978769 \nL 78.252738 108.145814 \nL 78.275567 108.229092 \nL 78.321226 108.047217 \nL 78.344056 108.130342 \nL 78.526692 107.754899 \nL 78.686499 107.987769 \nL 78.846306 107.53707 \nL 78.869136 107.618845 \nL 78.937624 107.693775 \nL 78.960454 107.605797 \nL 79.028942 107.511673 \nL 79.051772 107.592848 \nL 79.211579 107.821707 \nL 79.417045 107.375934 \nL 79.439874 107.455937 \nL 79.485534 107.284223 \nL 79.64534 107.017387 \nL 79.736659 107.33487 \nL 79.805147 107.244469 \nL 79.873636 106.991532 \nL 79.942125 107.065164 \nL 80.010613 107.13838 \nL 80.033443 107.054713 \nL 80.17042 106.878084 \nL 80.375886 107.255871 \nL 80.581352 106.835096 \nL 80.627011 106.98861 \nL 80.672671 106.825728 \nL 80.763989 106.659072 \nL 80.786818 106.73551 \nL 80.923796 106.878509 \nL 80.946625 106.798033 \nL 80.992284 106.949444 \nL 81.015114 106.869115 \nL 81.152091 107.165165 \nL 81.174921 107.085146 \nL 81.243409 107.000385 \nL 81.266239 107.075116 \nL 81.380387 107.293171 \nL 81.403216 107.213736 \nL 81.448875 107.055275 \nL 81.494535 107.203347 \nL 81.585853 107.345495 \nL 81.608682 107.266633 \nL 81.654341 107.109308 \nL 81.700001 107.256145 \nL 81.859807 107.766107 \nL 81.905467 107.609408 \nL 81.928296 107.531261 \nL 81.973955 107.675879 \nL 81.996785 107.597874 \nL 82.065273 107.66414 \nL 82.088103 107.586413 \nL 82.156592 107.354012 \nL 82.202251 107.497705 \nL 82.316399 107.558099 \nL 82.430546 107.470252 \nL 82.567524 107.748002 \nL 82.590353 107.671621 \nL 82.704501 107.43791 \nL 82.727331 107.508319 \nL 82.909967 107.922223 \nL 82.932797 107.846647 \nL 82.978456 107.695862 \nL 83.046944 107.759557 \nL 83.161092 107.817065 \nL 83.229581 107.592985 \nL 83.27524 107.730806 \nL 83.320899 107.868175 \nL 83.366558 107.719435 \nL 83.435047 107.497221 \nL 83.480706 107.634196 \nL 83.80032 108.440098 \nL 83.823149 108.366456 \nL 84.028615 107.988037 \nL 84.165593 108.248034 \nL 84.188422 108.17547 \nL 84.30257 107.952604 \nL 84.325399 108.018749 \nL 84.393888 108.078749 \nL 84.416718 108.006884 \nL 84.553695 107.852167 \nL 84.576525 107.917828 \nL 84.622184 107.775349 \nL 84.736331 107.5573 \nL 84.759161 107.622777 \nL 84.781991 107.688155 \nL 84.82765 107.547022 \nL 84.850479 107.61231 \nL 84.896138 107.471614 \nL 84.941797 107.601901 \nL 84.964627 107.666895 \nL 85.010286 107.526656 \nL 85.101604 107.382016 \nL 85.124434 107.446831 \nL 85.170093 107.576162 \nL 85.215752 107.437022 \nL 85.375559 107.220002 \nL 85.444048 107.146697 \nL 85.512536 107.339186 \nL 85.535366 107.270528 \nL 85.581025 107.398376 \nL 85.672343 107.520899 \nL 85.695173 107.452462 \nL 85.786491 107.179732 \nL 85.85498 107.238749 \nL 86.014787 107.418963 \nL 86.151764 107.144836 \nL 86.174593 107.207627 \nL 86.288741 107.390801 \nL 86.311571 107.323815 \nL 86.608355 106.718041 \nL 86.790991 106.958339 \nL 86.85948 106.761785 \nL 86.927969 106.819714 \nL 87.156264 107.178886 \nL 87.293242 107.040897 \nL 87.38456 107.282935 \nL 87.430219 107.153757 \nL 87.453049 107.089305 \nL 87.498708 107.20983 \nL 87.681344 107.564665 \nL 87.704174 107.500423 \nL 87.727003 107.43627 \nL 87.772662 107.555297 \nL 87.841151 107.609939 \nL 87.863981 107.545976 \nL 88.069447 107.219166 \nL 88.229253 107.387405 \nL 88.41189 107.127692 \nL 88.503208 107.361372 \nL 88.548867 107.236415 \nL 88.685845 107.103925 \nL 88.708674 107.162 \nL 88.754333 107.038084 \nL 88.777163 107.096086 \nL 88.891311 106.907203 \nL 88.91414 106.965063 \nL 88.982629 107.138164 \nL 89.028288 107.015279 \nL 89.165265 106.885549 \nL 89.233754 106.82107 \nL 89.279413 106.935665 \nL 89.43922 106.629195 \nL 89.462049 106.686314 \nL 89.484879 106.743354 \nL 89.530538 106.622792 \nL 89.553368 106.679758 \nL 89.713175 106.493498 \nL 89.781663 106.547179 \nL 89.804493 106.4875 \nL 89.895811 106.365561 \nL 89.918641 106.422101 \nL 90.032788 106.472654 \nL 90.238254 106.057498 \nL 90.261084 106.113686 \nL 90.398061 106.220648 \nL 90.46655 106.273819 \nL 90.512209 106.15721 \nL 90.763334 106.539561 \nL 90.786164 106.481538 \nL 90.831823 106.591575 \nL 90.854652 106.533626 \nL 90.923141 106.472875 \nL 90.99163 106.637207 \nL 91.151437 106.45858 \nL 91.197096 106.567529 \nL 91.242755 106.452913 \nL 91.288414 106.338586 \nL 91.334073 106.447272 \nL 91.379732 106.555685 \nL 91.425391 106.441663 \nL 91.49388 106.271164 \nL 91.539539 106.379324 \nL 91.562369 106.433299 \nL 91.608028 106.320003 \nL 91.767835 106.145765 \nL 92.087448 106.674543 \nL 92.110278 106.618518 \nL 92.155937 106.724444 \nL 92.224426 106.882847 \nL 92.270085 106.771017 \nL 92.429892 106.597942 \nL 92.52121 106.699951 \nL 92.544039 106.644557 \nL 92.658187 106.476029 \nL 92.681017 106.528337 \nL 92.863653 106.730842 \nL 93.000631 106.61529 \nL 93.02346 106.667047 \nL 93.069119 106.55783 \nL 93.091949 106.503324 \nL 93.137608 106.606653 \nL 93.160437 106.55221 \nL 93.297415 106.755088 \nL 93.320244 106.700792 \nL 93.52571 106.424998 \nL 93.54854 106.476155 \nL 93.594199 106.368662 \nL 93.617029 106.315013 \nL 93.662688 106.417154 \nL 93.685517 106.363568 \nL 93.754006 106.411955 \nL 93.776835 106.3585 \nL 93.799665 106.305104 \nL 93.845324 106.406777 \nL 93.868154 106.457524 \nL 93.913813 106.350935 \nL 93.959472 106.244605 \nL 94.005131 106.345925 \nL 94.119279 106.391394 \nL 94.142108 106.338455 \nL 94.187767 106.439192 \nL 94.210597 106.386316 \nL 94.233427 106.4366 \nL 94.279086 106.331032 \nL 94.301915 106.278345 \nL 94.347574 106.37874 \nL 94.55304 106.623129 \nL 94.690018 106.410988 \nL 94.712847 106.460646 \nL 94.735677 106.510248 \nL 94.781336 106.405936 \nL 94.804165 106.455484 \nL 94.826995 106.403417 \nL 94.872654 106.502346 \nL 94.895484 106.450343 \nL 94.918313 106.499723 \nL 94.963972 106.395905 \nL 95.146609 106.184479 \nL 95.260757 106.329565 \nL 95.283586 106.278166 \nL 95.420563 105.970992 \nL 95.489052 106.017959 \nL 95.534711 106.1157 \nL 95.58037 106.013901 \nL 95.671689 105.91042 \nL 95.694518 105.959153 \nL 95.717348 106.007839 \nL 95.763007 105.906613 \nL 95.785836 105.955247 \nL 95.922814 105.850588 \nL 96.12828 106.088226 \nL 96.310916 105.786262 \nL 96.333746 105.834312 \nL 96.379405 105.930249 \nL 96.425064 105.830737 \nL 96.584871 105.678654 \nL 96.653359 105.72479 \nL 96.676189 105.675447 \nL 96.835996 105.524877 \nL 96.995803 105.664323 \nL 97.13278 105.563633 \nL 97.201269 105.513538 \nL 97.246928 105.607845 \nL 97.406735 105.459568 \nL 97.475223 105.505158 \nL 97.498053 105.456892 \nL 97.703519 105.214202 \nL 97.817667 105.258756 \nL 97.863326 105.163313 \nL 97.908985 105.256538 \nL 98.023133 105.394748 \nL 98.045962 105.347155 \nL 98.068792 105.299615 \nL 98.114451 105.392251 \nL 98.274258 105.528053 \nL 98.297087 105.480665 \nL 98.342747 105.572617 \nL 98.502553 105.707037 \nL 98.68519 105.515698 \nL 98.890656 105.739894 \nL 99.050463 105.504911 \nL 99.073292 105.550112 \nL 99.164611 105.638889 \nL 99.18744 105.592405 \nL 99.21027 105.545974 \nL 99.255929 105.63595 \nL 99.278758 105.589566 \nL 99.301588 105.634483 \nL 99.347247 105.541858 \nL 99.370077 105.586738 \nL 99.552713 105.399632 \nL 99.68969 105.576923 \nL 99.71252 105.531018 \nL 99.803838 105.438108 \nL 99.826668 105.482579 \nL 99.849497 105.527001 \nL 99.895156 105.435622 \nL 100.054963 105.206979 \nL 100.077793 105.251317 \nL 100.191941 105.382882 \nL 100.21477 105.337587 \nL 100.260429 105.247138 \nL 100.306088 105.335326 \nL 100.374577 105.378182 \nL 100.397407 105.333076 \nL 100.671361 104.883823 \nL 100.694191 104.927725 \nL 100.76268 104.882493 \nL 100.831168 105.0138 \nL 101.059464 104.746565 \nL 101.082293 104.790162 \nL 101.127952 104.701968 \nL 101.196441 104.744998 \nL 101.26493 104.613165 \nL 101.447566 104.785662 \nL 101.607373 104.653629 \nL 101.675862 104.60969 \nL 101.74435 104.738826 \nL 101.812839 104.781235 \nL 101.858498 104.694424 \nL 101.995476 104.779043 \nL 102.041135 104.692579 \nL 102.109623 104.734783 \nL 102.178112 104.862547 \nL 102.223771 104.77633 \nL 102.29226 104.732791 \nL 102.315089 104.775253 \nL 102.452067 104.85882 \nL 102.520555 104.73032 \nL 102.589044 104.772046 \nL 102.726021 104.939827 \nL 102.748851 104.89716 \nL 102.999976 104.598902 \nL 103.136953 104.681781 \nL 103.182612 104.597462 \nL 103.251101 104.638804 \nL 103.365249 104.679594 \nL 103.502226 104.594965 \nL 103.730522 104.842003 \nL 103.913158 104.674426 \nL 103.958817 104.756548 \nL 104.027306 104.71458 \nL 104.164283 104.630997 \nL 104.232772 104.753551 \nL 104.301261 104.71182 \nL 104.369749 104.752064 \nL 104.415408 104.66979 \nL 104.438238 104.710453 \nL 104.483897 104.628332 \nL 104.575215 104.546063 \nL 104.598045 104.586653 \nL 104.643704 104.667718 \nL 104.689363 104.585975 \nL 104.894829 104.300991 \nL 104.917659 104.341434 \nL 105.077466 104.462086 \nL 105.145954 104.502045 \nL 105.191613 104.42128 \nL 105.305761 104.541311 \nL 105.328591 104.50102 \nL 105.35142 104.460766 \nL 105.397079 104.540727 \nL 105.442738 104.620546 \nL 105.488398 104.540143 \nL 105.602545 104.419639 \nL 105.625375 104.459457 \nL 105.762352 104.538414 \nL 105.85367 104.378918 \nL 105.89933 104.458164 \nL 106.036307 104.615872 \nL 106.059136 104.576123 \nL 106.127625 104.536127 \nL 106.150455 104.575487 \nL 106.173284 104.614805 \nL 106.218943 104.535564 \nL 106.264602 104.45646 \nL 106.310262 104.535002 \nL 106.37875 104.573899 \nL 106.40158 104.534439 \nL 106.652705 104.259113 \nL 106.789682 104.415045 \nL 106.812512 104.375969 \nL 106.949489 104.297779 \nL 107.063637 104.336409 \nL 107.177785 104.297438 \nL 107.269103 104.374602 \nL 107.291932 104.335899 \nL 107.497398 104.143036 \nL 107.588717 104.143172 \nL 107.794183 103.952149 \nL 107.90833 104.143635 \nL 107.95399 104.067407 \nL 107.999649 103.991304 \nL 108.045308 104.067669 \nL 108.159456 104.105994 \nL 108.273603 104.068321 \nL 108.319262 104.144224 \nL 108.364922 104.068584 \nL 108.479069 103.955587 \nL 108.501899 103.99346 \nL 108.753024 104.257578 \nL 108.775854 104.22 \nL 108.821513 104.295061 \nL 108.95849 104.369744 \nL 108.98132 104.332261 \nL 109.026979 104.406944 \nL 109.049808 104.444238 \nL 109.095467 104.369366 \nL 109.232445 104.294494 \nL 109.369422 104.517222 \nL 109.415081 104.442729 \nL 109.48357 104.331225 \nL 109.529229 104.405214 \nL 109.666206 104.55255 \nL 109.689036 104.515477 \nL 109.803184 104.404289 \nL 109.826013 104.441052 \nL 109.940161 104.550889 \nL 109.96299 104.514 \nL 110.122797 104.403216 \nL 110.282604 104.512296 \nL 110.48807 104.329201 \nL 110.670707 104.473972 \nL 110.716366 104.401255 \nL 110.762025 104.473551 \nL 110.876173 104.581475 \nL 110.899002 104.545196 \nL 111.058809 104.436178 \nL 111.150127 104.507765 \nL 111.172957 104.47169 \nL 111.309934 104.399342 \nL 111.332764 104.435122 \nL 111.378423 104.363299 \nL 111.469741 104.22 \nL 111.5154 104.291476 \nL 111.743696 104.504747 \nL 111.789355 104.433387 \nL 111.835014 104.504285 \nL 111.926332 104.503827 \nL 112.131798 104.255349 \nL 112.154628 104.290672 \nL 112.245946 104.290561 \nL 112.382923 104.22 \nL 112.56556 104.360334 \nL 112.656878 104.360113 \nL 112.748196 104.429833 \nL 112.771026 104.394794 \nL 112.862344 104.394516 \nL 112.976492 104.498675 \nL 112.999321 104.463742 \nL 113.227617 104.254681 \nL 113.387424 104.42753 \nL 113.410253 104.392875 \nL 113.455912 104.323644 \nL 113.501572 104.392602 \nL 113.752697 104.632469 \nL 113.980992 104.425433 \nL 114.049481 104.459394 \nL 114.07231 104.425117 \nL 114.209288 104.356428 \nL 114.254947 104.424481 \nL 114.300606 104.356217 \nL 114.391924 104.356007 \nL 114.483242 104.423693 \nL 114.506072 104.389679 \nL 114.734368 104.186197 \nL 114.757197 104.22 \nL 114.802856 104.152467 \nL 114.894174 104.085134 \nL 114.917004 104.118895 \nL 114.939834 104.152625 \nL 114.985493 104.085344 \nL 115.008322 104.05174 \nL 115.053981 104.119126 \nL 115.213788 104.22 \nL 115.396425 104.086259 \nL 115.556232 104.186659 \nL 115.716038 104.086963 \nL 115.784527 104.120335 \nL 115.807357 104.087173 \nL 115.921504 103.987982 \nL 115.944334 104.021207 \nL 116.035652 104.021501 \nL 116.218289 103.890157 \nL 116.469414 104.12145 \nL 116.560732 104.121597 \nL 116.583562 104.154423 \nL 116.629221 104.08895 \nL 116.743368 104.056482 \nL 116.971664 104.252584 \nL 117.222789 104.025297 \nL 117.314107 104.090391 \nL 117.336937 104.058049 \nL 117.428255 103.993596 \nL 117.451085 104.026012 \nL 117.565232 104.058638 \nL 117.70221 103.865785 \nL 117.747869 103.930395 \nL 117.770698 103.962674 \nL 117.816358 103.898569 \nL 117.953335 103.835126 \nL 118.22729 104.092262 \nL 118.387096 103.997035 \nL 118.524074 104.061077 \nL 118.70671 103.934769 \nL 118.843688 103.998633 \nL 118.866517 103.967101 \nL 119.026324 103.873124 \nL 119.186131 103.905445 \nL 119.574233 103.500898 \nL 119.73404 103.53386 \nL 119.893847 103.442218 \nL 119.962336 103.474118 \nL 120.007995 103.412536 \nL 120.213461 103.26029 \nL 120.464586 103.418183 \nL 120.601563 103.358314 \nL 120.624393 103.389374 \nL 120.647223 103.420422 \nL 120.715711 103.329095 \nL 121.058155 102.997549 \nL 121.195132 103.000083 \nL 121.28645 103.001765 \nL 121.30928 103.032635 \nL 121.560405 103.188772 \nL 121.720212 103.100484 \nL 121.743041 103.131112 \nL 121.880019 103.254087 \nL 121.925678 103.194418 \nL 122.039825 103.226287 \nL 122.131144 103.287785 \nL 122.176803 103.228316 \nL 122.382269 103.141468 \nL 122.496417 103.1732 \nL 122.519246 103.143666 \nL 122.656223 103.145842 \nL 122.793201 103.148019 \nL 123.044326 103.003658 \nL 123.295451 103.155925 \nL 123.478087 103.099811 \nL 123.729213 103.250764 \nL 123.911849 103.194755 \nL 124.003167 103.196121 \nL 124.025997 103.167218 \nL 124.094485 103.13905 \nL 124.140145 103.198151 \nL 124.322781 103.31733 \nL 124.345611 103.28851 \nL 124.528247 103.2329 \nL 124.596736 103.262876 \nL 124.642395 103.205542 \nL 124.802202 103.121113 \nL 124.825031 103.150384 \nL 124.89352 103.238073 \nL 124.962009 103.152487 \nL 125.076156 103.183031 \nL 125.190304 103.155967 \nL 125.372941 103.044001 \nL 125.39577 103.073052 \nL 125.509918 103.103543 \nL 125.532747 103.075292 \nL 125.555577 103.04705 \nL 125.624066 103.13393 \nL 125.806702 103.193756 \nL 126.057827 103.055367 \nL 126.103486 103.112891 \nL 126.171975 103.028871 \nL 126.354611 102.975354 \nL 126.628566 103.149196 \nL 126.834032 103.067974 \nL 127.153646 103.29688 \nL 127.176475 103.269206 \nL 127.244964 103.353919 \nL 127.336282 103.410823 \nL 127.381941 103.35557 \nL 127.587407 103.2746 \nL 127.701555 103.359376 \nL 127.747214 103.304429 \nL 127.998339 103.169342 \nL 128.135317 103.226508 \nL 128.158146 103.199234 \nL 128.272294 103.173284 \nL 128.295124 103.201147 \nL 128.363612 103.28463 \nL 128.432101 103.20305 \nL 128.47776 103.148744 \nL 128.546249 103.23207 \nL 128.751715 103.31693 \nL 128.774544 103.289856 \nL 128.843033 103.372708 \nL 128.934351 103.42836 \nL 128.98001 103.374286 \nL 129.208306 103.268102 \nL 129.52792 103.488838 \nL 129.733386 103.355823 \nL 129.756215 103.383086 \nL 129.779045 103.410328 \nL 129.847533 103.330178 \nL 129.938852 103.331272 \nL 129.961681 103.358462 \nL 130.121488 103.440893 \nL 130.144318 103.414271 \nL 130.326954 103.362646 \nL 130.55525 103.472089 \nL 130.852034 103.182348 \nL 130.897693 103.23616 \nL 131.080329 103.344635 \nL 131.103159 103.318381 \nL 131.285795 103.267629 \nL 131.468432 103.322692 \nL 131.58258 103.297679 \nL 131.605409 103.324301 \nL 131.810875 103.405523 \nL 132.039171 103.303157 \nL 132.267466 103.410349 \nL 132.472932 103.282254 \nL 132.495762 103.308571 \nL 132.655569 103.336445 \nL 132.838205 103.182968 \nL 132.883864 103.235392 \nL 132.975183 103.28831 \nL 133.020842 103.237127 \nL 133.203478 103.187815 \nL 133.408944 103.267734 \nL 133.523092 103.140627 \nL 133.591581 103.218601 \nL 133.774217 103.323397 \nL 133.797047 103.298047 \nL 133.979683 103.146883 \nL 134.025342 103.198571 \nL 134.207979 103.251889 \nL 134.618911 102.952758 \nL 134.710229 103.004846 \nL 134.755888 102.954935 \nL 134.961354 102.882492 \nL 135.121161 102.910344 \nL 135.417945 102.73954 \nL 135.577752 102.817619 \nL 135.600581 102.792973 \nL 135.806047 102.721697 \nL 136.034343 102.825536 \nL 136.125661 102.77736 \nL 136.17132 102.827891 \nL 136.262639 102.829458 \nL 136.285468 102.805023 \nL 136.376786 102.806621 \nL 136.399616 102.831802 \nL 136.582252 102.933854 \nL 136.605082 102.909492 \nL 136.787718 102.813739 \nL 136.810548 102.838794 \nL 136.856207 102.888863 \nL 136.924696 102.816094 \nL 137.084503 102.745081 \nL 137.107332 102.770073 \nL 137.22148 102.845713 \nL 137.267139 102.797421 \nL 137.426946 102.775709 \nL 137.72373 102.951633 \nL 138.066173 102.738257 \nL 138.24881 102.789987 \nL 138.522765 102.649748 \nL 138.842378 102.848268 \nL 139.139163 102.685255 \nL 139.25331 102.711288 \nL 139.27614 102.687757 \nL 139.527265 102.572962 \nL 139.709902 102.671796 \nL 139.732731 102.648402 \nL 139.915368 102.604263 \nL 140.120834 102.679282 \nL 140.349129 102.58886 \nL 140.486106 102.591478 \nL 140.645913 102.570965 \nL 140.82855 102.621496 \nL 140.965527 102.577105 \nL 140.988357 102.601004 \nL 141.170993 102.698103 \nL 141.193823 102.675098 \nL 141.399289 102.608721 \nL 141.604755 102.682437 \nL 141.764562 102.615514 \nL 141.787391 102.639192 \nL 141.970028 102.688914 \nL 142.129834 102.668568 \nL 142.3353 102.787727 \nL 142.35813 102.765016 \nL 142.563596 102.699312 \nL 142.769062 102.77184 \nL 142.928869 102.751526 \nL 143.157164 102.892648 \nL 143.179994 102.870116 \nL 143.36263 102.82725 \nL 143.476778 102.806242 \nL 143.590926 102.830846 \nL 143.750733 102.85608 \nL 143.956199 102.791196 \nL 144.047517 102.747352 \nL 144.207324 102.727385 \nL 144.41279 102.798514 \nL 144.732404 102.623725 \nL 144.91504 102.671849 \nL 145.074847 102.652198 \nL 145.257484 102.70008 \nL 145.394461 102.702393 \nL 145.577097 102.750001 \nL 145.736904 102.730361 \nL 145.828222 102.687442 \nL 145.94237 102.711551 \nL 146.239154 102.871241 \nL 146.353302 102.895014 \nL 146.513109 102.919376 \nL 146.695746 102.87797 \nL 146.855552 102.902269 \nL 147.061018 102.839478 \nL 147.334973 102.97467 \nL 147.51761 102.933528 \nL 147.837223 103.111797 \nL 148.111178 102.985069 \nL 148.248155 102.986888 \nL 148.362303 103.010009 \nL 148.453621 102.968015 \nL 148.613428 102.948605 \nL 148.887383 103.081243 \nL 149.070019 103.040573 \nL 149.343974 103.172296 \nL 149.458122 103.194912 \nL 149.663588 103.261068 \nL 149.891883 103.178352 \nL 150.07452 103.222786 \nL 150.211497 103.224226 \nL 150.371304 103.247052 \nL 150.57677 103.185828 \nL 150.690918 103.165988 \nL 150.896384 103.105142 \nL 151.010532 103.085459 \nL 151.147509 103.087078 \nL 151.398634 103.19466 \nL 151.535611 103.196121 \nL 151.741077 103.260847 \nL 151.900884 103.241617 \nL 152.037862 103.243005 \nL 152.220498 103.203345 \nL 152.334646 103.18382 \nL 152.585771 103.083135 \nL 152.859726 103.21 \nL 153.065192 103.150405 \nL 153.202169 103.151909 \nL 153.407635 103.092651 \nL 153.567442 103.114941 \nL 153.68159 103.136663 \nL 153.864226 103.179477 \nL 154.024033 103.160783 \nL 154.252328 103.244519 \nL 154.480624 103.165651 \nL 154.68609 103.228537 \nL 154.777408 103.269879 \nL 155.005704 103.352721 \nL 155.119852 103.373865 \nL 155.256829 103.375022 \nL 155.439465 103.336392 \nL 155.553613 103.31734 \nL 155.781909 103.239335 \nL 155.896056 103.220451 \nL 156.010204 103.241554 \nL 156.147182 103.242878 \nL 156.261329 103.263907 \nL 156.489625 103.34555 \nL 156.672261 103.307446 \nL 156.809239 103.308677 \nL 157.037534 103.231649 \nL 157.311489 103.352584 \nL 157.516955 103.295302 \nL 157.631103 103.276682 \nL 157.76808 103.277943 \nL 158.042035 103.397901 \nL 158.224671 103.36027 \nL 158.315989 103.321988 \nL 158.498626 103.284609 \nL 158.79541 103.423303 \nL 158.978046 103.385914 \nL 159.115024 103.387008 \nL 159.274831 103.368944 \nL 159.503126 103.448012 \nL 159.685763 103.410823 \nL 159.982547 103.547603 \nL 160.142354 103.529434 \nL 160.370649 103.607502 \nL 160.507627 103.608301 \nL 160.667434 103.62831 \nL 160.941388 103.515618 \nL 161.078366 103.516533 \nL 161.215343 103.517437 \nL 161.329491 103.499226 \nL 161.671934 103.331387 \nL 161.945889 103.446813 \nL 162.128525 103.410476 \nL 162.311162 103.449452 \nL 162.425309 103.46904 \nL 162.516628 103.432167 \nL 162.630775 103.451744 \nL 162.790582 103.471595 \nL 162.996048 103.416994 \nL 163.201514 103.474434 \nL 163.361321 103.456928 \nL 163.498299 103.457895 \nL 163.680935 103.422062 \nL 163.863571 103.46045 \nL 164.023378 103.44307 \nL 164.137526 103.425406 \nL 164.342992 103.371573 \nL 164.548458 103.428392 \nL 164.753924 103.374748 \nL 164.95939 103.431357 \nL 165.164856 103.377913 \nL 165.415981 103.471153 \nL 165.598618 103.43592 \nL 165.758425 103.455256 \nL 165.963891 103.402159 \nL 166.192186 103.47639 \nL 166.397652 103.42345 \nL 166.5118 103.406175 \nL 166.717266 103.35352 \nL 166.854243 103.354582 \nL 167.082539 103.284378 \nL 167.265175 103.32183 \nL 167.493471 103.251952 \nL 167.607619 103.235024 \nL 167.721766 103.253918 \nL 167.904403 103.291202 \nL 168.018551 103.309991 \nL 168.269676 103.401023 \nL 168.406653 103.402012 \nL 168.612119 103.456749 \nL 168.749096 103.457664 \nL 168.954562 103.512138 \nL 169.045881 103.548065 \nL 169.365494 103.691007 \nL 169.548131 103.656646 \nL 169.707938 103.675014 \nL 169.822085 103.69312 \nL 170.073211 103.781892 \nL 170.278677 103.730193 \nL 170.575461 103.818692 \nL 170.780927 103.801995 \nL 171.009222 103.837575 \nL 171.169029 103.855471 \nL 171.328836 103.838637 \nL 171.511473 103.839226 \nL 171.739768 103.874522 \nL 171.899575 103.89225 \nL 172.105041 103.91004 \nL 172.333337 103.876278 \nL 172.561632 103.911249 \nL 172.858416 103.826483 \nL 173.063882 103.844241 \nL 173.20086 103.878802 \nL 173.406326 103.896424 \nL 173.566133 103.913867 \nL 173.725939 103.897296 \nL 173.840087 103.948511 \nL 174.251019 104.118548 \nL 174.410826 104.13557 \nL 174.570633 104.118811 \nL 174.890247 104.018168 \nL 175.118542 104.052129 \nL 175.25552 104.085859 \nL 175.438156 104.086059 \nL 175.712111 104.019546 \nL 176.008895 104.103355 \nL 176.351338 103.987372 \nL 176.556804 104.004353 \nL 176.716611 104.021207 \nL 176.922077 104.038072 \nL 177.333009 103.87386 \nL 177.492816 103.857847 \nL 177.7896 103.776614 \nL 177.903748 103.727817 \nL 178.132044 103.69598 \nL 178.360339 103.729636 \nL 178.588635 103.697914 \nL 178.862589 103.764186 \nL 179.090885 103.732527 \nL 179.36484 103.798452 \nL 179.707283 103.686433 \nL 179.981238 103.752136 \nL 180.118215 103.784878 \nL 180.39217 103.85015 \nL 180.597636 103.834705 \nL 180.734613 103.803057 \nL 180.940079 103.787727 \nL 181.145545 103.804413 \nL 181.328182 103.805013 \nL 181.487988 103.789599 \nL 181.624966 103.821909 \nL 182.013068 103.966007 \nL 182.172875 103.982178 \nL 182.309852 103.950761 \nL 182.492489 103.95115 \nL 182.766444 104.014846 \nL 182.97191 103.999421 \nL 183.245864 104.06278 \nL 183.382842 104.094355 \nL 183.656796 104.157314 \nL 183.770944 104.204344 \nL 183.95358 104.204365 \nL 184.227535 104.141984 \nL 184.524319 104.22 \nL 184.729785 104.20446 \nL 184.935251 104.22 \nL 185.277695 104.111661 \nL 185.483161 104.127285 \nL 185.665797 104.127422 \nL 185.916922 104.1738 \nL 186.236536 104.081727 \nL 186.373513 104.051183 \nL 186.510491 104.082021 \nL 186.693127 104.082211 \nL 186.852934 104.097667 \nL 187.012741 104.082547 \nL 187.400843 103.945893 \nL 187.606309 103.961528 \nL 187.788946 103.961885 \nL 187.948753 103.947029 \nL 188.177048 103.917221 \nL 188.405344 103.947965 \nL 188.861935 103.76816 \nL 189.067401 103.78389 \nL 189.204378 103.814381 \nL 189.660969 103.995415 \nL 189.934924 103.936115 \nL 190.16322 103.966428 \nL 190.391515 103.937072 \nL 190.574152 103.93745 \nL 190.779618 103.923035 \nL 190.939424 103.908547 \nL 191.281868 103.80578 \nL 191.418845 103.776635 \nL 191.66997 103.7332 \nL 191.784118 103.689387 \nL 191.966754 103.690092 \nL 192.103732 103.661209 \nL 192.400516 103.58906 \nL 192.811448 103.737238 \nL 192.971255 103.75241 \nL 193.336528 103.870233 \nL 193.564823 103.841707 \nL 193.838778 103.900545 \nL 194.112733 103.8432 \nL 194.318199 103.858225 \nL 194.637812 103.772429 \nL 194.797619 103.758519 \nL 194.957426 103.773459 \nL 195.117233 103.759581 \nL 195.29987 103.76018 \nL 195.528165 103.78962 \nL 195.733631 103.77592 \nL 196.098904 103.891377 \nL 196.30437 103.877582 \nL 196.623984 103.963767 \nL 196.852279 103.935758 \nL 197.149064 104.007265 \nL 197.3317 104.007538 \nL 197.537166 104.021985 \nL 197.719802 104.022237 \nL 197.925268 104.036631 \nL 198.267712 103.938575 \nL 198.518837 103.9812 \nL 198.747132 103.953537 \nL 198.929769 103.953874 \nL 199.158064 103.926326 \nL 199.40919 103.96872 \nL 199.637485 103.941235 \nL 199.865781 103.969508 \nL 200.048417 103.969824 \nL 200.253883 103.98406 \nL 200.41369 103.998181 \nL 200.596327 103.998465 \nL 200.733304 104.026338 \nL 200.870281 103.998875 \nL 201.052918 103.999158 \nL 201.326872 104.054674 \nL 201.509509 104.054884 \nL 201.646486 104.027547 \nL 201.897611 103.986699 \nL 202.148736 104.028199 \nL 202.536839 103.905729 \nL 202.742305 103.919818 \nL 202.902112 103.93377 \nL 203.176066 103.988718 \nL 203.427191 103.948364 \nL 203.746805 104.03026 \nL 203.99793 103.990001 \nL 204.203396 104.003827 \nL 204.454521 103.963725 \nL 204.751306 104.031542 \nL 204.933942 104.031763 \nL 205.139408 104.045453 \nL 205.367704 104.018904 \nL 205.618829 104.059395 \nL 205.892783 104.006245 \nL 206.006931 103.966365 \nL 206.235227 103.940089 \nL 206.440693 103.953779 \nL 206.668988 103.927598 \nL 206.828795 103.914624 \nL 207.125579 103.848962 \nL 207.376705 103.889263 \nL 207.696318 103.810753 \nL 207.970273 103.864197 \nL 208.244228 103.812215 \nL 208.426864 103.812699 \nL 208.65516 103.787065 \nL 208.883455 103.813908 \nL 209.13458 103.775341 \nL 209.317217 103.775867 \nL 209.477024 103.789378 \nL 209.614001 103.763681 \nL 209.819467 103.751264 \nL 210.116251 103.817146 \nL 210.344547 103.791786 \nL 210.504354 103.779263 \nL 210.70982 103.766899 \nL 210.869627 103.754429 \nL 211.234899 103.652304 \nL 211.371877 103.627017 \nL 211.577343 103.614925 \nL 211.73715 103.602676 \nL 211.965445 103.577894 \nL 212.125252 103.565719 \nL 212.330718 103.553764 \nL 212.467695 103.52874 \nL 212.695991 103.504179 \nL 212.969946 103.556456 \nL 213.152582 103.557223 \nL 213.426537 103.609269 \nL 213.586344 103.62259 \nL 213.79181 103.610678 \nL 213.997276 103.624136 \nL 214.29406 103.663217 \nL 214.590844 103.626354 \nL 214.79631 103.614505 \nL 215.047435 103.602866 \nL 215.252901 103.591079 \nL 215.572515 103.542114 \nL 215.777981 103.530443 \nL 215.983447 103.543849 \nL 216.303061 103.59518 \nL 216.531356 103.596063 \nL 216.736822 103.584392 \nL 217.056436 103.53589 \nL 217.261902 103.524335 \nL 217.513027 103.513011 \nL 217.695664 103.489028 \nL 217.992448 103.453258 \nL 218.312062 103.504126 \nL 218.631675 103.456255 \nL 218.791482 103.420086 \nL 219.019778 103.4212 \nL 219.270903 103.43469 \nL 219.522028 103.423639 \nL 219.750324 103.424743 \nL 220.024278 103.401633 \nL 220.321063 103.439684 \nL 220.549358 103.440767 \nL 220.777654 103.44184 \nL 221.074438 103.406817 \nL 221.348393 103.432387 \nL 221.713666 103.361574 \nL 222.147427 103.472342 \nL 222.467041 103.425627 \nL 222.740996 103.450956 \nL 222.992121 103.440105 \nL 223.151928 103.404882 \nL 223.494371 103.346728 \nL 223.745496 103.359976 \nL 224.179258 103.254959 \nL 224.407553 103.256263 \nL 224.704337 103.222312 \nL 225.138099 103.331482 \nL 225.389224 103.320968 \nL 225.708838 103.36988 \nL 225.937133 103.371016 \nL 226.142599 103.36026 \nL 226.393724 103.349756 \nL 226.713338 103.398332 \nL 226.918804 103.411043 \nL 227.12427 103.400298 \nL 227.489543 103.331924 \nL 227.831986 103.391992 \nL 228.083112 103.381551 \nL 228.288578 103.370921 \nL 228.539703 103.360533 \nL 228.859316 103.408488 \nL 229.064782 103.421021 \nL 229.338737 103.445404 \nL 229.612692 103.423534 \nL 229.795328 103.401307 \nL 230.137772 103.345361 \nL 230.457385 103.392906 \nL 230.640022 103.416721 \nL 230.936806 103.452449 \nL 231.210761 103.430768 \nL 231.416227 103.420254 \nL 231.644522 103.421295 \nL 231.986966 103.479786 \nL 232.238091 103.469461 \nL 232.580534 103.527657 \nL 232.991466 103.438664 \nL 233.333909 103.496682 \nL 233.562205 103.497607 \nL 233.858989 103.532609 \nL 234.110114 103.522326 \nL 234.384069 103.545857 \nL 234.612364 103.546719 \nL 235.046126 103.649086 \nL 235.228762 103.672039 \nL 235.525547 103.706431 \nL 235.776672 103.69599 \nL 236.004967 103.696653 \nL 236.164774 103.730498 \nL 236.438729 103.753451 \nL 236.644195 103.76508 \nL 236.87249 103.765647 \nL 237.077956 103.777234 \nL 237.4204 103.833307 \nL 237.671525 103.822803 \nL 237.876991 103.812225 \nL 238.128116 103.801785 \nL 238.356412 103.8023 \nL 238.607537 103.791901 \nL 238.835832 103.792427 \nL 239.201105 103.727628 \nL 239.338083 103.684267 \nL 239.726185 103.609016 \nL 240.022969 103.642673 \nL 240.319753 103.610972 \nL 240.593708 103.633588 \nL 240.822004 103.634314 \nL 241.118788 103.667739 \nL 241.461231 103.614705 \nL 241.712356 103.626312 \nL 241.940652 103.627038 \nL 242.146118 103.616923 \nL 242.328754 103.639024 \nL 242.55705 103.639739 \nL 242.808175 103.629782 \nL 243.104959 103.66286 \nL 243.356084 103.652903 \nL 243.812675 103.761011 \nL 244.200778 103.68739 \nL 244.451903 103.698735 \nL 244.634539 103.720499 \nL 244.885665 103.73177 \nL 245.13679 103.721813 \nL 245.410744 103.743704 \nL 245.63904 103.744272 \nL 246.027142 103.819091 \nL 246.278267 103.809082 \nL 246.575052 103.841276 \nL 246.963154 103.768549 \nL 247.16862 103.75855 \nL 247.374086 103.769517 \nL 247.807848 103.864608 \nL 248.241609 103.771546 \nL 248.515564 103.793005 \nL 248.835178 103.752126 \nL 249.017814 103.731791 \nL 249.291769 103.71173 \nL 249.634212 103.764396 \nL 249.930996 103.734073 \nL 250.113633 103.713875 \nL 250.319099 103.724726 \nL 250.478906 103.694203 \nL 250.75286 103.674352 \nL 251.118133 103.737017 \nL 251.414917 103.706967 \nL 251.711702 103.738478 \nL 252.099804 103.667854 \nL 252.350929 103.678768 \nL 252.716202 103.618616 \nL 252.990157 103.639802 \nL 253.3326 103.589996 \nL 253.515237 103.570271 \nL 253.652214 103.611308 \nL 253.971828 103.632537 \nL 254.177294 103.643261 \nL 254.474078 103.654228 \nL 254.793692 103.634955 \nL 255.295942 103.737038 \nL 255.569897 103.7377 \nL 255.752533 103.697988 \nL 256.117806 103.658854 \nL 256.43742 103.679756 \nL 256.894011 103.60112 \nL 257.190795 103.612002 \nL 257.761534 103.484507 \nL 258.172466 103.54551 \nL 258.560568 103.497292 \nL 258.925841 103.538119 \nL 259.450921 103.431441 \nL 259.793364 103.46229 \nL 260.112978 103.443816 \nL 260.455422 103.474539 \nL 260.889183 103.407595 \nL 261.07182 103.369197 \nL 261.368604 103.360659 \nL 261.665388 103.371646 \nL 261.939343 103.372761 \nL 262.327445 103.422956 \nL 262.669888 103.395156 \nL 262.921014 103.386461 \nL 263.217798 103.377976 \nL 263.423264 103.349798 \nL 263.720048 103.341376 \nL 264.016832 103.352269 \nL 264.290787 103.353404 \nL 264.564742 103.35454 \nL 264.930014 103.317645 \nL 265.340946 103.376893 \nL 265.706219 103.340104 \nL 266.025833 103.360533 \nL 266.345447 103.342764 \nL 266.573742 103.324669 \nL 266.847697 103.325825 \nL 267.19014 103.355759 \nL 267.418436 103.375663 \nL 267.760879 103.405439 \nL 268.21747 103.331577 \nL 268.537084 103.351775 \nL 268.879528 103.3249 \nL 269.107823 103.307036 \nL 269.404607 103.298898 \nL 269.747051 103.328517 \nL 270.043835 103.320379 \nL 270.386278 103.349882 \nL 270.842869 103.277039 \nL 271.208142 103.31591 \nL 271.482097 103.317056 \nL 271.756052 103.318202 \nL 272.007177 103.328527 \nL 272.395279 103.376473 \nL 272.783382 103.331703 \nL 272.988848 103.304818 \nL 273.285632 103.296827 \nL 273.513927 103.279352 \nL 273.856371 103.253193 \nL 274.061837 103.226508 \nL 274.312962 103.236833 \nL 274.632576 103.25662 \nL 275.134826 103.167281 \nL 275.43161 103.177837 \nL 275.682735 103.188152 \nL 276.207815 103.290813 \nL 276.550258 103.264958 \nL 276.847042 103.275325 \nL 277.098168 103.285472 \nL 277.303634 103.259133 \nL 277.737395 103.197678 \nL 278.079838 103.22635 \nL 278.422282 103.200811 \nL 278.696236 103.202062 \nL 279.03868 103.176639 \nL 279.381123 103.205174 \nL 279.746396 103.170961 \nL 280.294305 103.280845 \nL 280.59109 103.273149 \nL 280.819385 103.256263 \nL 281.116169 103.248619 \nL 281.367295 103.240797 \nL 281.778227 103.189256 \nL 282.211988 103.253298 \nL 282.440284 103.271992 \nL 282.988193 103.380342 \nL 283.421955 103.320179 \nL 283.467614 103.338001 \nL 283.467614 103.338001 \n\" clip-path=\"url(#p55f7a1a11d)\" style=\"fill: none; stroke: #ff7f0e; stroke-width: 1.5; stroke-linecap: square\"/>\n   </g>\n   <g id=\"line2d_15\">\n    <path d=\"M 43.78125 104.22 \nL 294.88125 104.22 \n\" clip-path=\"url(#p55f7a1a11d)\" style=\"fill: none; stroke-dasharray: 5.55,2.4; stroke-dashoffset: 0; stroke: #000000; stroke-width: 1.5\"/>\n   </g>\n   <g id=\"patch_3\">\n    <path d=\"M 43.78125 201.24 \nL 43.78125 7.2 \n\" style=\"fill: none; stroke: #000000; stroke-width: 0.8; stroke-linejoin: miter; stroke-linecap: square\"/>\n   </g>\n   <g id=\"patch_4\">\n    <path d=\"M 294.88125 201.24 \nL 294.88125 7.2 \n\" style=\"fill: none; stroke: #000000; stroke-width: 0.8; stroke-linejoin: miter; stroke-linecap: square\"/>\n   </g>\n   <g id=\"patch_5\">\n    <path d=\"M 43.78125 201.24 \nL 294.88125 201.24 \n\" style=\"fill: none; stroke: #000000; stroke-width: 0.8; stroke-linejoin: miter; stroke-linecap: square\"/>\n   </g>\n   <g id=\"patch_6\">\n    <path d=\"M 43.78125 7.2 \nL 294.88125 7.2 \n\" style=\"fill: none; stroke: #000000; stroke-width: 0.8; stroke-linejoin: miter; stroke-linecap: square\"/>\n   </g>\n   <g id=\"legend_1\">\n    <g id=\"patch_7\">\n     <path d=\"M 182.759375 44.55625 \nL 287.88125 44.55625 \nQ 289.88125 44.55625 289.88125 42.55625 \nL 289.88125 14.2 \nQ 289.88125 12.2 287.88125 12.2 \nL 182.759375 12.2 \nQ 180.759375 12.2 180.759375 14.2 \nL 180.759375 42.55625 \nQ 180.759375 44.55625 182.759375 44.55625 \nz\n\" style=\"fill: #ffffff; opacity: 0.8; stroke: #cccccc; stroke-linejoin: miter\"/>\n    </g>\n    <g id=\"line2d_16\">\n     <path d=\"M 184.759375 20.298438 \nL 194.759375 20.298438 \nL 204.759375 20.298438 \n\" style=\"fill: none; stroke: #1f77b4; stroke-width: 1.5; stroke-linecap: square\"/>\n    </g>\n    <g id=\"text_15\">\n     <!-- P(coin=heads) -->\n     <g transform=\"translate(212.759375 23.798438) scale(0.1 -0.1)\">\n      <defs>\n       <path id=\"DejaVuSans-50\" d=\"M 1259 4147 \nL 1259 2394 \nL 2053 2394 \nQ 2494 2394 2734 2622 \nQ 2975 2850 2975 3272 \nQ 2975 3691 2734 3919 \nQ 2494 4147 2053 4147 \nL 1259 4147 \nz\nM 628 4666 \nL 2053 4666 \nQ 2838 4666 3239 4311 \nQ 3641 3956 3641 3272 \nQ 3641 2581 3239 2228 \nQ 2838 1875 2053 1875 \nL 1259 1875 \nL 1259 0 \nL 628 0 \nL 628 4666 \nz\n\" transform=\"scale(0.015625)\"/>\n       <path id=\"DejaVuSans-28\" d=\"M 1984 4856 \nQ 1566 4138 1362 3434 \nQ 1159 2731 1159 2009 \nQ 1159 1288 1364 580 \nQ 1569 -128 1984 -844 \nL 1484 -844 \nQ 1016 -109 783 600 \nQ 550 1309 550 2009 \nQ 550 2706 781 3412 \nQ 1013 4119 1484 4856 \nL 1984 4856 \nz\n\" transform=\"scale(0.015625)\"/>\n       <path id=\"DejaVuSans-63\" d=\"M 3122 3366 \nL 3122 2828 \nQ 2878 2963 2633 3030 \nQ 2388 3097 2138 3097 \nQ 1578 3097 1268 2742 \nQ 959 2388 959 1747 \nQ 959 1106 1268 751 \nQ 1578 397 2138 397 \nQ 2388 397 2633 464 \nQ 2878 531 3122 666 \nL 3122 134 \nQ 2881 22 2623 -34 \nQ 2366 -91 2075 -91 \nQ 1284 -91 818 406 \nQ 353 903 353 1747 \nQ 353 2603 823 3093 \nQ 1294 3584 2113 3584 \nQ 2378 3584 2631 3529 \nQ 2884 3475 3122 3366 \nz\n\" transform=\"scale(0.015625)\"/>\n       <path id=\"DejaVuSans-6e\" d=\"M 3513 2113 \nL 3513 0 \nL 2938 0 \nL 2938 2094 \nQ 2938 2591 2744 2837 \nQ 2550 3084 2163 3084 \nQ 1697 3084 1428 2787 \nQ 1159 2491 1159 1978 \nL 1159 0 \nL 581 0 \nL 581 3500 \nL 1159 3500 \nL 1159 2956 \nQ 1366 3272 1645 3428 \nQ 1925 3584 2291 3584 \nQ 2894 3584 3203 3211 \nQ 3513 2838 3513 2113 \nz\n\" transform=\"scale(0.015625)\"/>\n       <path id=\"DejaVuSans-3d\" d=\"M 678 2906 \nL 4684 2906 \nL 4684 2381 \nL 678 2381 \nL 678 2906 \nz\nM 678 1631 \nL 4684 1631 \nL 4684 1100 \nL 678 1100 \nL 678 1631 \nz\n\" transform=\"scale(0.015625)\"/>\n       <path id=\"DejaVuSans-68\" d=\"M 3513 2113 \nL 3513 0 \nL 2938 0 \nL 2938 2094 \nQ 2938 2591 2744 2837 \nQ 2550 3084 2163 3084 \nQ 1697 3084 1428 2787 \nQ 1159 2491 1159 1978 \nL 1159 0 \nL 581 0 \nL 581 4863 \nL 1159 4863 \nL 1159 2956 \nQ 1366 3272 1645 3428 \nQ 1925 3584 2291 3584 \nQ 2894 3584 3203 3211 \nQ 3513 2838 3513 2113 \nz\n\" transform=\"scale(0.015625)\"/>\n       <path id=\"DejaVuSans-29\" d=\"M 513 4856 \nL 1013 4856 \nQ 1481 4119 1714 3412 \nQ 1947 2706 1947 2009 \nQ 1947 1309 1714 600 \nQ 1481 -109 1013 -844 \nL 513 -844 \nQ 928 -128 1133 580 \nQ 1338 1288 1338 2009 \nQ 1338 2731 1133 3434 \nQ 928 4138 513 4856 \nz\n\" transform=\"scale(0.015625)\"/>\n      </defs>\n      <use xlink:href=\"#DejaVuSans-50\"/>\n      <use xlink:href=\"#DejaVuSans-28\" x=\"60.302734\"/>\n      <use xlink:href=\"#DejaVuSans-63\" x=\"99.316406\"/>\n      <use xlink:href=\"#DejaVuSans-6f\" x=\"154.296875\"/>\n      <use xlink:href=\"#DejaVuSans-69\" x=\"215.478516\"/>\n      <use xlink:href=\"#DejaVuSans-6e\" x=\"243.261719\"/>\n      <use xlink:href=\"#DejaVuSans-3d\" x=\"306.640625\"/>\n      <use xlink:href=\"#DejaVuSans-68\" x=\"390.429688\"/>\n      <use xlink:href=\"#DejaVuSans-65\" x=\"453.808594\"/>\n      <use xlink:href=\"#DejaVuSans-61\" x=\"515.332031\"/>\n      <use xlink:href=\"#DejaVuSans-64\" x=\"576.611328\"/>\n      <use xlink:href=\"#DejaVuSans-73\" x=\"640.087891\"/>\n      <use xlink:href=\"#DejaVuSans-29\" x=\"692.1875\"/>\n     </g>\n    </g>\n    <g id=\"line2d_17\">\n     <path d=\"M 184.759375 34.976562 \nL 194.759375 34.976562 \nL 204.759375 34.976562 \n\" style=\"fill: none; stroke: #ff7f0e; stroke-width: 1.5; stroke-linecap: square\"/>\n    </g>\n    <g id=\"text_16\">\n     <!-- P(coin=tails) -->\n     <g transform=\"translate(212.759375 38.476562) scale(0.1 -0.1)\">\n      <use xlink:href=\"#DejaVuSans-50\"/>\n      <use xlink:href=\"#DejaVuSans-28\" x=\"60.302734\"/>\n      <use xlink:href=\"#DejaVuSans-63\" x=\"99.316406\"/>\n      <use xlink:href=\"#DejaVuSans-6f\" x=\"154.296875\"/>\n      <use xlink:href=\"#DejaVuSans-69\" x=\"215.478516\"/>\n      <use xlink:href=\"#DejaVuSans-6e\" x=\"243.261719\"/>\n      <use xlink:href=\"#DejaVuSans-3d\" x=\"306.640625\"/>\n      <use xlink:href=\"#DejaVuSans-74\" x=\"390.429688\"/>\n      <use xlink:href=\"#DejaVuSans-61\" x=\"429.638672\"/>\n      <use xlink:href=\"#DejaVuSans-69\" x=\"490.917969\"/>\n      <use xlink:href=\"#DejaVuSans-6c\" x=\"518.701172\"/>\n      <use xlink:href=\"#DejaVuSans-73\" x=\"546.484375\"/>\n      <use xlink:href=\"#DejaVuSans-29\" x=\"598.583984\"/>\n     </g>\n    </g>\n   </g>\n  </g>\n </g>\n <defs>\n  <clipPath id=\"p55f7a1a11d\">\n   <rect x=\"43.78125\" y=\"7.2\" width=\"251.1\" height=\"194.04\"/>\n  </clipPath>\n </defs>\n</svg>\n"
          },
          "metadata": {}
        }
      ]
    }
  ]
}